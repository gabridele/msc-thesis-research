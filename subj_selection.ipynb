{
 "cells": [
  {
   "cell_type": "code",
   "execution_count": 1,
   "metadata": {},
   "outputs": [],
   "source": [
    "import numpy as np\n",
    "import pandas as pd\n",
    "import os\n",
    "import glob\n",
    "import json\n",
    "from scipy.stats import ttest_ind\n",
    "import pingouin as pg"
   ]
  },
  {
   "cell_type": "code",
   "execution_count": 2,
   "metadata": {},
   "outputs": [],
   "source": [
    "# Define variables\n",
    "\n",
    "# Raw dataset path\n",
    "raw_dataset_path = \"/home/gabridele/Desktop/psych_dataset/\"\n",
    "\n",
    "# Preprocessed dataset path\n",
    "preproc_dataset =  \"/home/gabridele/Desktop/preproc_psych/\"\n",
    "\n",
    "# Participants file path\n",
    "participants_file = \"/home/gabridele/Desktop/psych_dataset/participants.tsv\"\n",
    "\n",
    "# Name and location of output excel file\n",
    "output_excel_file = f\"fd_values_scap-fMRI.xlsx\"\n",
    "\n",
    "# Name and location of transposed excel file\n",
    "transposed_excel_file = f\"fd_values_scap-fMRI_transposed.xlsx\"\n"
   ]
  },
  {
   "cell_type": "markdown",
   "metadata": {},
   "source": [
    "1. Look at data just after preproc"
   ]
  },
  {
   "cell_type": "code",
   "execution_count": 3,
   "metadata": {},
   "outputs": [
    {
     "name": "stdout",
     "output_type": "stream",
     "text": [
      "Data after preprocessing: 272\n"
     ]
    },
    {
     "data": {
      "text/html": [
       "<div>\n",
       "<style scoped>\n",
       "    .dataframe tbody tr th:only-of-type {\n",
       "        vertical-align: middle;\n",
       "    }\n",
       "\n",
       "    .dataframe tbody tr th {\n",
       "        vertical-align: top;\n",
       "    }\n",
       "\n",
       "    .dataframe thead th {\n",
       "        text-align: right;\n",
       "    }\n",
       "</style>\n",
       "<table border=\"1\" class=\"dataframe\">\n",
       "  <thead>\n",
       "    <tr style=\"text-align: right;\">\n",
       "      <th></th>\n",
       "      <th>rest</th>\n",
       "      <th>bart</th>\n",
       "      <th>scap</th>\n",
       "      <th>stopsignal</th>\n",
       "      <th>taskswitch</th>\n",
       "      <th>group</th>\n",
       "    </tr>\n",
       "  </thead>\n",
       "  <tbody>\n",
       "    <tr>\n",
       "      <th>sub-10159</th>\n",
       "      <td>1.0</td>\n",
       "      <td>1.0</td>\n",
       "      <td>1.0</td>\n",
       "      <td>1.0</td>\n",
       "      <td>1.0</td>\n",
       "      <td>CTRL</td>\n",
       "    </tr>\n",
       "    <tr>\n",
       "      <th>sub-10171</th>\n",
       "      <td>1.0</td>\n",
       "      <td>1.0</td>\n",
       "      <td>1.0</td>\n",
       "      <td>1.0</td>\n",
       "      <td>1.0</td>\n",
       "      <td>CTRL</td>\n",
       "    </tr>\n",
       "    <tr>\n",
       "      <th>sub-10189</th>\n",
       "      <td>1.0</td>\n",
       "      <td>1.0</td>\n",
       "      <td>1.0</td>\n",
       "      <td>1.0</td>\n",
       "      <td>1.0</td>\n",
       "      <td>CTRL</td>\n",
       "    </tr>\n",
       "    <tr>\n",
       "      <th>sub-10193</th>\n",
       "      <td>1.0</td>\n",
       "      <td>1.0</td>\n",
       "      <td>1.0</td>\n",
       "      <td>1.0</td>\n",
       "      <td>1.0</td>\n",
       "      <td>CTRL</td>\n",
       "    </tr>\n",
       "    <tr>\n",
       "      <th>sub-10206</th>\n",
       "      <td>1.0</td>\n",
       "      <td>1.0</td>\n",
       "      <td>1.0</td>\n",
       "      <td>1.0</td>\n",
       "      <td>1.0</td>\n",
       "      <td>CTRL</td>\n",
       "    </tr>\n",
       "  </tbody>\n",
       "</table>\n",
       "</div>"
      ],
      "text/plain": [
       "           rest  bart  scap  stopsignal  taskswitch group\n",
       "sub-10159   1.0   1.0   1.0         1.0         1.0  CTRL\n",
       "sub-10171   1.0   1.0   1.0         1.0         1.0  CTRL\n",
       "sub-10189   1.0   1.0   1.0         1.0         1.0  CTRL\n",
       "sub-10193   1.0   1.0   1.0         1.0         1.0  CTRL\n",
       "sub-10206   1.0   1.0   1.0         1.0         1.0  CTRL"
      ]
     },
     "metadata": {},
     "output_type": "display_data"
    },
    {
     "name": "stdout",
     "output_type": "stream",
     "text": [
      "group\n",
      "CTRL    130\n",
      "SCZ      50\n",
      "BPLR     49\n",
      "ADHD     43\n",
      "Name: count, dtype: int64\n"
     ]
    }
   ],
   "source": [
    "\n",
    "participants_df = pd.read_csv(participants_file, sep='\\t')\n",
    "\n",
    "# Extract the subject IDs from the 'participant_id' column\n",
    "subjects = participants_df['participant_id'].tolist()\n",
    "\n",
    "# Define the tasks\n",
    "TASKS = ['rest', 'bart', 'scap', 'stopsignal', 'taskswitch']\n",
    "\n",
    "# Preallocate output array\n",
    "output = np.zeros((len(subjects), len(TASKS)))\n",
    "\n",
    "for i, s in enumerate(subjects):\n",
    "    # Construct the file path for the subject's directory\n",
    "    subject_dir = os.path.join('/home/gabridele/Desktop/preproc_psych', s, 'func')\n",
    "    for j, task in enumerate(TASKS):\n",
    "        # Check if any file exists in the subject's directory for each task\n",
    "        file_path = os.path.join(subject_dir, '*')\n",
    "        output[i, j] = len(glob.glob(file_path)) > 0\n",
    "\n",
    "\n",
    "# Create DataFrame from the output array\n",
    "df = pd.DataFrame(data=output, index=subjects, columns=TASKS)\n",
    "\n",
    "# Generate a group variable based on subject IDs\n",
    "df['group'] = np.where(df.index.str.startswith('sub-1'), 'CTRL',\n",
    "                       np.where(df.index.str.startswith('sub-5'), 'SCZ',\n",
    "                                np.where(df.index.str.startswith('sub-6'), 'BPLR',\n",
    "                                         np.where(df.index.str.startswith('sub-7'), 'ADHD', 0))))\n",
    "\n",
    "# Print information about the DataFrame\n",
    "print('Data after preprocessing:', len(df))\n",
    "display(df.head(5))\n",
    "print(df['group'].value_counts())\n",
    "\n",
    "df.to_csv('/home/gabridele/Desktop/preproc_psych/preproc_sub_list.csv', index=True)\n",
    "\n",
    "#counting of subj is not realiable bc i copied raw folders into preproc folder. so there's subjs that didnt undergo preproc\n",
    "# remove 5 ctrl and 2 adhd\n"
   ]
  },
  {
   "cell_type": "code",
   "execution_count": 4,
   "metadata": {},
   "outputs": [
    {
     "name": "stdout",
     "output_type": "stream",
     "text": [
      "    participant_id diagnosis  age gender  bart  bht  dwi  pamenc  pamret  \\\n",
      "0        sub-10159   CONTROL   30      F   1.0  NaN  1.0     NaN     NaN   \n",
      "1        sub-10171   CONTROL   24      M   1.0  1.0  1.0     NaN     NaN   \n",
      "2        sub-10189   CONTROL   49      M   1.0  NaN  1.0     NaN     NaN   \n",
      "3        sub-10193   CONTROL   40      M   1.0  NaN  1.0     NaN     NaN   \n",
      "4        sub-10206   CONTROL   21      M   1.0  NaN  1.0     NaN     NaN   \n",
      "..             ...       ...  ...    ...   ...  ...  ...     ...     ...   \n",
      "267      sub-70079      ADHD   21      M   1.0  1.0  1.0     1.0     1.0   \n",
      "268      sub-70080      ADHD   48      M   1.0  1.0  1.0     1.0     1.0   \n",
      "269      sub-70081      ADHD   50      M   1.0  1.0  1.0     1.0     1.0   \n",
      "270      sub-70083      ADHD   46      F   1.0  1.0  1.0     1.0     1.0   \n",
      "271      sub-70086      ADHD   48      M   1.0  1.0  1.0     1.0     1.0   \n",
      "\n",
      "     rest  scap  stopsignal  T1w  taskswitch  ScannerSerialNumber  \\\n",
      "0     1.0   1.0         1.0  1.0         1.0              35343.0   \n",
      "1     1.0   1.0         1.0  1.0         1.0              35343.0   \n",
      "2     1.0   1.0         1.0  1.0         1.0              35343.0   \n",
      "3     NaN   NaN         NaN  1.0         NaN              35343.0   \n",
      "4     1.0   1.0         1.0  1.0         1.0              35343.0   \n",
      "..    ...   ...         ...  ...         ...                  ...   \n",
      "267   1.0   1.0         1.0  1.0         1.0              35426.0   \n",
      "268   1.0   1.0         1.0  1.0         1.0              35426.0   \n",
      "269   1.0   1.0         1.0  1.0         1.0              35426.0   \n",
      "270   1.0   1.0         1.0  1.0         1.0              35426.0   \n",
      "271   1.0   1.0         1.0  1.0         1.0              35426.0   \n",
      "\n",
      "    ghost_NoGhost  \n",
      "0        No_ghost  \n",
      "1        No_ghost  \n",
      "2        No_ghost  \n",
      "3        No_ghost  \n",
      "4        No_ghost  \n",
      "..            ...  \n",
      "267      No_ghost  \n",
      "268      No_ghost  \n",
      "269      No_ghost  \n",
      "270      No_ghost  \n",
      "271      No_ghost  \n",
      "\n",
      "[272 rows x 16 columns]\n"
     ]
    }
   ],
   "source": [
    "print(participants_df)"
   ]
  },
  {
   "cell_type": "markdown",
   "metadata": {},
   "source": [
    "2. Excluding ghost and no dwi"
   ]
  },
  {
   "cell_type": "code",
   "execution_count": 5,
   "metadata": {},
   "outputs": [],
   "source": [
    "participants_df = pd.read_csv(participants_file, delimiter='\\t')\n",
    "\n",
    "# Load missing_files_info.csv into missing_files_df\n",
    "missing_files_df = pd.read_csv('/home/gabridele/Desktop/preproc_psych/missing_files_info.csv')\n",
    "\n",
    "# Extract IDs of subjects marked as \"ghost\" from participants_df\n",
    "ghost_ids = set(participants_df[participants_df['ghost_NoGhost'] == 'ghost']['participant_id'])\n",
    "\n",
    "# Extract IDs from missing_files_df\n",
    "missing_ids = set(missing_files_df['Subject'])\n",
    "\n",
    "# Combine IDs from both sources into a single set\n",
    "ids_to_drop = ghost_ids.union(missing_ids)\n",
    "\n",
    "# Add name to subject IDs column and drop rows from df where subject_id is in ids_to_drop\n",
    "df = df.rename_axis('participant_id').reset_index()\n",
    "df = df[~df['participant_id'].isin(ids_to_drop)]\n",
    "\n",
    "# Save the modified DataFrame to a new CSV file\n",
    "df.to_csv('/home/gabridele/Desktop/preproc_psych/modified_dataframe.csv', index=False)"
   ]
  },
  {
   "cell_type": "code",
   "execution_count": 6,
   "metadata": {},
   "outputs": [
    {
     "name": "stdout",
     "output_type": "stream",
     "text": [
      "    participant_id  rest  bart  scap  stopsignal  taskswitch group\n",
      "0        sub-10159   1.0   1.0   1.0         1.0         1.0  CTRL\n",
      "1        sub-10171   1.0   1.0   1.0         1.0         1.0  CTRL\n",
      "2        sub-10189   1.0   1.0   1.0         1.0         1.0  CTRL\n",
      "4        sub-10206   1.0   1.0   1.0         1.0         1.0  CTRL\n",
      "5        sub-10217   1.0   1.0   1.0         1.0         1.0  CTRL\n",
      "..             ...   ...   ...   ...         ...         ...   ...\n",
      "267      sub-70079   1.0   1.0   1.0         1.0         1.0  ADHD\n",
      "268      sub-70080   1.0   1.0   1.0         1.0         1.0  ADHD\n",
      "269      sub-70081   1.0   1.0   1.0         1.0         1.0  ADHD\n",
      "270      sub-70083   1.0   1.0   1.0         1.0         1.0  ADHD\n",
      "271      sub-70086   1.0   1.0   1.0         1.0         1.0  ADHD\n",
      "\n",
      "[211 rows x 7 columns]\n"
     ]
    }
   ],
   "source": [
    "print(df)"
   ]
  },
  {
   "cell_type": "markdown",
   "metadata": {},
   "source": [
    "Hearne excluded subjs that didnt have all of the task files. so computed an rsm mean across all the task files. maybe thats why im getting different results. not to mention the different preproc"
   ]
  },
  {
   "cell_type": "markdown",
   "metadata": {},
   "source": [
    "3. Relative RMS"
   ]
  },
  {
   "cell_type": "code",
   "execution_count": 7,
   "metadata": {},
   "outputs": [
    {
     "name": "stdout",
     "output_type": "stream",
     "text": [
      "Dropped data due to RMS head motion\n",
      "group\n",
      "CTRL    5\n",
      "BPLR    3\n",
      "SCZ     2\n",
      "ADHD    1\n",
      "Name: count, dtype: int64\n",
      "Data after RMS: 200\n",
      "group\n",
      "CTRL    101\n",
      "BPLR     38\n",
      "ADHD     34\n",
      "SCZ      27\n",
      "Name: count, dtype: int64\n"
     ]
    },
    {
     "name": "stderr",
     "output_type": "stream",
     "text": [
      "/home/gabridele/miniconda3/envs/neuroimg/lib/python3.12/site-packages/numpy/core/fromnumeric.py:3504: RuntimeWarning: Mean of empty slice.\n",
      "  return _methods._mean(a, axis=axis, dtype=dtype,\n",
      "/home/gabridele/miniconda3/envs/neuroimg/lib/python3.12/site-packages/numpy/core/_methods.py:121: RuntimeWarning: invalid value encountered in divide\n",
      "  ret = um.true_divide(\n"
     ]
    }
   ],
   "source": [
    "# relative RMS cutoff in mm (Satterthwaite et al. 2013)\n",
    "RMSCutOff = 0.25\n",
    "TASKS = ['scap']\n",
    "# length cutoff (i.e., 20% of data)\n",
    "RMS_length_CutOff = 0.20\n",
    "\n",
    "# preallocate RMS array\n",
    "RMS_data = np.zeros((len(df.index),len(TASKS)+2))\n",
    "labels = []\n",
    "for j, task in enumerate(TASKS):\n",
    "    for s,subj in enumerate(df[\"participant_id\"]):  \n",
    "        # load the subjects confound data\n",
    "        df_confounds = pd.read_csv(preproc_dataset + str(subj) + '/func/' + str(subj) + '_task-' + task + '_bold_confounds.tsv', sep='\\t', header=0)\n",
    "\n",
    "        # get 6 motions parameters\n",
    "        motionParams = df_confounds[['X','Y','Z','RotX','RotY','RotZ']].values\n",
    "\n",
    "        # calculate relative RMS\n",
    "        displacement = np.zeros(np.shape(motionParams))\n",
    "        for tr in range(1,len(motionParams)):\n",
    "            for dim in range(0,3):\n",
    "                displacement[tr,dim] = motionParams[tr,dim] - motionParams[tr-1,dim];\n",
    "\n",
    "        relativeRMS = np.sqrt(displacement[:,0]**2 + displacement[:,1]**2+ displacement[:,2]**2)\n",
    "        \n",
    "        # save the data out\n",
    "        RMS_data[s,j] = np.mean(relativeRMS)\n",
    "        if (np.sum(relativeRMS > RMSCutOff) / float(len(relativeRMS))) > RMS_length_CutOff:\n",
    "            RMS_data[s,-1] = 1\n",
    "    labels.append('RMS-mean-'+task)\n",
    "labels.append('RMS-avg')\n",
    "RMS_data[:,-2] = np.mean(RMS_data[:,0:-3],axis=1)\n",
    "labels.append('RMS-exclude')\n",
    "\n",
    "# put the data in the df\n",
    "RMS_df = pd.DataFrame(data=RMS_data,index=df.index,columns=labels)\n",
    "df = pd.concat([df,RMS_df],axis=1)\n",
    "\n",
    "# show excluded subjects\n",
    "print('Dropped data due to RMS head motion')\n",
    "print(df['group'].loc[df['RMS-exclude']==1].value_counts())\n",
    "\n",
    "# drop the data and print\n",
    "df = df[df['RMS-exclude']==0]\n",
    "print('Data after RMS:',len(df))\n",
    "print(df['group'].value_counts())"
   ]
  },
  {
   "cell_type": "code",
   "execution_count": 8,
   "metadata": {},
   "outputs": [
    {
     "name": "stdout",
     "output_type": "stream",
     "text": [
      "    participant_id  rest  bart  scap  stopsignal  taskswitch group  \\\n",
      "0        sub-10159   1.0   1.0   1.0         1.0         1.0  CTRL   \n",
      "1        sub-10171   1.0   1.0   1.0         1.0         1.0  CTRL   \n",
      "2        sub-10189   1.0   1.0   1.0         1.0         1.0  CTRL   \n",
      "4        sub-10206   1.0   1.0   1.0         1.0         1.0  CTRL   \n",
      "5        sub-10217   1.0   1.0   1.0         1.0         1.0  CTRL   \n",
      "..             ...   ...   ...   ...         ...         ...   ...   \n",
      "267      sub-70079   1.0   1.0   1.0         1.0         1.0  ADHD   \n",
      "268      sub-70080   1.0   1.0   1.0         1.0         1.0  ADHD   \n",
      "269      sub-70081   1.0   1.0   1.0         1.0         1.0  ADHD   \n",
      "270      sub-70083   1.0   1.0   1.0         1.0         1.0  ADHD   \n",
      "271      sub-70086   1.0   1.0   1.0         1.0         1.0  ADHD   \n",
      "\n",
      "     RMS-mean-scap  RMS-avg  RMS-exclude  \n",
      "0         0.088228      NaN          0.0  \n",
      "1         0.067843      NaN          0.0  \n",
      "2         0.070066      NaN          0.0  \n",
      "4         0.030006      NaN          0.0  \n",
      "5         0.025066      NaN          0.0  \n",
      "..             ...      ...          ...  \n",
      "267       0.086725      NaN          0.0  \n",
      "268       0.079132      NaN          0.0  \n",
      "269       0.043228      NaN          0.0  \n",
      "270       0.093685      NaN          0.0  \n",
      "271       0.086047      NaN          0.0  \n",
      "\n",
      "[200 rows x 10 columns]\n"
     ]
    }
   ],
   "source": [
    "print(df)"
   ]
  },
  {
   "cell_type": "markdown",
   "metadata": {},
   "source": [
    "4. Basic demos"
   ]
  },
  {
   "cell_type": "code",
   "execution_count": 9,
   "metadata": {},
   "outputs": [],
   "source": [
    "def all_groups_ttest(df, labels=['age','sex','site']):\n",
    "    output = \"\"\n",
    "    groups = df['group'].unique()\n",
    "    for label in labels:\n",
    "        output += f\"t-test, Var={label}\\n\"\n",
    "        for i, group1 in enumerate(groups):\n",
    "            for group2 in groups[i+1:]:\n",
    "                x = df[df['group'] == group1][label].values\n",
    "                y = df[df['group'] == group2][label].values\n",
    "                t, p = ttest_ind(x, y, equal_var=False)\n",
    "                output += f\"\\tComparing {group1} vs {group2}:\\n\"\n",
    "                output += f\"\\t  t = {t}\\n\"\n",
    "                output += f\"\\t  p = {p}\\n\"\n",
    "                \n",
    "    output += \"\\nMeans:\\n\"\n",
    "    output += str(df.groupby(['group'])[labels].mean()) + \"\\n\"\n",
    "    output += \"\\nStd:\\n\"\n",
    "    output += str(df.groupby(['group'])[labels].std()) + \"\\n\"\n",
    "\n",
    "    return output\n",
    "\n",
    "def all_groups_stats(df, labels=['age','sex','site']):\n",
    "    groups = df['group'].unique()\n",
    "    for label in labels:\n",
    "        for i, group1 in enumerate(groups):\n",
    "            for group2 in groups[i+1:]:\n",
    "                if label == 'sex' or label == 'site':\n",
    "                    new_df = df.loc[(df['group'] == group1) | (df['group'] == group2)]\n",
    "                    expected, observed, stats = pg.chi2_independence(data=new_df, x=label, y='group')\n",
    "                    print(f\"Chi-square test for {label} between {group1} and {group2}:\")\n",
    "                    print(f\"\\t Chi2 = {np.round(stats.chi2[0], 3)}\")\n",
    "                    print(f\"\\t p = {np.round(stats.pval[0], 4)}\")\n",
    "                else:\n",
    "                    x = df[df['group'] == group1][label].values\n",
    "                    y = df[df['group'] == group2][label].values\n",
    "                    t, p = ttest_ind(x, y, equal_var=False)\n",
    "                    print(f\"t-test for {label} between {group1} and {group2}:\")\n",
    "                    print(f\"\\t t = {np.round(t, 3)}\")\n",
    "                    print(f\"\\t p = {p}\")"
   ]
  },
  {
   "cell_type": "code",
   "execution_count": 35,
   "metadata": {},
   "outputs": [
    {
     "name": "stdout",
     "output_type": "stream",
     "text": [
      "group\n",
      "CTRL    101\n",
      "BPLR     38\n",
      "ADHD     34\n",
      "SCZ      27\n",
      "Name: count, dtype: int64\n",
      "             age        age       sex       sex      site      site\n",
      "group                                                              \n",
      "ADHD   32.529412  32.529412  0.529412  0.529412  0.500000  0.500000\n",
      "BPLR   34.500000  34.500000  0.500000  0.500000  0.473684  0.473684\n",
      "CTRL   31.386139  31.386139  0.485149  0.485149  0.811881  0.811881\n",
      "SCZ    36.185185  36.185185  0.740741  0.740741  0.370370  0.370370\n"
     ]
    }
   ],
   "source": [
    "df_participants = pd.read_csv(participants_file, sep='\\t', header=0)\n",
    "\n",
    "# Read demographics file\n",
    "demographics_file = '/home/gabridele/Desktop/psych_dataset/phenotype/demographics.tsv'\n",
    "df_demo = pd.read_csv(demographics_file, sep='\\t', header=0)\n",
    "\n",
    "# Read WAIS file\n",
    "wais_file = '/home/gabridele/Desktop/psych_dataset/phenotype/wais.tsv'\n",
    "df_wais = pd.read_csv(wais_file, sep='\\t', header=0)\n",
    "\n",
    "#preallocate\n",
    "age = np.zeros((len(df.index)))\n",
    "sex = age.copy()\n",
    "site = age.copy()\n",
    "edu_years = age.copy()\n",
    "hand = age.copy()\n",
    "wais_mr = age.copy() \n",
    "wais_lns = age.copy()\n",
    "wais_voc = age.copy()\n",
    "\n",
    "for subidx,subj in enumerate(df[\"participant_id\"]):\n",
    "    idx = df_participants.participant_id==subj\n",
    "    \n",
    "    #age\n",
    "    age[subidx] = np.int64(df_participants.age[idx].values[0])\n",
    "    \n",
    "    #sex\n",
    "    _sex = df_participants.gender[idx].values\n",
    "    if _sex == 'F':\n",
    "        sex[subidx] = 0\n",
    "\n",
    "    elif _sex == 'M':\n",
    "        sex[subidx] = 1\n",
    "\n",
    "    #site\n",
    "    data = []\n",
    "    file = f'/home/gabridele/Desktop/psych_dataset/{subj}/func/{subj}_task-scap_bold.json'\n",
    "    with open(file) as json_data:\n",
    "        data.append(json.load(json_data))\n",
    "\n",
    "    if data[0]['SoftwareVersions'] == 'syngo MR B15':\n",
    "        site[subidx] = 1\n",
    "    elif data[0]['SoftwareVersions'] == 'syngo MR B17':\n",
    "        site[subidx] = 0\n",
    "\n",
    "    # education (how many years of schooling complete?)\n",
    "    edu_years[subidx] = np.int64(df_demo.school_yrs[idx].values[0])\n",
    "    \n",
    "    #\n",
    "    #hand = \n",
    "    # wais\n",
    "    wais_mr[subidx] = np.int64(df_wais.mr_totalraw[idx].values[0]) \n",
    "    wais_lns[subidx] = np.int64(df_wais.lns_totalraw[idx].values[0])\n",
    "    wais_voc[subidx] = np.int64(df_wais.voc_totalraw[idx].values[0])\n",
    "    \n",
    "# put the data in the df\n",
    "labels = ['age','sex','site','edu_years','wais_mr','wais_lns','wais_voc']\n",
    "demo_data = np.vstack((age,sex,site,edu_years,wais_mr,wais_lns,wais_voc)).T\n",
    "demo_df = pd.DataFrame(data=demo_data,index=df.index,columns=labels)\n",
    "df = pd.concat([df,demo_df],axis=1)\n",
    "\n",
    "# print average demos\n",
    "print(df['group'].value_counts())\n",
    "print(df.groupby('group')[['age', 'sex', 'site']].mean())\n",
    "groups = ['CTRL', 'SCHZ', 'BPLR', 'ADHD']\n",
    "df.to_excel('/home/gabridele/Desktop/preproc_psych/preproc_sub_list2.xlsx', index=True)"
   ]
  },
  {
   "cell_type": "code",
   "execution_count": 31,
   "metadata": {},
   "outputs": [
    {
     "name": "stdout",
     "output_type": "stream",
     "text": [
      "272\n"
     ]
    }
   ],
   "source": [
    "idx = df_participants.participant_id==subj\n",
    "print(len(idx))"
   ]
  },
  {
   "cell_type": "code",
   "execution_count": 36,
   "metadata": {},
   "outputs": [
    {
     "name": "stdout",
     "output_type": "stream",
     "text": [
      "t-test for age between CTRL and SCZ:\n",
      "\t t = [-2.455 -2.455]\n",
      "\t p = [0.01854288 0.01854288]\n",
      "t-test for age between CTRL and BPLR:\n",
      "\t t = [-1.827 -1.827]\n",
      "\t p = [0.07230341 0.07230341]\n",
      "t-test for age between CTRL and ADHD:\n",
      "\t t = [-0.578 -0.578]\n",
      "\t p = [0.5657155 0.5657155]\n",
      "t-test for age between SCZ and BPLR:\n",
      "\t t = [0.739 0.739]\n",
      "\t p = [0.46289268 0.46289268]\n",
      "t-test for age between SCZ and ADHD:\n",
      "\t t = [1.468 1.468]\n",
      "\t p = [0.14748216 0.14748216]\n",
      "t-test for age between BPLR and ADHD:\n",
      "\t t = [0.857 0.857]\n",
      "\t p = [0.39445999 0.39445999]\n"
     ]
    },
    {
     "ename": "ValueError",
     "evalue": "Data must be 1-dimensional, got ndarray of shape (128, 2) instead",
     "output_type": "error",
     "traceback": [
      "\u001b[0;31m---------------------------------------------------------------------------\u001b[0m",
      "\u001b[0;31mValueError\u001b[0m                                Traceback (most recent call last)",
      "Cell \u001b[0;32mIn[36], line 1\u001b[0m\n\u001b[0;32m----> 1\u001b[0m \u001b[43mall_groups_stats\u001b[49m\u001b[43m(\u001b[49m\u001b[43mdf\u001b[49m\u001b[43m,\u001b[49m\u001b[43mlabels\u001b[49m\u001b[38;5;241;43m=\u001b[39;49m\u001b[43m[\u001b[49m\u001b[38;5;124;43m'\u001b[39;49m\u001b[38;5;124;43mage\u001b[39;49m\u001b[38;5;124;43m'\u001b[39;49m\u001b[43m,\u001b[49m\u001b[38;5;124;43m'\u001b[39;49m\u001b[38;5;124;43msex\u001b[39;49m\u001b[38;5;124;43m'\u001b[39;49m\u001b[43m,\u001b[49m\u001b[38;5;124;43m'\u001b[39;49m\u001b[38;5;124;43msite\u001b[39;49m\u001b[38;5;124;43m'\u001b[39;49m\u001b[43m]\u001b[49m\u001b[43m)\u001b[49m\n",
      "Cell \u001b[0;32mIn[9], line 29\u001b[0m, in \u001b[0;36mall_groups_stats\u001b[0;34m(df, labels)\u001b[0m\n\u001b[1;32m     27\u001b[0m \u001b[38;5;28;01mif\u001b[39;00m label \u001b[38;5;241m==\u001b[39m \u001b[38;5;124m'\u001b[39m\u001b[38;5;124msex\u001b[39m\u001b[38;5;124m'\u001b[39m \u001b[38;5;129;01mor\u001b[39;00m label \u001b[38;5;241m==\u001b[39m \u001b[38;5;124m'\u001b[39m\u001b[38;5;124msite\u001b[39m\u001b[38;5;124m'\u001b[39m:\n\u001b[1;32m     28\u001b[0m     new_df \u001b[38;5;241m=\u001b[39m df\u001b[38;5;241m.\u001b[39mloc[(df[\u001b[38;5;124m'\u001b[39m\u001b[38;5;124mgroup\u001b[39m\u001b[38;5;124m'\u001b[39m] \u001b[38;5;241m==\u001b[39m group1) \u001b[38;5;241m|\u001b[39m (df[\u001b[38;5;124m'\u001b[39m\u001b[38;5;124mgroup\u001b[39m\u001b[38;5;124m'\u001b[39m] \u001b[38;5;241m==\u001b[39m group2)]\n\u001b[0;32m---> 29\u001b[0m     expected, observed, stats \u001b[38;5;241m=\u001b[39m \u001b[43mpg\u001b[49m\u001b[38;5;241;43m.\u001b[39;49m\u001b[43mchi2_independence\u001b[49m\u001b[43m(\u001b[49m\u001b[43mdata\u001b[49m\u001b[38;5;241;43m=\u001b[39;49m\u001b[43mnew_df\u001b[49m\u001b[43m,\u001b[49m\u001b[43m \u001b[49m\u001b[43mx\u001b[49m\u001b[38;5;241;43m=\u001b[39;49m\u001b[43mlabel\u001b[49m\u001b[43m,\u001b[49m\u001b[43m \u001b[49m\u001b[43my\u001b[49m\u001b[38;5;241;43m=\u001b[39;49m\u001b[38;5;124;43m'\u001b[39;49m\u001b[38;5;124;43mgroup\u001b[39;49m\u001b[38;5;124;43m'\u001b[39;49m\u001b[43m)\u001b[49m\n\u001b[1;32m     30\u001b[0m     \u001b[38;5;28mprint\u001b[39m(\u001b[38;5;124mf\u001b[39m\u001b[38;5;124m\"\u001b[39m\u001b[38;5;124mChi-square test for \u001b[39m\u001b[38;5;132;01m{\u001b[39;00mlabel\u001b[38;5;132;01m}\u001b[39;00m\u001b[38;5;124m between \u001b[39m\u001b[38;5;132;01m{\u001b[39;00mgroup1\u001b[38;5;132;01m}\u001b[39;00m\u001b[38;5;124m and \u001b[39m\u001b[38;5;132;01m{\u001b[39;00mgroup2\u001b[38;5;132;01m}\u001b[39;00m\u001b[38;5;124m:\u001b[39m\u001b[38;5;124m\"\u001b[39m)\n\u001b[1;32m     31\u001b[0m     \u001b[38;5;28mprint\u001b[39m(\u001b[38;5;124mf\u001b[39m\u001b[38;5;124m\"\u001b[39m\u001b[38;5;130;01m\\t\u001b[39;00m\u001b[38;5;124m Chi2 = \u001b[39m\u001b[38;5;132;01m{\u001b[39;00mnp\u001b[38;5;241m.\u001b[39mround(stats\u001b[38;5;241m.\u001b[39mchi2[\u001b[38;5;241m0\u001b[39m],\u001b[38;5;250m \u001b[39m\u001b[38;5;241m3\u001b[39m)\u001b[38;5;132;01m}\u001b[39;00m\u001b[38;5;124m\"\u001b[39m)\n",
      "File \u001b[0;32m~/miniconda3/envs/neuroimg/lib/python3.12/site-packages/pingouin/contingency.py:141\u001b[0m, in \u001b[0;36mchi2_independence\u001b[0;34m(data, x, y, correction)\u001b[0m\n\u001b[1;32m    138\u001b[0m \u001b[38;5;28;01massert\u001b[39;00m \u001b[38;5;28mall\u001b[39m(col \u001b[38;5;129;01min\u001b[39;00m data\u001b[38;5;241m.\u001b[39mcolumns \u001b[38;5;28;01mfor\u001b[39;00m col \u001b[38;5;129;01min\u001b[39;00m (x, y)), \u001b[38;5;124m\"\u001b[39m\u001b[38;5;124mcolumns are not in dataframe.\u001b[39m\u001b[38;5;124m\"\u001b[39m\n\u001b[1;32m    139\u001b[0m \u001b[38;5;28;01massert\u001b[39;00m \u001b[38;5;28misinstance\u001b[39m(correction, \u001b[38;5;28mbool\u001b[39m), \u001b[38;5;124m\"\u001b[39m\u001b[38;5;124mcorrection must be a boolean.\u001b[39m\u001b[38;5;124m\"\u001b[39m\n\u001b[0;32m--> 141\u001b[0m observed \u001b[38;5;241m=\u001b[39m \u001b[43mpd\u001b[49m\u001b[38;5;241;43m.\u001b[39;49m\u001b[43mcrosstab\u001b[49m\u001b[43m(\u001b[49m\u001b[43mdata\u001b[49m\u001b[43m[\u001b[49m\u001b[43mx\u001b[49m\u001b[43m]\u001b[49m\u001b[43m,\u001b[49m\u001b[43m \u001b[49m\u001b[43mdata\u001b[49m\u001b[43m[\u001b[49m\u001b[43my\u001b[49m\u001b[43m]\u001b[49m\u001b[43m)\u001b[49m\n\u001b[1;32m    143\u001b[0m \u001b[38;5;28;01mif\u001b[39;00m observed\u001b[38;5;241m.\u001b[39msize \u001b[38;5;241m==\u001b[39m \u001b[38;5;241m0\u001b[39m:\n\u001b[1;32m    144\u001b[0m     \u001b[38;5;28;01mraise\u001b[39;00m \u001b[38;5;167;01mValueError\u001b[39;00m(\u001b[38;5;124m\"\u001b[39m\u001b[38;5;124mNo data; observed has size 0.\u001b[39m\u001b[38;5;124m\"\u001b[39m)\n",
      "File \u001b[0;32m~/miniconda3/envs/neuroimg/lib/python3.12/site-packages/pandas/core/reshape/pivot.py:700\u001b[0m, in \u001b[0;36mcrosstab\u001b[0;34m(index, columns, values, rownames, colnames, aggfunc, margins, margins_name, dropna, normalize)\u001b[0m\n\u001b[1;32m    694\u001b[0m \u001b[38;5;28;01mfrom\u001b[39;00m \u001b[38;5;21;01mpandas\u001b[39;00m \u001b[38;5;28;01mimport\u001b[39;00m DataFrame\n\u001b[1;32m    696\u001b[0m data \u001b[38;5;241m=\u001b[39m {\n\u001b[1;32m    697\u001b[0m     \u001b[38;5;241m*\u001b[39m\u001b[38;5;241m*\u001b[39m\u001b[38;5;28mdict\u001b[39m(\u001b[38;5;28mzip\u001b[39m(unique_rownames, index)),\n\u001b[1;32m    698\u001b[0m     \u001b[38;5;241m*\u001b[39m\u001b[38;5;241m*\u001b[39m\u001b[38;5;28mdict\u001b[39m(\u001b[38;5;28mzip\u001b[39m(unique_colnames, columns)),\n\u001b[1;32m    699\u001b[0m }\n\u001b[0;32m--> 700\u001b[0m df \u001b[38;5;241m=\u001b[39m \u001b[43mDataFrame\u001b[49m\u001b[43m(\u001b[49m\u001b[43mdata\u001b[49m\u001b[43m,\u001b[49m\u001b[43m \u001b[49m\u001b[43mindex\u001b[49m\u001b[38;5;241;43m=\u001b[39;49m\u001b[43mcommon_idx\u001b[49m\u001b[43m)\u001b[49m\n\u001b[1;32m    702\u001b[0m \u001b[38;5;28;01mif\u001b[39;00m values \u001b[38;5;129;01mis\u001b[39;00m \u001b[38;5;28;01mNone\u001b[39;00m:\n\u001b[1;32m    703\u001b[0m     df[\u001b[38;5;124m\"\u001b[39m\u001b[38;5;124m__dummy__\u001b[39m\u001b[38;5;124m\"\u001b[39m] \u001b[38;5;241m=\u001b[39m \u001b[38;5;241m0\u001b[39m\n",
      "File \u001b[0;32m~/miniconda3/envs/neuroimg/lib/python3.12/site-packages/pandas/core/frame.py:733\u001b[0m, in \u001b[0;36mDataFrame.__init__\u001b[0;34m(self, data, index, columns, dtype, copy)\u001b[0m\n\u001b[1;32m    727\u001b[0m     mgr \u001b[38;5;241m=\u001b[39m \u001b[38;5;28mself\u001b[39m\u001b[38;5;241m.\u001b[39m_init_mgr(\n\u001b[1;32m    728\u001b[0m         data, axes\u001b[38;5;241m=\u001b[39m{\u001b[38;5;124m\"\u001b[39m\u001b[38;5;124mindex\u001b[39m\u001b[38;5;124m\"\u001b[39m: index, \u001b[38;5;124m\"\u001b[39m\u001b[38;5;124mcolumns\u001b[39m\u001b[38;5;124m\"\u001b[39m: columns}, dtype\u001b[38;5;241m=\u001b[39mdtype, copy\u001b[38;5;241m=\u001b[39mcopy\n\u001b[1;32m    729\u001b[0m     )\n\u001b[1;32m    731\u001b[0m \u001b[38;5;28;01melif\u001b[39;00m \u001b[38;5;28misinstance\u001b[39m(data, \u001b[38;5;28mdict\u001b[39m):\n\u001b[1;32m    732\u001b[0m     \u001b[38;5;66;03m# GH#38939 de facto copy defaults to False only in non-dict cases\u001b[39;00m\n\u001b[0;32m--> 733\u001b[0m     mgr \u001b[38;5;241m=\u001b[39m \u001b[43mdict_to_mgr\u001b[49m\u001b[43m(\u001b[49m\u001b[43mdata\u001b[49m\u001b[43m,\u001b[49m\u001b[43m \u001b[49m\u001b[43mindex\u001b[49m\u001b[43m,\u001b[49m\u001b[43m \u001b[49m\u001b[43mcolumns\u001b[49m\u001b[43m,\u001b[49m\u001b[43m \u001b[49m\u001b[43mdtype\u001b[49m\u001b[38;5;241;43m=\u001b[39;49m\u001b[43mdtype\u001b[49m\u001b[43m,\u001b[49m\u001b[43m \u001b[49m\u001b[43mcopy\u001b[49m\u001b[38;5;241;43m=\u001b[39;49m\u001b[43mcopy\u001b[49m\u001b[43m,\u001b[49m\u001b[43m \u001b[49m\u001b[43mtyp\u001b[49m\u001b[38;5;241;43m=\u001b[39;49m\u001b[43mmanager\u001b[49m\u001b[43m)\u001b[49m\n\u001b[1;32m    734\u001b[0m \u001b[38;5;28;01melif\u001b[39;00m \u001b[38;5;28misinstance\u001b[39m(data, ma\u001b[38;5;241m.\u001b[39mMaskedArray):\n\u001b[1;32m    735\u001b[0m     \u001b[38;5;28;01mfrom\u001b[39;00m \u001b[38;5;21;01mnumpy\u001b[39;00m\u001b[38;5;21;01m.\u001b[39;00m\u001b[38;5;21;01mma\u001b[39;00m \u001b[38;5;28;01mimport\u001b[39;00m mrecords\n",
      "File \u001b[0;32m~/miniconda3/envs/neuroimg/lib/python3.12/site-packages/pandas/core/internals/construction.py:503\u001b[0m, in \u001b[0;36mdict_to_mgr\u001b[0;34m(data, index, columns, dtype, typ, copy)\u001b[0m\n\u001b[1;32m    499\u001b[0m     \u001b[38;5;28;01melse\u001b[39;00m:\n\u001b[1;32m    500\u001b[0m         \u001b[38;5;66;03m# dtype check to exclude e.g. range objects, scalars\u001b[39;00m\n\u001b[1;32m    501\u001b[0m         arrays \u001b[38;5;241m=\u001b[39m [x\u001b[38;5;241m.\u001b[39mcopy() \u001b[38;5;28;01mif\u001b[39;00m \u001b[38;5;28mhasattr\u001b[39m(x, \u001b[38;5;124m\"\u001b[39m\u001b[38;5;124mdtype\u001b[39m\u001b[38;5;124m\"\u001b[39m) \u001b[38;5;28;01melse\u001b[39;00m x \u001b[38;5;28;01mfor\u001b[39;00m x \u001b[38;5;129;01min\u001b[39;00m arrays]\n\u001b[0;32m--> 503\u001b[0m \u001b[38;5;28;01mreturn\u001b[39;00m \u001b[43marrays_to_mgr\u001b[49m\u001b[43m(\u001b[49m\u001b[43marrays\u001b[49m\u001b[43m,\u001b[49m\u001b[43m \u001b[49m\u001b[43mcolumns\u001b[49m\u001b[43m,\u001b[49m\u001b[43m \u001b[49m\u001b[43mindex\u001b[49m\u001b[43m,\u001b[49m\u001b[43m \u001b[49m\u001b[43mdtype\u001b[49m\u001b[38;5;241;43m=\u001b[39;49m\u001b[43mdtype\u001b[49m\u001b[43m,\u001b[49m\u001b[43m \u001b[49m\u001b[43mtyp\u001b[49m\u001b[38;5;241;43m=\u001b[39;49m\u001b[43mtyp\u001b[49m\u001b[43m,\u001b[49m\u001b[43m \u001b[49m\u001b[43mconsolidate\u001b[49m\u001b[38;5;241;43m=\u001b[39;49m\u001b[43mcopy\u001b[49m\u001b[43m)\u001b[49m\n",
      "File \u001b[0;32m~/miniconda3/envs/neuroimg/lib/python3.12/site-packages/pandas/core/internals/construction.py:119\u001b[0m, in \u001b[0;36marrays_to_mgr\u001b[0;34m(arrays, columns, index, dtype, verify_integrity, typ, consolidate)\u001b[0m\n\u001b[1;32m    116\u001b[0m         index \u001b[38;5;241m=\u001b[39m ensure_index(index)\n\u001b[1;32m    118\u001b[0m     \u001b[38;5;66;03m# don't force copy because getting jammed in an ndarray anyway\u001b[39;00m\n\u001b[0;32m--> 119\u001b[0m     arrays, refs \u001b[38;5;241m=\u001b[39m \u001b[43m_homogenize\u001b[49m\u001b[43m(\u001b[49m\u001b[43marrays\u001b[49m\u001b[43m,\u001b[49m\u001b[43m \u001b[49m\u001b[43mindex\u001b[49m\u001b[43m,\u001b[49m\u001b[43m \u001b[49m\u001b[43mdtype\u001b[49m\u001b[43m)\u001b[49m\n\u001b[1;32m    120\u001b[0m     \u001b[38;5;66;03m# _homogenize ensures\u001b[39;00m\n\u001b[1;32m    121\u001b[0m     \u001b[38;5;66;03m#  - all(len(x) == len(index) for x in arrays)\u001b[39;00m\n\u001b[1;32m    122\u001b[0m     \u001b[38;5;66;03m#  - all(x.ndim == 1 for x in arrays)\u001b[39;00m\n\u001b[0;32m   (...)\u001b[0m\n\u001b[1;32m    125\u001b[0m \n\u001b[1;32m    126\u001b[0m \u001b[38;5;28;01melse\u001b[39;00m:\n\u001b[1;32m    127\u001b[0m     index \u001b[38;5;241m=\u001b[39m ensure_index(index)\n",
      "File \u001b[0;32m~/miniconda3/envs/neuroimg/lib/python3.12/site-packages/pandas/core/internals/construction.py:629\u001b[0m, in \u001b[0;36m_homogenize\u001b[0;34m(data, index, dtype)\u001b[0m\n\u001b[1;32m    626\u001b[0m         val \u001b[38;5;241m=\u001b[39m \u001b[38;5;28mdict\u001b[39m(val)\n\u001b[1;32m    627\u001b[0m     val \u001b[38;5;241m=\u001b[39m lib\u001b[38;5;241m.\u001b[39mfast_multiget(val, oindex\u001b[38;5;241m.\u001b[39m_values, default\u001b[38;5;241m=\u001b[39mnp\u001b[38;5;241m.\u001b[39mnan)\n\u001b[0;32m--> 629\u001b[0m val \u001b[38;5;241m=\u001b[39m \u001b[43msanitize_array\u001b[49m\u001b[43m(\u001b[49m\u001b[43mval\u001b[49m\u001b[43m,\u001b[49m\u001b[43m \u001b[49m\u001b[43mindex\u001b[49m\u001b[43m,\u001b[49m\u001b[43m \u001b[49m\u001b[43mdtype\u001b[49m\u001b[38;5;241;43m=\u001b[39;49m\u001b[43mdtype\u001b[49m\u001b[43m,\u001b[49m\u001b[43m \u001b[49m\u001b[43mcopy\u001b[49m\u001b[38;5;241;43m=\u001b[39;49m\u001b[38;5;28;43;01mFalse\u001b[39;49;00m\u001b[43m)\u001b[49m\n\u001b[1;32m    630\u001b[0m com\u001b[38;5;241m.\u001b[39mrequire_length_match(val, index)\n\u001b[1;32m    631\u001b[0m refs\u001b[38;5;241m.\u001b[39mappend(\u001b[38;5;28;01mNone\u001b[39;00m)\n",
      "File \u001b[0;32m~/miniconda3/envs/neuroimg/lib/python3.12/site-packages/pandas/core/construction.py:632\u001b[0m, in \u001b[0;36msanitize_array\u001b[0;34m(data, index, dtype, copy, allow_2d)\u001b[0m\n\u001b[1;32m    629\u001b[0m \u001b[38;5;28;01melif\u001b[39;00m \u001b[38;5;28mhasattr\u001b[39m(data, \u001b[38;5;124m\"\u001b[39m\u001b[38;5;124m__array__\u001b[39m\u001b[38;5;124m\"\u001b[39m):\n\u001b[1;32m    630\u001b[0m     \u001b[38;5;66;03m# e.g. dask array GH#38645\u001b[39;00m\n\u001b[1;32m    631\u001b[0m     data \u001b[38;5;241m=\u001b[39m np\u001b[38;5;241m.\u001b[39marray(data, copy\u001b[38;5;241m=\u001b[39mcopy)\n\u001b[0;32m--> 632\u001b[0m     \u001b[38;5;28;01mreturn\u001b[39;00m \u001b[43msanitize_array\u001b[49m\u001b[43m(\u001b[49m\n\u001b[1;32m    633\u001b[0m \u001b[43m        \u001b[49m\u001b[43mdata\u001b[49m\u001b[43m,\u001b[49m\n\u001b[1;32m    634\u001b[0m \u001b[43m        \u001b[49m\u001b[43mindex\u001b[49m\u001b[38;5;241;43m=\u001b[39;49m\u001b[43mindex\u001b[49m\u001b[43m,\u001b[49m\n\u001b[1;32m    635\u001b[0m \u001b[43m        \u001b[49m\u001b[43mdtype\u001b[49m\u001b[38;5;241;43m=\u001b[39;49m\u001b[43mdtype\u001b[49m\u001b[43m,\u001b[49m\n\u001b[1;32m    636\u001b[0m \u001b[43m        \u001b[49m\u001b[43mcopy\u001b[49m\u001b[38;5;241;43m=\u001b[39;49m\u001b[38;5;28;43;01mFalse\u001b[39;49;00m\u001b[43m,\u001b[49m\n\u001b[1;32m    637\u001b[0m \u001b[43m        \u001b[49m\u001b[43mallow_2d\u001b[49m\u001b[38;5;241;43m=\u001b[39;49m\u001b[43mallow_2d\u001b[49m\u001b[43m,\u001b[49m\n\u001b[1;32m    638\u001b[0m \u001b[43m    \u001b[49m\u001b[43m)\u001b[49m\n\u001b[1;32m    640\u001b[0m \u001b[38;5;28;01melse\u001b[39;00m:\n\u001b[1;32m    641\u001b[0m     _sanitize_non_ordered(data)\n",
      "File \u001b[0;32m~/miniconda3/envs/neuroimg/lib/python3.12/site-packages/pandas/core/construction.py:658\u001b[0m, in \u001b[0;36msanitize_array\u001b[0;34m(data, index, dtype, copy, allow_2d)\u001b[0m\n\u001b[1;32m    655\u001b[0m             subarr \u001b[38;5;241m=\u001b[39m cast(np\u001b[38;5;241m.\u001b[39mndarray, subarr)\n\u001b[1;32m    656\u001b[0m             subarr \u001b[38;5;241m=\u001b[39m maybe_infer_to_datetimelike(subarr)\n\u001b[0;32m--> 658\u001b[0m subarr \u001b[38;5;241m=\u001b[39m \u001b[43m_sanitize_ndim\u001b[49m\u001b[43m(\u001b[49m\u001b[43msubarr\u001b[49m\u001b[43m,\u001b[49m\u001b[43m \u001b[49m\u001b[43mdata\u001b[49m\u001b[43m,\u001b[49m\u001b[43m \u001b[49m\u001b[43mdtype\u001b[49m\u001b[43m,\u001b[49m\u001b[43m \u001b[49m\u001b[43mindex\u001b[49m\u001b[43m,\u001b[49m\u001b[43m \u001b[49m\u001b[43mallow_2d\u001b[49m\u001b[38;5;241;43m=\u001b[39;49m\u001b[43mallow_2d\u001b[49m\u001b[43m)\u001b[49m\n\u001b[1;32m    660\u001b[0m \u001b[38;5;28;01mif\u001b[39;00m \u001b[38;5;28misinstance\u001b[39m(subarr, np\u001b[38;5;241m.\u001b[39mndarray):\n\u001b[1;32m    661\u001b[0m     \u001b[38;5;66;03m# at this point we should have dtype be None or subarr.dtype == dtype\u001b[39;00m\n\u001b[1;32m    662\u001b[0m     dtype \u001b[38;5;241m=\u001b[39m cast(np\u001b[38;5;241m.\u001b[39mdtype, dtype)\n",
      "File \u001b[0;32m~/miniconda3/envs/neuroimg/lib/python3.12/site-packages/pandas/core/construction.py:717\u001b[0m, in \u001b[0;36m_sanitize_ndim\u001b[0;34m(result, data, dtype, index, allow_2d)\u001b[0m\n\u001b[1;32m    715\u001b[0m     \u001b[38;5;28;01mif\u001b[39;00m allow_2d:\n\u001b[1;32m    716\u001b[0m         \u001b[38;5;28;01mreturn\u001b[39;00m result\n\u001b[0;32m--> 717\u001b[0m     \u001b[38;5;28;01mraise\u001b[39;00m \u001b[38;5;167;01mValueError\u001b[39;00m(\n\u001b[1;32m    718\u001b[0m         \u001b[38;5;124mf\u001b[39m\u001b[38;5;124m\"\u001b[39m\u001b[38;5;124mData must be 1-dimensional, got ndarray of shape \u001b[39m\u001b[38;5;132;01m{\u001b[39;00mdata\u001b[38;5;241m.\u001b[39mshape\u001b[38;5;132;01m}\u001b[39;00m\u001b[38;5;124m instead\u001b[39m\u001b[38;5;124m\"\u001b[39m\n\u001b[1;32m    719\u001b[0m     )\n\u001b[1;32m    720\u001b[0m \u001b[38;5;28;01mif\u001b[39;00m is_object_dtype(dtype) \u001b[38;5;129;01mand\u001b[39;00m \u001b[38;5;28misinstance\u001b[39m(dtype, ExtensionDtype):\n\u001b[1;32m    721\u001b[0m     \u001b[38;5;66;03m# i.e. NumpyEADtype(\"O\")\u001b[39;00m\n\u001b[1;32m    723\u001b[0m     result \u001b[38;5;241m=\u001b[39m com\u001b[38;5;241m.\u001b[39masarray_tuplesafe(data, dtype\u001b[38;5;241m=\u001b[39mnp\u001b[38;5;241m.\u001b[39mdtype(\u001b[38;5;124m\"\u001b[39m\u001b[38;5;124mobject\u001b[39m\u001b[38;5;124m\"\u001b[39m))\n",
      "\u001b[0;31mValueError\u001b[0m: Data must be 1-dimensional, got ndarray of shape (128, 2) instead"
     ]
    }
   ],
   "source": [
    "all_groups_stats(df,labels=['age','sex','site'])"
   ]
  },
  {
   "cell_type": "markdown",
   "metadata": {},
   "source": [
    "5. Manual HC cohort selection"
   ]
  },
  {
   "cell_type": "code",
   "execution_count": null,
   "metadata": {},
   "outputs": [],
   "source": [
    "# not sure whether i should do it\n",
    "# control for substantial differences in sex and age between groups, ideally we'd trim the HC cohort for a better sample"
   ]
  },
  {
   "cell_type": "markdown",
   "metadata": {},
   "source": [
    "6. Behavioral outliers on the scap"
   ]
  },
  {
   "cell_type": "code",
   "execution_count": 37,
   "metadata": {},
   "outputs": [],
   "source": [
    "def load_scan_behaviour(subj_list,task_list,group_index):\n",
    "    '''\n",
    "    Loads in-scanner task behaviour. Currently only coded up for the 'SCAP' task.\n",
    "    For in-depth explanation of the tasks and the conditions modelled in the GLM\n",
    "    see the postFmriprepPipelines.py script which does the GLM.\n",
    "    \n",
    "    returns: \n",
    "    - accuracy, \n",
    "    - reaction_time, \n",
    "    - accuracy_all, \n",
    "    - reaction_time_all, \n",
    "    - labels\n",
    "    '''\n",
    "    BIDS_DIR = \"/home/gabridele/Desktop/psych_dataset/\"\n",
    "    accuracy_all = {}\n",
    "    reaction_time_all = {}\n",
    "    accuracy = {}\n",
    "    reaction_time = {}\n",
    "    labels = {}\n",
    "\n",
    "    for task in task_list:\n",
    "        if task=='scap':\n",
    "            # 12 conditions - each cognitive load and each delay\n",
    "            task_label = ['load1-delay1.5','load1-delay3','load1-delay4.5',\n",
    "                     'load3-delay1.5','load3-delay3','load3-delay4.5',\n",
    "                     'load5-delay1.5','load5-delay3','load5-delay4.5',\n",
    "                     'load7-delay1.5','load7-delay3','load7-delay4.5']\n",
    "\n",
    "            raw_acc = np.zeros((4,12,len(subj_list))) # trial x condition x subject\n",
    "            raw_rt = raw_acc.copy()\n",
    "\n",
    "            for i,subj in enumerate(subj_list):\n",
    "                # get task information\n",
    "                df_task = pd.read_csv(BIDS_DIR + str(subj) + '/func/' + str(subj) + '_task-' + task + '_events.tsv', sep='\\t', header=0)\n",
    "\n",
    "                for trial in range(1,13):\n",
    "                    #accuracy\n",
    "                    acc = df_task['ResponseAccuracy'].values[df_task['trial_type']==trial]=='CORRECT'\n",
    "                    acc = acc.astype(int)\n",
    "                    raw_acc[:,trial-1,i] = acc\n",
    "                    #rt\n",
    "                    rt = df_task['ReactionTime'].values[df_task['trial_type']==trial]\n",
    "                    raw_rt[:,trial-1,i] = rt\n",
    "\n",
    "        # put in a task list\n",
    "        accuracy_all[task] = raw_acc\n",
    "        reaction_time_all[task] = raw_rt\n",
    "        labels[task] = task_label\n",
    "\n",
    "        # put in a list with groups\n",
    "        accuracy[task] = {}\n",
    "        accuracy[task]['CTRL'] = raw_acc[:,:,group_index=='CTRL']\n",
    "        accuracy[task]['SCZ'] = raw_acc[:,:,group_index=='SCZ']\n",
    "        accuracy[task]['BPLR'] = raw_acc[:,:,group_index=='BPLR']\n",
    "        accuracy[task]['ADHD'] = raw_acc[:,:,group_index=='ADHD']\n",
    "\n",
    "        reaction_time[task] = {}\n",
    "        reaction_time[task]['CTRL'] = raw_rt[:,:,group_index=='CTRL']\n",
    "        reaction_time[task]['SCZ'] = raw_rt[:,:,group_index=='SCZ']\n",
    "        reaction_time[task]['BPLR'] = raw_rt[:,:,group_index=='BPLR']\n",
    "        reaction_time[task]['ADHD'] = raw_rt[:,:,group_index=='ADHD']\n",
    "    return accuracy, reaction_time, accuracy_all, reaction_time_all, labels"
   ]
  },
  {
   "cell_type": "code",
   "execution_count": 39,
   "metadata": {},
   "outputs": [
    {
     "name": "stdout",
     "output_type": "stream",
     "text": [
      "Poor subjs: 65    sub-10680\n",
      "79    sub-10788\n",
      "Name: participant_id, dtype: object\n",
      "Odd HC participant scored: [25.   31.25] %\n",
      "Odd HC participant scored: [-5.09257658 -4.56431547] (zscore)\n"
     ]
    },
    {
     "data": {
      "image/png": "[encoded data removed]",
      "text/plain": [
       "<Figure size 640x480 with 1 Axes>"
      ]
     },
     "metadata": {},
     "output_type": "display_data"
    },
    {
     "data": {
      "image/png": "[encoded data removed]",
      "text/plain": [
       "<Figure size 640x480 with 1 Axes>"
      ]
     },
     "metadata": {},
     "output_type": "display_data"
    }
   ],
   "source": [
    "import matplotlib.pyplot as plt\n",
    "from scipy.stats import zscore\n",
    "accuracy,reaction_time,_,_,task_labels = load_scan_behaviour(df[\"participant_id\"],['scap'],df['group'].values)\n",
    "hc_acc = np.mean(np.mean(accuracy['scap']['CTRL'],axis=0),axis=0)\n",
    "sz_acc = np.mean(np.mean(accuracy['scap']['SCZ'],axis=0),axis=0)\n",
    "\n",
    "idx = zscore(hc_acc) < -4\n",
    "bad_subjs = df[\"participant_id\"][df['group']=='CTRL'][idx]\n",
    "print('Poor subjs:',bad_subjs)\n",
    "print('Odd HC participant scored:',hc_acc[idx]*100,'%')\n",
    "print('Odd HC participant scored:',zscore(hc_acc)[idx],'(zscore)')\n",
    "\n",
    "#plot the histograms\n",
    "plt.hist(zscore(hc_acc))\n",
    "plt.show()\n",
    "plt.hist(zscore(sz_acc))\n",
    "plt.show()"
   ]
  },
  {
   "cell_type": "code",
   "execution_count": 40,
   "metadata": {},
   "outputs": [
    {
     "name": "stdout",
     "output_type": "stream",
     "text": [
      "group\n",
      "CTRL    99\n",
      "BPLR    38\n",
      "ADHD    34\n",
      "SCZ     27\n",
      "Name: count, dtype: int64\n",
      "             age        age       sex       sex      site      site\n",
      "group                                                              \n",
      "ADHD   32.529412  32.529412  0.529412  0.529412  0.500000  0.500000\n",
      "BPLR   34.500000  34.500000  0.500000  0.500000  0.473684  0.473684\n",
      "CTRL   31.444444  31.444444  0.494949  0.494949  0.808081  0.808081\n",
      "SCZ    36.185185  36.185185  0.740741  0.740741  0.370370  0.370370\n",
      "t-test for age between CTRL and SCZ:\n",
      "\t t = [-2.418 -2.418]\n",
      "\t p = [0.02018944 0.02018944]\n",
      "t-test for age between CTRL and BPLR:\n",
      "\t t = [-1.786 -1.786]\n",
      "\t p = [0.078665 0.078665]\n",
      "t-test for age between CTRL and ADHD:\n",
      "\t t = [-0.547 -0.547]\n",
      "\t p = [0.58661023 0.58661023]\n",
      "t-test for age between SCZ and BPLR:\n",
      "\t t = [0.739 0.739]\n",
      "\t p = [0.46289268 0.46289268]\n",
      "t-test for age between SCZ and ADHD:\n",
      "\t t = [1.468 1.468]\n",
      "\t p = [0.14748216 0.14748216]\n",
      "t-test for age between BPLR and ADHD:\n",
      "\t t = [0.857 0.857]\n",
      "\t p = [0.39445999 0.39445999]\n"
     ]
    },
    {
     "ename": "ValueError",
     "evalue": "Data must be 1-dimensional, got ndarray of shape (126, 2) instead",
     "output_type": "error",
     "traceback": [
      "\u001b[0;31m---------------------------------------------------------------------------\u001b[0m",
      "\u001b[0;31mValueError\u001b[0m                                Traceback (most recent call last)",
      "Cell \u001b[0;32mIn[40], line 11\u001b[0m\n\u001b[1;32m      8\u001b[0m \u001b[38;5;28mprint\u001b[39m(df[\u001b[38;5;124m'\u001b[39m\u001b[38;5;124mgroup\u001b[39m\u001b[38;5;124m'\u001b[39m]\u001b[38;5;241m.\u001b[39mvalue_counts())\n\u001b[1;32m      9\u001b[0m \u001b[38;5;28mprint\u001b[39m(df\u001b[38;5;241m.\u001b[39mgroupby([\u001b[38;5;124m'\u001b[39m\u001b[38;5;124mgroup\u001b[39m\u001b[38;5;124m'\u001b[39m])[[\u001b[38;5;124m'\u001b[39m\u001b[38;5;124mage\u001b[39m\u001b[38;5;124m'\u001b[39m, \u001b[38;5;124m'\u001b[39m\u001b[38;5;124msex\u001b[39m\u001b[38;5;124m'\u001b[39m, \u001b[38;5;124m'\u001b[39m\u001b[38;5;124msite\u001b[39m\u001b[38;5;124m'\u001b[39m]]\u001b[38;5;241m.\u001b[39mmean())\n\u001b[0;32m---> 11\u001b[0m \u001b[43mall_groups_stats\u001b[49m\u001b[43m(\u001b[49m\u001b[43mdf\u001b[49m\u001b[43m,\u001b[49m\u001b[43mlabels\u001b[49m\u001b[38;5;241;43m=\u001b[39;49m\u001b[43m[\u001b[49m\u001b[38;5;124;43m'\u001b[39;49m\u001b[38;5;124;43mage\u001b[39;49m\u001b[38;5;124;43m'\u001b[39;49m\u001b[43m,\u001b[49m\u001b[38;5;124;43m'\u001b[39;49m\u001b[38;5;124;43msex\u001b[39;49m\u001b[38;5;124;43m'\u001b[39;49m\u001b[43m,\u001b[49m\u001b[38;5;124;43m'\u001b[39;49m\u001b[38;5;124;43msite\u001b[39;49m\u001b[38;5;124;43m'\u001b[39;49m\u001b[43m]\u001b[49m\u001b[43m)\u001b[49m\n",
      "Cell \u001b[0;32mIn[9], line 29\u001b[0m, in \u001b[0;36mall_groups_stats\u001b[0;34m(df, labels)\u001b[0m\n\u001b[1;32m     27\u001b[0m \u001b[38;5;28;01mif\u001b[39;00m label \u001b[38;5;241m==\u001b[39m \u001b[38;5;124m'\u001b[39m\u001b[38;5;124msex\u001b[39m\u001b[38;5;124m'\u001b[39m \u001b[38;5;129;01mor\u001b[39;00m label \u001b[38;5;241m==\u001b[39m \u001b[38;5;124m'\u001b[39m\u001b[38;5;124msite\u001b[39m\u001b[38;5;124m'\u001b[39m:\n\u001b[1;32m     28\u001b[0m     new_df \u001b[38;5;241m=\u001b[39m df\u001b[38;5;241m.\u001b[39mloc[(df[\u001b[38;5;124m'\u001b[39m\u001b[38;5;124mgroup\u001b[39m\u001b[38;5;124m'\u001b[39m] \u001b[38;5;241m==\u001b[39m group1) \u001b[38;5;241m|\u001b[39m (df[\u001b[38;5;124m'\u001b[39m\u001b[38;5;124mgroup\u001b[39m\u001b[38;5;124m'\u001b[39m] \u001b[38;5;241m==\u001b[39m group2)]\n\u001b[0;32m---> 29\u001b[0m     expected, observed, stats \u001b[38;5;241m=\u001b[39m \u001b[43mpg\u001b[49m\u001b[38;5;241;43m.\u001b[39;49m\u001b[43mchi2_independence\u001b[49m\u001b[43m(\u001b[49m\u001b[43mdata\u001b[49m\u001b[38;5;241;43m=\u001b[39;49m\u001b[43mnew_df\u001b[49m\u001b[43m,\u001b[49m\u001b[43m \u001b[49m\u001b[43mx\u001b[49m\u001b[38;5;241;43m=\u001b[39;49m\u001b[43mlabel\u001b[49m\u001b[43m,\u001b[49m\u001b[43m \u001b[49m\u001b[43my\u001b[49m\u001b[38;5;241;43m=\u001b[39;49m\u001b[38;5;124;43m'\u001b[39;49m\u001b[38;5;124;43mgroup\u001b[39;49m\u001b[38;5;124;43m'\u001b[39;49m\u001b[43m)\u001b[49m\n\u001b[1;32m     30\u001b[0m     \u001b[38;5;28mprint\u001b[39m(\u001b[38;5;124mf\u001b[39m\u001b[38;5;124m\"\u001b[39m\u001b[38;5;124mChi-square test for \u001b[39m\u001b[38;5;132;01m{\u001b[39;00mlabel\u001b[38;5;132;01m}\u001b[39;00m\u001b[38;5;124m between \u001b[39m\u001b[38;5;132;01m{\u001b[39;00mgroup1\u001b[38;5;132;01m}\u001b[39;00m\u001b[38;5;124m and \u001b[39m\u001b[38;5;132;01m{\u001b[39;00mgroup2\u001b[38;5;132;01m}\u001b[39;00m\u001b[38;5;124m:\u001b[39m\u001b[38;5;124m\"\u001b[39m)\n\u001b[1;32m     31\u001b[0m     \u001b[38;5;28mprint\u001b[39m(\u001b[38;5;124mf\u001b[39m\u001b[38;5;124m\"\u001b[39m\u001b[38;5;130;01m\\t\u001b[39;00m\u001b[38;5;124m Chi2 = \u001b[39m\u001b[38;5;132;01m{\u001b[39;00mnp\u001b[38;5;241m.\u001b[39mround(stats\u001b[38;5;241m.\u001b[39mchi2[\u001b[38;5;241m0\u001b[39m],\u001b[38;5;250m \u001b[39m\u001b[38;5;241m3\u001b[39m)\u001b[38;5;132;01m}\u001b[39;00m\u001b[38;5;124m\"\u001b[39m)\n",
      "File \u001b[0;32m~/miniconda3/envs/neuroimg/lib/python3.12/site-packages/pingouin/contingency.py:141\u001b[0m, in \u001b[0;36mchi2_independence\u001b[0;34m(data, x, y, correction)\u001b[0m\n\u001b[1;32m    138\u001b[0m \u001b[38;5;28;01massert\u001b[39;00m \u001b[38;5;28mall\u001b[39m(col \u001b[38;5;129;01min\u001b[39;00m data\u001b[38;5;241m.\u001b[39mcolumns \u001b[38;5;28;01mfor\u001b[39;00m col \u001b[38;5;129;01min\u001b[39;00m (x, y)), \u001b[38;5;124m\"\u001b[39m\u001b[38;5;124mcolumns are not in dataframe.\u001b[39m\u001b[38;5;124m\"\u001b[39m\n\u001b[1;32m    139\u001b[0m \u001b[38;5;28;01massert\u001b[39;00m \u001b[38;5;28misinstance\u001b[39m(correction, \u001b[38;5;28mbool\u001b[39m), \u001b[38;5;124m\"\u001b[39m\u001b[38;5;124mcorrection must be a boolean.\u001b[39m\u001b[38;5;124m\"\u001b[39m\n\u001b[0;32m--> 141\u001b[0m observed \u001b[38;5;241m=\u001b[39m \u001b[43mpd\u001b[49m\u001b[38;5;241;43m.\u001b[39;49m\u001b[43mcrosstab\u001b[49m\u001b[43m(\u001b[49m\u001b[43mdata\u001b[49m\u001b[43m[\u001b[49m\u001b[43mx\u001b[49m\u001b[43m]\u001b[49m\u001b[43m,\u001b[49m\u001b[43m \u001b[49m\u001b[43mdata\u001b[49m\u001b[43m[\u001b[49m\u001b[43my\u001b[49m\u001b[43m]\u001b[49m\u001b[43m)\u001b[49m\n\u001b[1;32m    143\u001b[0m \u001b[38;5;28;01mif\u001b[39;00m observed\u001b[38;5;241m.\u001b[39msize \u001b[38;5;241m==\u001b[39m \u001b[38;5;241m0\u001b[39m:\n\u001b[1;32m    144\u001b[0m     \u001b[38;5;28;01mraise\u001b[39;00m \u001b[38;5;167;01mValueError\u001b[39;00m(\u001b[38;5;124m\"\u001b[39m\u001b[38;5;124mNo data; observed has size 0.\u001b[39m\u001b[38;5;124m\"\u001b[39m)\n",
      "File \u001b[0;32m~/miniconda3/envs/neuroimg/lib/python3.12/site-packages/pandas/core/reshape/pivot.py:700\u001b[0m, in \u001b[0;36mcrosstab\u001b[0;34m(index, columns, values, rownames, colnames, aggfunc, margins, margins_name, dropna, normalize)\u001b[0m\n\u001b[1;32m    694\u001b[0m \u001b[38;5;28;01mfrom\u001b[39;00m \u001b[38;5;21;01mpandas\u001b[39;00m \u001b[38;5;28;01mimport\u001b[39;00m DataFrame\n\u001b[1;32m    696\u001b[0m data \u001b[38;5;241m=\u001b[39m {\n\u001b[1;32m    697\u001b[0m     \u001b[38;5;241m*\u001b[39m\u001b[38;5;241m*\u001b[39m\u001b[38;5;28mdict\u001b[39m(\u001b[38;5;28mzip\u001b[39m(unique_rownames, index)),\n\u001b[1;32m    698\u001b[0m     \u001b[38;5;241m*\u001b[39m\u001b[38;5;241m*\u001b[39m\u001b[38;5;28mdict\u001b[39m(\u001b[38;5;28mzip\u001b[39m(unique_colnames, columns)),\n\u001b[1;32m    699\u001b[0m }\n\u001b[0;32m--> 700\u001b[0m df \u001b[38;5;241m=\u001b[39m \u001b[43mDataFrame\u001b[49m\u001b[43m(\u001b[49m\u001b[43mdata\u001b[49m\u001b[43m,\u001b[49m\u001b[43m \u001b[49m\u001b[43mindex\u001b[49m\u001b[38;5;241;43m=\u001b[39;49m\u001b[43mcommon_idx\u001b[49m\u001b[43m)\u001b[49m\n\u001b[1;32m    702\u001b[0m \u001b[38;5;28;01mif\u001b[39;00m values \u001b[38;5;129;01mis\u001b[39;00m \u001b[38;5;28;01mNone\u001b[39;00m:\n\u001b[1;32m    703\u001b[0m     df[\u001b[38;5;124m\"\u001b[39m\u001b[38;5;124m__dummy__\u001b[39m\u001b[38;5;124m\"\u001b[39m] \u001b[38;5;241m=\u001b[39m \u001b[38;5;241m0\u001b[39m\n",
      "File \u001b[0;32m~/miniconda3/envs/neuroimg/lib/python3.12/site-packages/pandas/core/frame.py:733\u001b[0m, in \u001b[0;36mDataFrame.__init__\u001b[0;34m(self, data, index, columns, dtype, copy)\u001b[0m\n\u001b[1;32m    727\u001b[0m     mgr \u001b[38;5;241m=\u001b[39m \u001b[38;5;28mself\u001b[39m\u001b[38;5;241m.\u001b[39m_init_mgr(\n\u001b[1;32m    728\u001b[0m         data, axes\u001b[38;5;241m=\u001b[39m{\u001b[38;5;124m\"\u001b[39m\u001b[38;5;124mindex\u001b[39m\u001b[38;5;124m\"\u001b[39m: index, \u001b[38;5;124m\"\u001b[39m\u001b[38;5;124mcolumns\u001b[39m\u001b[38;5;124m\"\u001b[39m: columns}, dtype\u001b[38;5;241m=\u001b[39mdtype, copy\u001b[38;5;241m=\u001b[39mcopy\n\u001b[1;32m    729\u001b[0m     )\n\u001b[1;32m    731\u001b[0m \u001b[38;5;28;01melif\u001b[39;00m \u001b[38;5;28misinstance\u001b[39m(data, \u001b[38;5;28mdict\u001b[39m):\n\u001b[1;32m    732\u001b[0m     \u001b[38;5;66;03m# GH#38939 de facto copy defaults to False only in non-dict cases\u001b[39;00m\n\u001b[0;32m--> 733\u001b[0m     mgr \u001b[38;5;241m=\u001b[39m \u001b[43mdict_to_mgr\u001b[49m\u001b[43m(\u001b[49m\u001b[43mdata\u001b[49m\u001b[43m,\u001b[49m\u001b[43m \u001b[49m\u001b[43mindex\u001b[49m\u001b[43m,\u001b[49m\u001b[43m \u001b[49m\u001b[43mcolumns\u001b[49m\u001b[43m,\u001b[49m\u001b[43m \u001b[49m\u001b[43mdtype\u001b[49m\u001b[38;5;241;43m=\u001b[39;49m\u001b[43mdtype\u001b[49m\u001b[43m,\u001b[49m\u001b[43m \u001b[49m\u001b[43mcopy\u001b[49m\u001b[38;5;241;43m=\u001b[39;49m\u001b[43mcopy\u001b[49m\u001b[43m,\u001b[49m\u001b[43m \u001b[49m\u001b[43mtyp\u001b[49m\u001b[38;5;241;43m=\u001b[39;49m\u001b[43mmanager\u001b[49m\u001b[43m)\u001b[49m\n\u001b[1;32m    734\u001b[0m \u001b[38;5;28;01melif\u001b[39;00m \u001b[38;5;28misinstance\u001b[39m(data, ma\u001b[38;5;241m.\u001b[39mMaskedArray):\n\u001b[1;32m    735\u001b[0m     \u001b[38;5;28;01mfrom\u001b[39;00m \u001b[38;5;21;01mnumpy\u001b[39;00m\u001b[38;5;21;01m.\u001b[39;00m\u001b[38;5;21;01mma\u001b[39;00m \u001b[38;5;28;01mimport\u001b[39;00m mrecords\n",
      "File \u001b[0;32m~/miniconda3/envs/neuroimg/lib/python3.12/site-packages/pandas/core/internals/construction.py:503\u001b[0m, in \u001b[0;36mdict_to_mgr\u001b[0;34m(data, index, columns, dtype, typ, copy)\u001b[0m\n\u001b[1;32m    499\u001b[0m     \u001b[38;5;28;01melse\u001b[39;00m:\n\u001b[1;32m    500\u001b[0m         \u001b[38;5;66;03m# dtype check to exclude e.g. range objects, scalars\u001b[39;00m\n\u001b[1;32m    501\u001b[0m         arrays \u001b[38;5;241m=\u001b[39m [x\u001b[38;5;241m.\u001b[39mcopy() \u001b[38;5;28;01mif\u001b[39;00m \u001b[38;5;28mhasattr\u001b[39m(x, \u001b[38;5;124m\"\u001b[39m\u001b[38;5;124mdtype\u001b[39m\u001b[38;5;124m\"\u001b[39m) \u001b[38;5;28;01melse\u001b[39;00m x \u001b[38;5;28;01mfor\u001b[39;00m x \u001b[38;5;129;01min\u001b[39;00m arrays]\n\u001b[0;32m--> 503\u001b[0m \u001b[38;5;28;01mreturn\u001b[39;00m \u001b[43marrays_to_mgr\u001b[49m\u001b[43m(\u001b[49m\u001b[43marrays\u001b[49m\u001b[43m,\u001b[49m\u001b[43m \u001b[49m\u001b[43mcolumns\u001b[49m\u001b[43m,\u001b[49m\u001b[43m \u001b[49m\u001b[43mindex\u001b[49m\u001b[43m,\u001b[49m\u001b[43m \u001b[49m\u001b[43mdtype\u001b[49m\u001b[38;5;241;43m=\u001b[39;49m\u001b[43mdtype\u001b[49m\u001b[43m,\u001b[49m\u001b[43m \u001b[49m\u001b[43mtyp\u001b[49m\u001b[38;5;241;43m=\u001b[39;49m\u001b[43mtyp\u001b[49m\u001b[43m,\u001b[49m\u001b[43m \u001b[49m\u001b[43mconsolidate\u001b[49m\u001b[38;5;241;43m=\u001b[39;49m\u001b[43mcopy\u001b[49m\u001b[43m)\u001b[49m\n",
      "File \u001b[0;32m~/miniconda3/envs/neuroimg/lib/python3.12/site-packages/pandas/core/internals/construction.py:119\u001b[0m, in \u001b[0;36marrays_to_mgr\u001b[0;34m(arrays, columns, index, dtype, verify_integrity, typ, consolidate)\u001b[0m\n\u001b[1;32m    116\u001b[0m         index \u001b[38;5;241m=\u001b[39m ensure_index(index)\n\u001b[1;32m    118\u001b[0m     \u001b[38;5;66;03m# don't force copy because getting jammed in an ndarray anyway\u001b[39;00m\n\u001b[0;32m--> 119\u001b[0m     arrays, refs \u001b[38;5;241m=\u001b[39m \u001b[43m_homogenize\u001b[49m\u001b[43m(\u001b[49m\u001b[43marrays\u001b[49m\u001b[43m,\u001b[49m\u001b[43m \u001b[49m\u001b[43mindex\u001b[49m\u001b[43m,\u001b[49m\u001b[43m \u001b[49m\u001b[43mdtype\u001b[49m\u001b[43m)\u001b[49m\n\u001b[1;32m    120\u001b[0m     \u001b[38;5;66;03m# _homogenize ensures\u001b[39;00m\n\u001b[1;32m    121\u001b[0m     \u001b[38;5;66;03m#  - all(len(x) == len(index) for x in arrays)\u001b[39;00m\n\u001b[1;32m    122\u001b[0m     \u001b[38;5;66;03m#  - all(x.ndim == 1 for x in arrays)\u001b[39;00m\n\u001b[0;32m   (...)\u001b[0m\n\u001b[1;32m    125\u001b[0m \n\u001b[1;32m    126\u001b[0m \u001b[38;5;28;01melse\u001b[39;00m:\n\u001b[1;32m    127\u001b[0m     index \u001b[38;5;241m=\u001b[39m ensure_index(index)\n",
      "File \u001b[0;32m~/miniconda3/envs/neuroimg/lib/python3.12/site-packages/pandas/core/internals/construction.py:629\u001b[0m, in \u001b[0;36m_homogenize\u001b[0;34m(data, index, dtype)\u001b[0m\n\u001b[1;32m    626\u001b[0m         val \u001b[38;5;241m=\u001b[39m \u001b[38;5;28mdict\u001b[39m(val)\n\u001b[1;32m    627\u001b[0m     val \u001b[38;5;241m=\u001b[39m lib\u001b[38;5;241m.\u001b[39mfast_multiget(val, oindex\u001b[38;5;241m.\u001b[39m_values, default\u001b[38;5;241m=\u001b[39mnp\u001b[38;5;241m.\u001b[39mnan)\n\u001b[0;32m--> 629\u001b[0m val \u001b[38;5;241m=\u001b[39m \u001b[43msanitize_array\u001b[49m\u001b[43m(\u001b[49m\u001b[43mval\u001b[49m\u001b[43m,\u001b[49m\u001b[43m \u001b[49m\u001b[43mindex\u001b[49m\u001b[43m,\u001b[49m\u001b[43m \u001b[49m\u001b[43mdtype\u001b[49m\u001b[38;5;241;43m=\u001b[39;49m\u001b[43mdtype\u001b[49m\u001b[43m,\u001b[49m\u001b[43m \u001b[49m\u001b[43mcopy\u001b[49m\u001b[38;5;241;43m=\u001b[39;49m\u001b[38;5;28;43;01mFalse\u001b[39;49;00m\u001b[43m)\u001b[49m\n\u001b[1;32m    630\u001b[0m com\u001b[38;5;241m.\u001b[39mrequire_length_match(val, index)\n\u001b[1;32m    631\u001b[0m refs\u001b[38;5;241m.\u001b[39mappend(\u001b[38;5;28;01mNone\u001b[39;00m)\n",
      "File \u001b[0;32m~/miniconda3/envs/neuroimg/lib/python3.12/site-packages/pandas/core/construction.py:632\u001b[0m, in \u001b[0;36msanitize_array\u001b[0;34m(data, index, dtype, copy, allow_2d)\u001b[0m\n\u001b[1;32m    629\u001b[0m \u001b[38;5;28;01melif\u001b[39;00m \u001b[38;5;28mhasattr\u001b[39m(data, \u001b[38;5;124m\"\u001b[39m\u001b[38;5;124m__array__\u001b[39m\u001b[38;5;124m\"\u001b[39m):\n\u001b[1;32m    630\u001b[0m     \u001b[38;5;66;03m# e.g. dask array GH#38645\u001b[39;00m\n\u001b[1;32m    631\u001b[0m     data \u001b[38;5;241m=\u001b[39m np\u001b[38;5;241m.\u001b[39marray(data, copy\u001b[38;5;241m=\u001b[39mcopy)\n\u001b[0;32m--> 632\u001b[0m     \u001b[38;5;28;01mreturn\u001b[39;00m \u001b[43msanitize_array\u001b[49m\u001b[43m(\u001b[49m\n\u001b[1;32m    633\u001b[0m \u001b[43m        \u001b[49m\u001b[43mdata\u001b[49m\u001b[43m,\u001b[49m\n\u001b[1;32m    634\u001b[0m \u001b[43m        \u001b[49m\u001b[43mindex\u001b[49m\u001b[38;5;241;43m=\u001b[39;49m\u001b[43mindex\u001b[49m\u001b[43m,\u001b[49m\n\u001b[1;32m    635\u001b[0m \u001b[43m        \u001b[49m\u001b[43mdtype\u001b[49m\u001b[38;5;241;43m=\u001b[39;49m\u001b[43mdtype\u001b[49m\u001b[43m,\u001b[49m\n\u001b[1;32m    636\u001b[0m \u001b[43m        \u001b[49m\u001b[43mcopy\u001b[49m\u001b[38;5;241;43m=\u001b[39;49m\u001b[38;5;28;43;01mFalse\u001b[39;49;00m\u001b[43m,\u001b[49m\n\u001b[1;32m    637\u001b[0m \u001b[43m        \u001b[49m\u001b[43mallow_2d\u001b[49m\u001b[38;5;241;43m=\u001b[39;49m\u001b[43mallow_2d\u001b[49m\u001b[43m,\u001b[49m\n\u001b[1;32m    638\u001b[0m \u001b[43m    \u001b[49m\u001b[43m)\u001b[49m\n\u001b[1;32m    640\u001b[0m \u001b[38;5;28;01melse\u001b[39;00m:\n\u001b[1;32m    641\u001b[0m     _sanitize_non_ordered(data)\n",
      "File \u001b[0;32m~/miniconda3/envs/neuroimg/lib/python3.12/site-packages/pandas/core/construction.py:658\u001b[0m, in \u001b[0;36msanitize_array\u001b[0;34m(data, index, dtype, copy, allow_2d)\u001b[0m\n\u001b[1;32m    655\u001b[0m             subarr \u001b[38;5;241m=\u001b[39m cast(np\u001b[38;5;241m.\u001b[39mndarray, subarr)\n\u001b[1;32m    656\u001b[0m             subarr \u001b[38;5;241m=\u001b[39m maybe_infer_to_datetimelike(subarr)\n\u001b[0;32m--> 658\u001b[0m subarr \u001b[38;5;241m=\u001b[39m \u001b[43m_sanitize_ndim\u001b[49m\u001b[43m(\u001b[49m\u001b[43msubarr\u001b[49m\u001b[43m,\u001b[49m\u001b[43m \u001b[49m\u001b[43mdata\u001b[49m\u001b[43m,\u001b[49m\u001b[43m \u001b[49m\u001b[43mdtype\u001b[49m\u001b[43m,\u001b[49m\u001b[43m \u001b[49m\u001b[43mindex\u001b[49m\u001b[43m,\u001b[49m\u001b[43m \u001b[49m\u001b[43mallow_2d\u001b[49m\u001b[38;5;241;43m=\u001b[39;49m\u001b[43mallow_2d\u001b[49m\u001b[43m)\u001b[49m\n\u001b[1;32m    660\u001b[0m \u001b[38;5;28;01mif\u001b[39;00m \u001b[38;5;28misinstance\u001b[39m(subarr, np\u001b[38;5;241m.\u001b[39mndarray):\n\u001b[1;32m    661\u001b[0m     \u001b[38;5;66;03m# at this point we should have dtype be None or subarr.dtype == dtype\u001b[39;00m\n\u001b[1;32m    662\u001b[0m     dtype \u001b[38;5;241m=\u001b[39m cast(np\u001b[38;5;241m.\u001b[39mdtype, dtype)\n",
      "File \u001b[0;32m~/miniconda3/envs/neuroimg/lib/python3.12/site-packages/pandas/core/construction.py:717\u001b[0m, in \u001b[0;36m_sanitize_ndim\u001b[0;34m(result, data, dtype, index, allow_2d)\u001b[0m\n\u001b[1;32m    715\u001b[0m     \u001b[38;5;28;01mif\u001b[39;00m allow_2d:\n\u001b[1;32m    716\u001b[0m         \u001b[38;5;28;01mreturn\u001b[39;00m result\n\u001b[0;32m--> 717\u001b[0m     \u001b[38;5;28;01mraise\u001b[39;00m \u001b[38;5;167;01mValueError\u001b[39;00m(\n\u001b[1;32m    718\u001b[0m         \u001b[38;5;124mf\u001b[39m\u001b[38;5;124m\"\u001b[39m\u001b[38;5;124mData must be 1-dimensional, got ndarray of shape \u001b[39m\u001b[38;5;132;01m{\u001b[39;00mdata\u001b[38;5;241m.\u001b[39mshape\u001b[38;5;132;01m}\u001b[39;00m\u001b[38;5;124m instead\u001b[39m\u001b[38;5;124m\"\u001b[39m\n\u001b[1;32m    719\u001b[0m     )\n\u001b[1;32m    720\u001b[0m \u001b[38;5;28;01mif\u001b[39;00m is_object_dtype(dtype) \u001b[38;5;129;01mand\u001b[39;00m \u001b[38;5;28misinstance\u001b[39m(dtype, ExtensionDtype):\n\u001b[1;32m    721\u001b[0m     \u001b[38;5;66;03m# i.e. NumpyEADtype(\"O\")\u001b[39;00m\n\u001b[1;32m    723\u001b[0m     result \u001b[38;5;241m=\u001b[39m com\u001b[38;5;241m.\u001b[39masarray_tuplesafe(data, dtype\u001b[38;5;241m=\u001b[39mnp\u001b[38;5;241m.\u001b[39mdtype(\u001b[38;5;124m\"\u001b[39m\u001b[38;5;124mobject\u001b[39m\u001b[38;5;124m\"\u001b[39m))\n",
      "\u001b[0;31mValueError\u001b[0m: Data must be 1-dimensional, got ndarray of shape (126, 2) instead"
     ]
    }
   ],
   "source": [
    "# Check if bad subjects exist in the index before dropping them\n",
    "bad_subjs_to_drop = [subj for subj in bad_subjs if subj in df['participant_id'].values]\n",
    "\n",
    "# Drop the bad subjects if they exist in the index\n",
    "df = df[~df['participant_id'].isin(bad_subjs_to_drop)]\n",
    "\n",
    "# print average demos\n",
    "print(df['group'].value_counts())\n",
    "print(df.groupby(['group'])[['age', 'sex', 'site']].mean())\n",
    "\n",
    "all_groups_stats(df,labels=['age','sex','site'])"
   ]
  },
  {
   "cell_type": "markdown",
   "metadata": {},
   "source": [
    "6. Save subj list"
   ]
  },
  {
   "cell_type": "code",
   "execution_count": 41,
   "metadata": {},
   "outputs": [],
   "source": [
    "df.to_csv(preproc_dataset + 'subj_list.tsv', sep='\\t', index=False)\n",
    "\n",
    "# Get the values from the 'sub_id' column as a list\n",
    "subj_list = df['participant_id'].tolist()\n",
    "with open('subj_id_list.txt', 'w') as f:\n",
    "    for item in subj_list:\n",
    "        f.write(\"%s\\n\" % item)"
   ]
  },
  {
   "cell_type": "markdown",
   "metadata": {},
   "source": [
    "7. Demographic table"
   ]
  },
  {
   "cell_type": "code",
   "execution_count": 42,
   "metadata": {},
   "outputs": [
    {
     "name": "stdout",
     "output_type": "stream",
     "text": [
      "group\n",
      "CTRL    99\n",
      "BPLR    38\n",
      "ADHD    34\n",
      "SCZ     27\n",
      "Name: count, dtype: int64\n",
      "             age        age       sex       sex      site      site  RMS-avg  \\\n",
      "group                                                                          \n",
      "ADHD   32.529412  32.529412  0.529412  0.529412  0.500000  0.500000      NaN   \n",
      "BPLR   34.500000  34.500000  0.500000  0.500000  0.473684  0.473684      NaN   \n",
      "CTRL   31.444444  31.444444  0.494949  0.494949  0.808081  0.808081      NaN   \n",
      "SCZ    36.185185  36.185185  0.740741  0.740741  0.370370  0.370370      NaN   \n",
      "\n",
      "       edu_years  edu_years    wais_mr    wais_mr   wais_lns   wais_lns  \\\n",
      "group                                                                     \n",
      "ADHD   14.617647  14.617647  20.323529  20.323529  19.941176  19.941176   \n",
      "BPLR   14.789474  14.789474  19.368421  19.368421  19.657895  19.657895   \n",
      "CTRL   15.141414  15.141414  20.646465  20.646465  21.111111  21.111111   \n",
      "SCZ    12.666667  12.666667  14.037037  14.037037  17.851852  17.851852   \n",
      "\n",
      "        wais_voc   wais_voc  \n",
      "group                        \n",
      "ADHD   42.470588  42.470588  \n",
      "BPLR   43.131579  43.131579  \n",
      "CTRL   43.848485  43.848485  \n",
      "SCZ    29.851852  29.851852  \n"
     ]
    }
   ],
   "source": [
    "print(df['group'].value_counts())\n",
    "labels = ['age','sex','site','RMS-avg','edu_years','wais_mr','wais_lns','wais_voc']\n",
    "print(df.groupby(['group'])[labels].mean())\n",
    "ttest_results = all_groups_ttest(df, labels=labels)\n",
    "\n",
    "txt_file_path = '/home/gabridele/Desktop/preproc_psych/ttest_results.txt'\n",
    "\n",
    "# Save the output to a text file\n",
    "with open(txt_file_path, 'w') as txt_file:\n",
    "    txt_file.write(ttest_results)"
   ]
  }
 ],
 "metadata": {
  "kernelspec": {
   "display_name": "neuroimg",
   "language": "python",
   "name": "python3"
  },
  "language_info": {
   "codemirror_mode": {
    "name": "ipython",
    "version": 3
   },
   "file_extension": ".py",
   "mimetype": "text/x-python",
   "name": "python",
   "nbconvert_exporter": "python",
   "pygments_lexer": "ipython3",
   "version": "3.12.1"
  }
 },
 "nbformat": 4,
 "nbformat_minor": 2
}
