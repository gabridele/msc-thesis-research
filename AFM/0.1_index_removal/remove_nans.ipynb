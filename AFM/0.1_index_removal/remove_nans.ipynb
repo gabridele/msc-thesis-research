{
 "cells": [
  {
   "cell_type": "code",
   "execution_count": 23,
   "metadata": {},
   "outputs": [],
   "source": [
    "import pandas as pd\n",
    "import numpy as np\n",
    "import re\n",
    "import glob\n",
    "import os"
   ]
  },
  {
   "cell_type": "code",
   "execution_count": 24,
   "metadata": {},
   "outputs": [
    {
     "name": "stdout",
     "output_type": "stream",
     "text": [
      "/home/gabridele/Desktop/irbio_folder/spreading_dynamics_clinical\n"
     ]
    }
   ],
   "source": [
    "%cd ../spreading_dynamics_clinical/"
   ]
  },
  {
   "cell_type": "code",
   "execution_count": 25,
   "metadata": {},
   "outputs": [],
   "source": [
    "def extract_subject_id(file_path):\n",
    "    match = re.search(r'sub-\\d+', file_path)\n",
    "    if match:\n",
    "        return match.group(0)\n",
    "    return None"
   ]
  },
  {
   "cell_type": "code",
   "execution_count": 26,
   "metadata": {},
   "outputs": [],
   "source": [
    "# Function to load union indices for a specific subject from Excel file\n",
    "def load_union_indices(subject, union_file):\n",
    "    df = pd.read_excel(union_file)\n",
    "    row = df.loc[df['subject'] == subject]\n",
    "    if not row.empty:\n",
    "        union_indices = row['union_indices'].values[0]\n",
    "        if union_indices == '' or pd.isna(union_indices):\n",
    "            return []\n",
    "        return list(map(int, union_indices.split(', ')))\n",
    "    else:\n",
    "        raise ValueError(f\"Subject {subject} not found in {union_file}.\")"
   ]
  },
  {
   "cell_type": "code",
   "execution_count": 27,
   "metadata": {},
   "outputs": [],
   "source": [
    "# 1. Remove rows and columns from a symmetrical matrix in a CSV file\n",
    "def process_sc_matrix(subject, csv_file, union_file):\n",
    "    # Load union indices for the subject\n",
    "    union_indices = load_union_indices(subject, union_file)\n",
    "\n",
    "    # Load the matrix from the CSV file\n",
    "    matrix = pd.read_csv(csv_file, header=None)\n",
    "\n",
    "    # Drop rows and columns corresponding to union_indices\n",
    "    matrix.drop(index=union_indices, columns=union_indices, inplace=True)\n",
    "\n",
    "    # Return the processed matrix\n",
    "    return matrix\n"
   ]
  },
  {
   "cell_type": "code",
   "execution_count": 28,
   "metadata": {},
   "outputs": [],
   "source": [
    "\n",
    "# 2. Remove rows and columns from a symmetrical matrix in a numpy array\n",
    "def process_fc_matrix(subject, npy_file, union_file):\n",
    "    # Load union indices for the subject\n",
    "    union_indices = load_union_indices(subject, union_file)\n",
    "\n",
    "    # Load the numpy array (symmetrical matrix)\n",
    "    matrix = np.load(npy_file)\n",
    "\n",
    "    # Convert numpy array to DataFrame for easy row/column removal\n",
    "    df = pd.DataFrame(matrix)\n",
    "\n",
    "    # Drop rows and columns corresponding to union_indices\n",
    "    df.drop(index=union_indices, columns=union_indices, inplace=True)\n",
    "\n",
    "    # Convert back to numpy array and return\n",
    "    return df.to_numpy()\n"
   ]
  },
  {
   "cell_type": "code",
   "execution_count": 29,
   "metadata": {},
   "outputs": [],
   "source": [
    "# 3. Remove rows from a numpy array (454x1)\n",
    "def process_task_matrix(subject, npy_file, union_file):\n",
    "    # Load union indices for the subject\n",
    "    union_indices = load_union_indices(subject, union_file)\n",
    "\n",
    "    # Load the 454x1 numpy array\n",
    "    array = np.load(npy_file)\n",
    "\n",
    "    # Remove the rows corresponding to union_indices\n",
    "    filtered_array = np.delete(array, union_indices, axis=0)\n",
    "\n",
    "    # Return the processed array\n",
    "    return filtered_array"
   ]
  },
  {
   "cell_type": "code",
   "execution_count": 30,
   "metadata": {},
   "outputs": [],
   "source": [
    "file_paths_sc = glob.glob(\"derivatives/**/dwi/sub*_Schaefer2018_400Parcels_Tian_Subcortex_S4_1mm_5000000mio_connectome.csv\", recursive=True)\n",
    "#file_paths_aw = glob.glob(\"derivatives/**/dwi/restored_full_association_matrix_sub-*_2seeds.csv\", recursive=True)\n",
    "#file_paths_fc = glob.glob(\"derivatives/**/func/sub-*_rs_correlation_matrix.npy\", recursive=True)\n",
    "#file_paths_task = glob.glob(\"preproc_dl/**/scap.feat/sub-*_mean_cope_resampled_ts_1vol.npy\", recursive=True)"
   ]
  },
  {
   "cell_type": "code",
   "execution_count": 31,
   "metadata": {},
   "outputs": [
    {
     "name": "stdout",
     "output_type": "stream",
     "text": [
      "Found 202 SC files\n"
     ]
    }
   ],
   "source": [
    "print(f\"Found {len(file_paths_sc)} SC files\")"
   ]
  },
  {
   "cell_type": "code",
   "execution_count": null,
   "metadata": {},
   "outputs": [],
   "source": [
    "union_file = \"nan_indices_with_union.xlsx\"\n",
    "\n",
    "for file_path_sc in file_paths_sc:\n",
    "    subject_id =  extract_subject_id(file_path_sc)\n",
    "    print('now processing:', subject_id)\n",
    "    # Process CSV file\n",
    "    processed_sc_matrix = process_sc_matrix(subject_id, file_path_sc, union_file)\n",
    "    print('SC shape:', processed_sc_matrix.shape)\n",
    "    processed_sc_matrix.to_csv(f\"derivatives/{subject_id}/dwi/processed_{subject_id}_Schaefer2018_400Parcels_Tian_Subcortex_S4_1mm_5000000mio_connectome.csv\", index=False, header=False)\n",
    "\n",
    "    file_path_aw = f'derivatives/{subject_id}/dwi/restored_full_association_matrix_{subject_id}_2seeds.csv'\n",
    "    if os.path.exists(file_path_aw):\n",
    "        processed_aw_matrix = process_sc_matrix(subject_id, file_path_aw, union_file)\n",
    "        print('AW shape:', processed_aw_matrix.shape)\n",
    "        processed_aw_matrix.to_csv(f\"derivatives/{subject_id}/dwi/processed_association_matrix_{subject_id}_2seeds.csv\", index=False, header=False)\n",
    "    \n",
    "    file_path_fc = f\"derivatives/{subject_id}/func/{subject_id}_rs_correlation_matrix.npy\"    \n",
    "    if os.path.exists(file_path_fc):\n",
    "        processed_FC_matrix = process_fc_matrix(subject_id, file_path_fc, union_file)\n",
    "        print('FC shape:', processed_FC_matrix.shape)\n",
    "        np.save(f\"derivatives/{subject_id}/func/processed_functional_connectivity_{subject_id}.npy\", processed_FC_matrix)\n",
    "\n",
    "    file_path_task = f\"preproc_dl/{subject_id}/scap.feat/{subject_id}_mean_cope_resampled_ts_1vol.npy\"\n",
    "    if os.path.exists(file_path_task):\n",
    "        processed_task_matrix = process_task_matrix(subject_id, file_path_task, union_file)\n",
    "        print('task shape:', processed_task_matrix.shape)\n",
    "        np.save(f\"derivatives/{subject_id}/func/processed_{subject_id}_mean_cope_resampled_ts_1vol.npy\", processed_task_matrix)"
   ]
  },
  {
   "cell_type": "code",
   "execution_count": null,
   "metadata": {},
   "outputs": [],
   "source": [
    "# do same for all the seeds. not optimized in one loop to have better control of output\n",
    "\n",
    "union_file = \"nan_indices_with_union.xlsx\"\n",
    "\n",
    "for file_path_sc in file_paths_sc:\n",
    "    subject_id =  extract_subject_id(file_path_sc)\n",
    "    print('now processing:', subject_id)\n",
    "    # Process CSV file\n",
    "    #processed_sc_matrix = process_sc_matrix(subject_id, file_path_sc, union_file)\n",
    "    #print('SC shape:', processed_sc_matrix.shape)\n",
    "    #processed_sc_matrix.to_csv(f\"derivatives/{subject_id}/dwi/processed_{subject_id}_Schaefer2018_400Parcels_Tian_Subcortex_S4_1mm_5000000mio_connectome.csv\", index=False, header=False)\n",
    "\n",
    "    file_path_aw = f'derivatives/{subject_id}/dwi/restored_full_association_matrix_{subject_id}_40seeds.csv'\n",
    "    if os.path.exists(file_path_aw):\n",
    "        processed_aw_matrix = process_sc_matrix(subject_id, file_path_aw, union_file)\n",
    "        print('AW shape:', processed_aw_matrix.shape)\n",
    "        processed_aw_matrix.to_csv(f\"derivatives/{subject_id}/dwi/processed_association_matrix_{subject_id}_40seeds.csv\", index=False, header=False)"
   ]
  }
 ],
 "metadata": {
  "kernelspec": {
   "display_name": "mrtrix3",
   "language": "python",
   "name": "python3"
  },
  "language_info": {
   "codemirror_mode": {
    "name": "ipython",
    "version": 3
   },
   "file_extension": ".py",
   "mimetype": "text/x-python",
   "name": "python",
   "nbconvert_exporter": "python",
   "pygments_lexer": "ipython3",
   "version": "3.9.7"
  }
 },
 "nbformat": 4,
 "nbformat_minor": 2
}
