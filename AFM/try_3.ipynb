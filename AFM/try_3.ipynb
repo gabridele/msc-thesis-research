{
 "cells": [
  {
   "cell_type": "code",
   "execution_count": 9,
   "metadata": {},
   "outputs": [],
   "source": [
    "import nibabel as nib\n",
    "import numpy as np\n",
    "from scipy.stats import ttest_1samp\n",
    "import h5py\n",
    "import ActflowToolbox as actflow"
   ]
  },
  {
   "cell_type": "code",
   "execution_count": 13,
   "metadata": {},
   "outputs": [
    {
     "data": {
      "text/plain": [
       "(454, 454, 1)"
      ]
     },
     "execution_count": 13,
     "metadata": {},
     "output_type": "execute_result"
    }
   ],
   "source": [
    "#prepare arrays:\n",
    "\n",
    "func_array = np.load(\"sub-60033_diff_wm_2vol_ts_1vol.npy\")\n",
    "func_array.shape\n",
    "func_array = np.expand_dims(func_array, axis=1)\n",
    "func_array.shape\n",
    "func_array = np.expand_dims(func_array, axis=2)\n",
    "func_array.shape\n",
    "\n",
    "conn_array = np.loadtxt(\"association_matrix_sub-60033.csv\",\n",
    "                 delimiter=\",\", dtype=float)\n",
    "conn_array.shape\n",
    "conn_array = np.expand_dims(conn_array, axis=2)\n",
    "conn_array.shape\n",
    "#conn_array = np.expand_dims(conn_array, axis=3)\n",
    "conn_array.shape"
   ]
  },
  {
   "cell_type": "code",
   "execution_count": 15,
   "metadata": {},
   "outputs": [],
   "source": [
    "# Assuming taskActMatrix and connMatrix are numpy arrays\n",
    "taskActMatrix = func_array #shape parcel x ts x subj\n",
    "connMatrix = conn_array # shape parcel x parcel x state x subj\n",
    "\n",
    "numTasks = taskActMatrix.shape[1]\n",
    "numRegions = taskActMatrix.shape[0]\n",
    "numConnStates = connMatrix.shape[2]\n",
    "#numSubjs = connMatrix.shape[3]\n",
    "\n",
    "# Setup for prediction\n",
    "taskPredMatrix = np.zeros((numRegions, numTasks, numSubjs))\n",
    "taskPredRs = np.zeros((numTasks, numSubjs))\n",
    "taskActualMatrix = taskActMatrix\n",
    "regionNumList = np.arange(numRegions)"
   ]
  },
  {
   "cell_type": "code",
   "execution_count": 16,
   "metadata": {},
   "outputs": [
    {
     "name": "stdout",
     "output_type": "stream",
     "text": [
      "Intel MKL WARNING: Support of Intel(R) Streaming SIMD Extensions 4.2 (Intel(R) SSE4.2) enabled only processors has been deprecated. Intel oneAPI Math Kernel Library 2025.0 will require Intel(R) Advanced Vector Extensions (Intel(R) AVX) instructions.\n",
      "ADMM terminated after 412 iterations with status: optimal.\n",
      "ADMM terminated after 375 iterations with status: optimal.\n",
      "ADMM terminated after 374 iterations with status: optimal.\n",
      "ADMM terminated after 352 iterations with status: optimal.\n",
      "ADMM terminated after 350 iterations with status: optimal.\n",
      "ADMM terminated after 399 iterations with status: optimal.\n",
      "ADMM terminated after 377 iterations with status: optimal.\n",
      "ADMM terminated after 387 iterations with status: optimal.\n",
      "ADMM terminated after 393 iterations with status: optimal.\n",
      "ADMM terminated after 365 iterations with status: optimal.\n",
      "ADMM terminated after 432 iterations with status: optimal.\n",
      "ADMM terminated after 397 iterations with status: optimal.\n",
      "ADMM terminated after 380 iterations with status: optimal.\n",
      "ADMM terminated after 356 iterations with status: optimal.\n",
      "ADMM terminated after 356 iterations with status: optimal.\n",
      "ADMM terminated after 425 iterations with status: optimal.\n",
      "ADMM terminated after 362 iterations with status: optimal.\n",
      "ADMM terminated after 400 iterations with status: optimal.\n",
      "ADMM terminated after 408 iterations with status: optimal.\n",
      "ADMM terminated after 388 iterations with status: optimal.\n",
      "ADMM terminated after 311 iterations with status: optimal.\n",
      "ADMM terminated after 296 iterations with status: optimal.\n",
      "ADMM terminated after 287 iterations with status: optimal.\n",
      "ADMM terminated after 268 iterations with status: optimal.\n",
      "ADMM terminated after 270 iterations with status: optimal.\n",
      "ADMM terminated after 302 iterations with status: optimal.\n",
      "ADMM terminated after 281 iterations with status: optimal.\n",
      "ADMM terminated after 295 iterations with status: optimal.\n",
      "ADMM terminated after 302 iterations with status: optimal.\n",
      "ADMM terminated after 290 iterations with status: optimal.\n",
      "ADMM terminated after 228 iterations with status: optimal.\n",
      "ADMM terminated after 227 iterations with status: optimal.\n",
      "ADMM terminated after 227 iterations with status: optimal.\n",
      "ADMM terminated after 226 iterations with status: optimal.\n",
      "ADMM terminated after 226 iterations with status: optimal.\n",
      "ADMM terminated after 227 iterations with status: optimal.\n",
      "ADMM terminated after 226 iterations with status: optimal.\n",
      "ADMM terminated after 227 iterations with status: optimal.\n",
      "ADMM terminated after 227 iterations with status: optimal.\n",
      "ADMM terminated after 227 iterations with status: optimal.\n",
      "ADMM terminated after 220 iterations with status: optimal.\n",
      "ADMM terminated after 224 iterations with status: optimal.\n",
      "ADMM terminated after 204 iterations with status: optimal.\n",
      "ADMM terminated after 204 iterations with status: optimal.\n",
      "ADMM terminated after 204 iterations with status: optimal.\n",
      "ADMM terminated after 218 iterations with status: optimal.\n",
      "ADMM terminated after 203 iterations with status: optimal.\n",
      "ADMM terminated after 208 iterations with status: optimal.\n",
      "ADMM terminated after 209 iterations with status: optimal.\n",
      "ADMM terminated after 204 iterations with status: optimal.\n",
      "ADMM terminated after 273 iterations with status: optimal.\n",
      "ADMM terminated after 271 iterations with status: optimal.\n",
      "ADMM terminated after 194 iterations with status: optimal.\n",
      "ADMM terminated after 205 iterations with status: optimal.\n",
      "ADMM terminated after 205 iterations with status: optimal.\n",
      "ADMM terminated after 271 iterations with status: optimal.\n",
      "ADMM terminated after 190 iterations with status: optimal.\n",
      "ADMM terminated after 196 iterations with status: optimal.\n",
      "ADMM terminated after 271 iterations with status: optimal.\n",
      "ADMM terminated after 241 iterations with status: optimal.\n",
      "ADMM terminated after 231 iterations with status: optimal.\n",
      "ADMM terminated after 231 iterations with status: optimal.\n",
      "ADMM terminated after 232 iterations with status: optimal.\n",
      "ADMM terminated after 238 iterations with status: optimal.\n",
      "ADMM terminated after 233 iterations with status: optimal.\n",
      "ADMM terminated after 233 iterations with status: optimal.\n",
      "ADMM terminated after 232 iterations with status: optimal.\n"
     ]
    }
   ],
   "source": [
    "%%time\n",
    "#Estimate glasso FC (a form of regularized partial correlation), using cross-validation to estimate the L1 regularization parameter\n",
    "restFC_glassoFC=np.zeros((numRegions,numRegions,numSubjs))\n",
    "scount=0\n",
    "\n",
    "glassoFC_output=actflow.connectivity_estimation.graphicalLassoCV(conn_array[:,:,scount])\n",
    "restFC_glassoFC[:,:,scount]=glassoFC_output[0]\n",
    "scount += 1"
   ]
  }
 ],
 "metadata": {
  "kernelspec": {
   "display_name": "Python 3",
   "language": "python",
   "name": "python3"
  },
  "language_info": {
   "codemirror_mode": {
    "name": "ipython",
    "version": 3
   },
   "file_extension": ".py",
   "mimetype": "text/x-python",
   "name": "python",
   "nbconvert_exporter": "python",
   "pygments_lexer": "ipython3",
   "version": "3.9.18"
  }
 },
 "nbformat": 4,
 "nbformat_minor": 2
}
