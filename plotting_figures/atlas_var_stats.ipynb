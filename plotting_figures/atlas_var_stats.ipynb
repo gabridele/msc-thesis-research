{
 "cells": [
  {
   "cell_type": "code",
   "execution_count": 16,
   "metadata": {},
   "outputs": [],
   "source": [
    "import nibabel as nib\n",
    "import numpy as np\n",
    "import pandas as pd\n",
    "import matplotlib.pyplot as plt\n",
    "from scipy.stats import zscore\n"
   ]
  },
  {
   "cell_type": "code",
   "execution_count": 49,
   "metadata": {},
   "outputs": [],
   "source": [
    "#load data\n",
    "atlas_path = \"/home/gabridele/Desktop/irbio_folder/spreading_dynamics_clinical/derivatives/templates/Schaefer2018_400Parcels_Tian_Subcortex_S4_1mm_2009c_NLinAsymm.nii.gz\"\n",
    "atlas_img = nib.load(atlas_path)\n",
    "atlas_data = atlas_img.get_fdata()\n",
    "\n",
    "def show_slices(slices):\n",
    "   \"\"\" Function to display row of image slices \"\"\"\n",
    "   fig, axes = plt.subplots(1, len(slices))\n",
    "   for i, slice in enumerate(slices):\n",
    "       axes[i].imshow(slice.T, cmap=\"gray\", origin=\"lower\") "
   ]
  },
  {
   "cell_type": "code",
   "execution_count": 18,
   "metadata": {},
   "outputs": [],
   "source": [
    "# Load data\n",
    "vols = pd.read_csv(\"irbio_folder/spreading_dynamics_clinical/concat_vols.tsv\", sep='\\t')\n",
    "vols.index.name = 'Parcels'\n",
    "vols.index += 1\n",
    "\n",
    "vols = vols.reindex(sorted(vols.columns), axis=1)"
   ]
  },
  {
   "cell_type": "code",
   "execution_count": 36,
   "metadata": {},
   "outputs": [
    {
     "name": "stdout",
     "output_type": "stream",
     "text": [
      "Parcels\n",
      "1      1.084825\n",
      "2      1.184077\n",
      "3      1.452108\n",
      "4      1.568265\n",
      "5      1.185797\n",
      "         ...   \n",
      "450    1.342307\n",
      "451    1.317956\n",
      "452    1.475362\n",
      "453    1.052464\n",
      "454    1.347649\n",
      "Length: 454, dtype: float64\n"
     ]
    }
   ],
   "source": [
    "zscored_vols = vols.apply(zscore, axis=1)\n",
    "\n",
    "roi_iqr = zscored_vols.apply(lambda x: x.quantile(0.75) - x.quantile(0.25), axis=1)\n",
    "print(roi_iqr)"
   ]
  },
  {
   "cell_type": "code",
   "execution_count": 50,
   "metadata": {},
   "outputs": [],
   "source": [
    "stats_data = np.zeros_like(atlas_data)\n",
    "\n",
    "for roi_index in range(1, len(roi_iqr_vector) + 1):\n",
    "    roi_indices = np.where(atlas_data == roi_index)\n",
    "    stats_data[roi_indices] = roi_iqr_vector[roi_index - 1]\n",
    "\n",
    "stats_img = nib.Nifti1Image(stats_data, atlas_img.affine, header=atlas_img.header)\n",
    "nib.save(stats_img, 'roi_iqr_values_mapped.nii.gz')"
   ]
  }
 ],
 "metadata": {
  "kernelspec": {
   "display_name": "mrtrix3",
   "language": "python",
   "name": "python3"
  },
  "language_info": {
   "codemirror_mode": {
    "name": "ipython",
    "version": 3
   },
   "file_extension": ".py",
   "mimetype": "text/x-python",
   "name": "python",
   "nbconvert_exporter": "python",
   "pygments_lexer": "ipython3",
   "version": "3.9.7"
  }
 },
 "nbformat": 4,
 "nbformat_minor": 2
}
