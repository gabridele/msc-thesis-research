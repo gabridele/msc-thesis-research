{
 "cells": [
  {
   "cell_type": "code",
   "execution_count": 2,
   "metadata": {},
   "outputs": [
    {
     "name": "stdout",
     "output_type": "stream",
     "text": [
      "/home/gabridele/Desktop/irbio_folder/spreading_dynamics_clinical\n"
     ]
    }
   ],
   "source": [
    "%cd ../spreading_dynamics_clinical/"
   ]
  },
  {
   "cell_type": "code",
   "execution_count": 4,
   "metadata": {},
   "outputs": [
    {
     "name": "stdout",
     "output_type": "stream",
     "text": [
      "     subject  dwi_count                                        dwi_indices  \\\n",
      "0  sub-10159         16  65, 420, 261, 263, 392, 202, 203, 172, 266, 17...   \n",
      "1  sub-10171          0                                                NaN   \n",
      "2  sub-10189          9           256, 65, 257, 68, 261, 263, 266, 379, 62   \n",
      "3  sub-10206          2                                           172, 175   \n",
      "4  sub-10217          0                                                NaN   \n",
      "\n",
      "   fc_nan_count  fc_nan_indices                             union_indices  \n",
      "0             0  file not found                                       NaN  \n",
      "1             0             NaN                                       NaN  \n",
      "2             0             NaN  62, 65, 68, 256, 257, 261, 263, 266, 379  \n",
      "3             0             NaN                                  172, 175  \n",
      "4             0             NaN                                       NaN  \n"
     ]
    }
   ],
   "source": [
    "import pandas as pd\n",
    "\n",
    "# Load the existing Excel file\n",
    "df = pd.read_excel('nan_indices.xlsx')\n",
    "\n",
    "# Define a function to compute the union of indices from column 3 and column 5\n",
    "def compute_union(dwi_indices, fc_nan_indices):\n",
    "    # Ignore rows with 'file not found'\n",
    "    if 'file not found' in str(dwi_indices) or 'file not found' in str(fc_nan_indices):\n",
    "        return ''  # Return empty string or you can return 'N/A'\n",
    "    \n",
    "    if pd.isna(dwi_indices) or dwi_indices == '':  # Handle NaN or empty\n",
    "        dwi_set = set()\n",
    "    else:\n",
    "        dwi_set = set(map(int, dwi_indices.split(', ')))\n",
    "    \n",
    "    if pd.isna(fc_nan_indices) or fc_nan_indices == '':  # Handle NaN or empty\n",
    "        fc_set = set()\n",
    "    else:\n",
    "        fc_set = set(map(int, fc_nan_indices.split(', ')))\n",
    "\n",
    "    # Return the union of both sets, sorted\n",
    "    union_set = sorted(dwi_set.union(fc_set))\n",
    "    return ', '.join(map(str, union_set))\n",
    "\n",
    "# Apply the union function to each row and create a new column for the union\n",
    "df['union_indices'] = df.apply(lambda row: compute_union(row['dwi_indices'], row['fc_nan_indices']), axis=1)\n",
    "\n",
    "# Save the updated DataFrame to a new Excel file\n",
    "df.to_excel('nan_indices_with_union.xlsx', index=False)\n",
    "\n",
    "# Load and print the new Excel file to verify\n",
    "df_new = pd.read_excel('nan_indices_with_union.xlsx')\n",
    "print(df_new.head())"
   ]
  }
 ],
 "metadata": {
  "kernelspec": {
   "display_name": "mrtrix3",
   "language": "python",
   "name": "python3"
  },
  "language_info": {
   "codemirror_mode": {
    "name": "ipython",
    "version": 3
   },
   "file_extension": ".py",
   "mimetype": "text/x-python",
   "name": "python",
   "nbconvert_exporter": "python",
   "pygments_lexer": "ipython3",
   "version": "3.9.7"
  }
 },
 "nbformat": 4,
 "nbformat_minor": 2
}
