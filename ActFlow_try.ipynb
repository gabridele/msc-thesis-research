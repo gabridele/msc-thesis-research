{
 "cells": [
  {
   "cell_type": "markdown",
   "metadata": {},
   "source": [
    "# Try one"
   ]
  },
  {
   "cell_type": "markdown",
   "metadata": {},
   "source": [
    "## import libs and define vars"
   ]
  },
  {
   "cell_type": "code",
   "execution_count": 6,
   "metadata": {},
   "outputs": [],
   "source": [
    "import pkg_resources\n",
    "import sys\n",
    "import numpy as np\n",
    "import h5py\n",
    "from scipy import stats\n",
    "import time\n",
    "import sklearn\n",
    "from sklearn.linear_model import LinearRegression \n",
    "import math as math\n",
    "#import statsmodels.api as sm\n",
    "import matplotlib.pyplot as plt\n",
    "import matplotlib.image as mpimg\n",
    "import seaborn as sns\n",
    "import wbplot\n",
    "from wbplot import pscalar\n",
    "import ActflowToolbox as actflow\n",
    "import ActflowToolbox.connectivity_estimation as fc\n"
   ]
  },
  {
   "cell_type": "markdown",
   "metadata": {},
   "source": [
    "## Load data"
   ]
  },
  {
   "cell_type": "code",
   "execution_count": 15,
   "metadata": {},
   "outputs": [],
   "source": [
    "actflow_dir = pkg_resources.resource_filename(\"ActflowToolbox.examples\", \"HCP_example_data/\" )\n",
    "subj_nums = [\"100206\", \"108020\", \"117930\", \"126325\", \"133928\", \"143224\", \"153934\", \"164636\", \"174437\", \"183034\", \"194443\", \"204521\", \"212823\", \"268749\", \"322224\", \"385450\", \"463040\", \"529953\", \"587664\", \"656253\", \"731140\", \"814548\", \"877269\", \"978578\", \"100408\", \"108222\", \"118124\", \"126426\", \"134021\", \"144832\"]\n",
    "n_trs = 1195\n",
    "# Load task activations (GLM betas); 360 MMP regions x 24 HCP tasks x 30 HCP subjects \n",
    "file_path = actflow_dir + \"HCP_example_taskactivations_data\" + \".h5\"\n",
    "h5f = h5py.File(file_path, \"r\")\n",
    "activity_data = h5f[\"taskbeta\"][:]\n",
    "h5f.close()\n",
    "n_nodes, n_conditions, n_subjs = activity_data.shape\n",
    "# Load resting-state fMRI data: 360 MMP regions x one run of resting-state fMRI (1195 time points) x 30 HCP subjects\n",
    "rest_data = np.zeros((n_nodes, n_trs, n_subjs))\n",
    "for subj_ix in range(n_subjs):\n",
    "    file_path = (actflow_dir + \"HCP_example_restrun1_subj\" + subj_nums[subj_ix] + \"_data\" + \".h5\")\n",
    "    h5f = h5py.File(file_path, \"r\")\n",
    "    rest_data[:, :, subj_ix] = h5f[\"restdata\"][:] \n",
    "    h5f.close()"
   ]
  },
  {
   "cell_type": "markdown",
   "metadata": {},
   "source": [
    "## Activity flow mapping with regularized partial correlation"
   ]
  },
  {
   "cell_type": "code",
   "execution_count": 26,
   "metadata": {},
   "outputs": [
    {
     "ename": "ExpiredDeprecationError",
     "evalue": "get_data() is deprecated in favor of get_fdata(), which has a more predictable return type. To obtain get_data() behavior going forward, use numpy.asanyarray(img.dataobj).\n\n* deprecated from version: 3.0\n* Raises <class 'nibabel.deprecator.ExpiredDeprecationError'> as of version: 5.0",
     "output_type": "error",
     "traceback": [
      "\u001b[0;31m---------------------------------------------------------------------------\u001b[0m",
      "\u001b[0;31mExpiredDeprecationError\u001b[0m                   Traceback (most recent call last)",
      "Cell \u001b[0;32mIn[26], line 7\u001b[0m\n\u001b[1;32m      5\u001b[0m \u001b[38;5;28;01mfor\u001b[39;00m subj_ix \u001b[38;5;129;01min\u001b[39;00m \u001b[38;5;28mrange\u001b[39m(n_subjs):\n\u001b[1;32m      6\u001b[0m     activity_data_here \u001b[38;5;241m=\u001b[39m activity_data[:, :, subj_ix] \n\u001b[0;32m----> 7\u001b[0m     activity_data_noncirc_all \u001b[38;5;241m=\u001b[39m \u001b[43mfc\u001b[49m\u001b[38;5;241;43m.\u001b[39;49m\u001b[43mcalcactivity_parcelwise_noncircular\u001b[49m\u001b[43m(\u001b[49m\u001b[43mactivity_data\u001b[49m\u001b[43m)\u001b[49m\n\u001b[1;32m      8\u001b[0m     \u001b[38;5;28;01mfor\u001b[39;00m node_ix \u001b[38;5;129;01min\u001b[39;00m \u001b[38;5;28mrange\u001b[39m(n_nodes):\n\u001b[1;32m      9\u001b[0m         \u001b[38;5;28;01mfor\u001b[39;00m cond_ix \u001b[38;5;129;01min\u001b[39;00m \u001b[38;5;28mrange\u001b[39m(n_conditions):\n",
      "File \u001b[0;32m~/miniforge3/envs/mlproj/lib/python3.9/site-packages/ActflowToolbox/connectivity_estimation/calcactivity_parcelwise_noncircular.py:37\u001b[0m, in \u001b[0;36mcalcactivity_parcelwise_noncircular\u001b[0;34m(data, dlabelfile, dilated_parcels, cortex_only, verbose)\u001b[0m\n\u001b[1;32m     35\u001b[0m \u001b[38;5;66;03m# Load dlabel file (cifti)\u001b[39;00m\n\u001b[1;32m     36\u001b[0m \u001b[38;5;28;01mif\u001b[39;00m verbose: \u001b[38;5;28mprint\u001b[39m(\u001b[38;5;124m'\u001b[39m\u001b[38;5;124mLoading in CIFTI dlabel file\u001b[39m\u001b[38;5;124m'\u001b[39m)\n\u001b[0;32m---> 37\u001b[0m dlabels \u001b[38;5;241m=\u001b[39m np\u001b[38;5;241m.\u001b[39msqueeze(\u001b[43mnib\u001b[49m\u001b[38;5;241;43m.\u001b[39;49m\u001b[43mload\u001b[49m\u001b[43m(\u001b[49m\u001b[43mdlabelfile\u001b[49m\u001b[43m)\u001b[49m\u001b[38;5;241;43m.\u001b[39;49m\u001b[43mget_data\u001b[49m\u001b[43m(\u001b[49m\u001b[43m)\u001b[49m)\n\u001b[1;32m     38\u001b[0m \u001b[38;5;66;03m# Find and sort unique parcels\u001b[39;00m\n\u001b[1;32m     39\u001b[0m unique_parcels \u001b[38;5;241m=\u001b[39m np\u001b[38;5;241m.\u001b[39msort(np\u001b[38;5;241m.\u001b[39munique(dlabels))\n",
      "File \u001b[0;32m~/miniforge3/envs/mlproj/lib/python3.9/site-packages/nibabel/deprecator.py:208\u001b[0m, in \u001b[0;36mDeprecator.__call__.<locals>.deprecator.<locals>.deprecated_func\u001b[0;34m(*args, **kwargs)\u001b[0m\n\u001b[1;32m    205\u001b[0m \u001b[38;5;129m@functools\u001b[39m\u001b[38;5;241m.\u001b[39mwraps(func)\n\u001b[1;32m    206\u001b[0m \u001b[38;5;28;01mdef\u001b[39;00m \u001b[38;5;21mdeprecated_func\u001b[39m(\u001b[38;5;241m*\u001b[39margs: P\u001b[38;5;241m.\u001b[39margs, \u001b[38;5;241m*\u001b[39m\u001b[38;5;241m*\u001b[39mkwargs: P\u001b[38;5;241m.\u001b[39mkwargs) \u001b[38;5;241m-\u001b[39m\u001b[38;5;241m>\u001b[39m T:\n\u001b[1;32m    207\u001b[0m     \u001b[38;5;28;01mif\u001b[39;00m until \u001b[38;5;129;01mand\u001b[39;00m \u001b[38;5;28mself\u001b[39m\u001b[38;5;241m.\u001b[39mis_bad_version(until):\n\u001b[0;32m--> 208\u001b[0m         \u001b[38;5;28;01mraise\u001b[39;00m exception(message)\n\u001b[1;32m    209\u001b[0m     warnings\u001b[38;5;241m.\u001b[39mwarn(message, warning, stacklevel\u001b[38;5;241m=\u001b[39m\u001b[38;5;241m2\u001b[39m)\n\u001b[1;32m    210\u001b[0m     \u001b[38;5;28;01mreturn\u001b[39;00m func(\u001b[38;5;241m*\u001b[39margs, \u001b[38;5;241m*\u001b[39m\u001b[38;5;241m*\u001b[39mkwargs)\n",
      "\u001b[0;31mExpiredDeprecationError\u001b[0m: get_data() is deprecated in favor of get_fdata(), which has a more predictable return type. To obtain get_data() behavior going forward, use numpy.asanyarray(img.dataobj).\n\n* deprecated from version: 3.0\n* Raises <class 'nibabel.deprecator.ExpiredDeprecationError'> as of version: 5.0"
     ]
    }
   ],
   "source": [
    "# Exclude source vertices 10 mm from target nodes to avoid circularity\n",
    "# Using preloaded vertex-wise data: activity_data_vertex and rest_data_vertex\n",
    "# Non-circular task activations\n",
    "activity_data_noncirc = np.zeros((n_nodes, n_conditions, n_subjs)) \n",
    "for subj_ix in range(n_subjs):\n",
    "    activity_data_here = activity_data[:, :, subj_ix] \n",
    "    activity_data_noncirc_all = fc.calcactivity_parcelwise_noncircular(activity_data)\n",
    "    for node_ix in range(n_nodes):\n",
    "        for cond_ix in range(n_conditions):\n",
    "            extracted_data = activity_data_noncirc_all[node_ix, node_ix, cond_ix] \n",
    "            activity_data_noncirc[node_ix, cond_ix, subj_ix] = extracted_data.copy()\n",
    "# Non-circular resting-state FC\n",
    "fc_arr_noncirc = np.zeros((n_nodes, n_nodes, n_subjs)) \n",
    "for subj_ix in range(n_subjs):\n",
    "    rest_data_here = rest_data[:, :, subj_ix]\n",
    "# Can specify connmethod = \"combinedFC\" here\n",
    "    fc_arr_noncirc[:, :, subj_ix] = fc.calcconn_parcelwise_noncircular(rest_data)"
   ]
  },
  {
   "cell_type": "code",
   "execution_count": 39,
   "metadata": {},
   "outputs": [
    {
     "name": "stdout",
     "output_type": "stream",
     "text": [
      "Datasets in HDF5 file:\n",
      "restdata\n",
      "<class 'numpy.ndarray'>\n"
     ]
    }
   ],
   "source": [
    "file=\"/Users/gabrieledele/miniforge3/envs/mlproj/lib/python3.9/site-packages/ActflowToolbox/examples/HCP_example_data/HCP_example_taskactivations_data.h5\"\n",
    "with h5py.File(file_path, 'r') as hf:\n",
    "    # List all datasets in the file\n",
    "    print(\"Datasets in HDF5 file:\")\n",
    "    for dataset_name in hf.keys():\n",
    "        print(dataset_name)\n",
    "        data = hf[dataset_name][:]\n",
    "        print(type(data))\n",
    "np.savetxt('/Users/gabrieledele/Desktop/dataH5.csv', data, delimiter=',')"
   ]
  }
 ],
 "metadata": {
  "kernelspec": {
   "display_name": "Python 3",
   "language": "python",
   "name": "python3"
  },
  "language_info": {
   "codemirror_mode": {
    "name": "ipython",
    "version": 3
   },
   "file_extension": ".py",
   "mimetype": "text/x-python",
   "name": "python",
   "nbconvert_exporter": "python",
   "pygments_lexer": "ipython3",
   "version": "3.9.18"
  }
 },
 "nbformat": 4,
 "nbformat_minor": 2
}
