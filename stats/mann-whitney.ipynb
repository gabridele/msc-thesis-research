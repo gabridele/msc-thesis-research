{
 "cells": [
  {
   "cell_type": "code",
   "execution_count": 37,
   "metadata": {},
   "outputs": [
    {
     "name": "stdout",
     "output_type": "stream",
     "text": [
      "/home/gabridele/Desktop/irbio_folder/spreading_dynamics_clinical/derivatives/output_AFM_30\n",
      "/home/gabridele/Desktop/irbio_folder/spreading_dynamics_clinical/derivatives/output_AFM_30\n"
     ]
    }
   ],
   "source": [
    "# assess if there's statistical difference between groups\n",
    "# change folder depending on which seed config you're performing analysis\n",
    "%cd /home/gabridele/Desktop/irbio_folder/spreading_dynamics_clinical/derivatives/output_AFM_30\n",
    "!pwd"
   ]
  },
  {
   "cell_type": "code",
   "execution_count": 29,
   "metadata": {},
   "outputs": [],
   "source": [
    "import scipy.stats as stats \n",
    "import numpy as np\n",
    "import pandas as pd\n",
    "import os, re\n",
    "import glob\n",
    "from cliffs_delta import cliffs_delta"
   ]
  },
  {
   "cell_type": "code",
   "execution_count": 30,
   "metadata": {},
   "outputs": [],
   "source": [
    "def get_spearman_correlation(file_path):\n",
    "    with open(file_path, 'r') as file:\n",
    "        lines = file.readlines()\n",
    "        # given second line is spearman corr\n",
    "        spearman_line = lines[1].strip()\n",
    "        match = re.search(r\"spearman_corr:\\s*(-?[\\d\\.]+)\", spearman_line)\n",
    "\n",
    "        if match:\n",
    "            return float(match.group(1))\n",
    "        else:\n",
    "            print(f\"Spearman correlation not found in file {file_path}\")"
   ]
  },
  {
   "cell_type": "code",
   "execution_count": 38,
   "metadata": {},
   "outputs": [],
   "source": [
    "# function to compute mean corr and to perform non-parametric t test (mann-whitney u)\n",
    "def compute_var_correlations(directory):\n",
    "    file_pattern = os.path.join(directory, \"*.txt\")\n",
    "    files = glob.glob(file_pattern)\n",
    "    \n",
    "    groups = {'CTRL': [], 'SCZ': [], 'BPLR': [], 'ADHD': []}\n",
    "\n",
    "    for file_path in files:\n",
    "        file_name = os.path.basename(file_path)\n",
    "\n",
    "        # Skip the mean_spearman_correlations.txt file\n",
    "        if file_name == \"mean_spearman_correlations.txt\":\n",
    "            continue\n",
    "\n",
    "        correlation = get_spearman_correlation(file_path)\n",
    "\n",
    "        # Skip if correlation is None\n",
    "        if correlation is None:\n",
    "            continue\n",
    "        \n",
    "        # Determine the subject group based on the filename\n",
    "        subject_id = re.search(r\"sub-(\\d+)_\", file_name).group(1)\n",
    "        \n",
    "        if subject_id.startswith('1'):\n",
    "            groups['CTRL'].append(correlation)\n",
    "        elif subject_id.startswith('5'):\n",
    "            groups['SCZ'].append(correlation)\n",
    "        elif subject_id.startswith('6'):\n",
    "            groups['BPLR'].append(correlation)\n",
    "        elif subject_id.startswith('7'):\n",
    "            groups['ADHD'].append(correlation)\n",
    "\n",
    "    # Check if the control group has any data\n",
    "    if len(groups['CTRL']) == 0:\n",
    "        raise ValueError(\"No data found for the CTRL group.\")\n",
    "    \n",
    "    vars = stats.bartlett(groups['CTRL'], groups['SCZ'], groups['BPLR'], groups['ADHD'])\n",
    "\n",
    "    u_scz = stats.mannwhitneyu(groups['CTRL'], groups['SCZ'])\n",
    "    u_bplr = stats.mannwhitneyu(groups['CTRL'], groups['BPLR'])\n",
    "    u_adhd = stats.mannwhitneyu(groups['CTRL'], groups['ADHD'])\n",
    "\n",
    "    d_scz = cliffs_delta(groups['CTRL'], groups['SCZ'])\n",
    "    d_bplr = cliffs_delta(groups['CTRL'], groups['BPLR'])\n",
    "    d_adhd = cliffs_delta(groups['CTRL'], groups['ADHD'])\n",
    "    \n",
    "    # Calculate the variance for the control group\n",
    "    var_ctrl = np.var(groups['CTRL'])\n",
    "    \n",
    "    variances = {}\n",
    "    \n",
    "    for group_name in ['SCZ', 'BPLR', 'ADHD']:\n",
    "        if len(groups[group_name]) > 0:\n",
    "            # Calculate the variance for the current group\n",
    "            variances[group_name] = np.var(groups[group_name])\n",
    "        else:\n",
    "            variances[group_name] = float('nan')\n",
    "    \n",
    "    # Variance differences between the groups and CTRL\n",
    "    var_scz = variances['SCZ']\n",
    "    var_bplr = variances['BPLR']\n",
    "    var_adhd = variances['ADHD']\n",
    "\n",
    "    return d_scz, d_bplr, d_adhd, u_scz, u_bplr, u_adhd"
   ]
  },
  {
   "cell_type": "code",
   "execution_count": 39,
   "metadata": {},
   "outputs": [
    {
     "data": {
      "text/plain": [
       "'output_file = \"mean_spearman_correlations.txt\"\\nwith open(output_file, \\'w\\') as f:\\n    f.write(f\"Overall Mean Spearman Correlation: {overall_mean}\\n\")\\n    for group, mean in group_means.items():\\n        f.write(f\"Mean Spearman Correlation for {group}: {mean}\\n\")\\n\\nprint(f\"Results saved to {output_file}\")'"
      ]
     },
     "execution_count": 39,
     "metadata": {},
     "output_type": "execute_result"
    }
   ],
   "source": [
    "# directory with text files\n",
    "directory = os.getcwd()\n",
    "\n",
    "# compute mean correlations\n",
    "d_scz, d_bplr, d_adhd, u_scz, u_bplr, u_adhd = compute_var_correlations(directory)\n",
    "\n",
    "\"\"\"output_file = \"mean_spearman_correlations.txt\"\n",
    "with open(output_file, 'w') as f:\n",
    "    f.write(f\"Overall Mean Spearman Correlation: {overall_mean}\\n\")\n",
    "    for group, mean in group_means.items():\n",
    "        f.write(f\"Mean Spearman Correlation for {group}: {mean}\\n\")\n",
    "\n",
    "print(f\"Results saved to {output_file}\")\"\"\""
   ]
  },
  {
   "cell_type": "code",
   "execution_count": 40,
   "metadata": {},
   "outputs": [
    {
     "name": "stdout",
     "output_type": "stream",
     "text": [
      "MannwhitneyuResult(statistic=906.0, pvalue=0.18941467328837136)\n",
      "MannwhitneyuResult(statistic=1518.0, pvalue=0.5948537141132926)\n",
      "MannwhitneyuResult(statistic=1180.0, pvalue=0.6089491058069196)\n"
     ]
    }
   ],
   "source": [
    "print(u_scz)\n",
    "print(u_bplr)\n",
    "print(u_adhd)"
   ]
  },
  {
   "cell_type": "code",
   "execution_count": 42,
   "metadata": {},
   "outputs": [
    {
     "name": "stdout",
     "output_type": "stream",
     "text": [
      "(0.1984126984126984, 'small')\n",
      "(0.06302521008403361, 'negligible')\n",
      "(-0.06349206349206349, 'negligible')\n"
     ]
    }
   ],
   "source": [
    "print(d_scz)\n",
    "print(d_bplr)\n",
    "print(d_adhd)"
   ]
  },
  {
   "cell_type": "code",
   "execution_count": 74,
   "metadata": {},
   "outputs": [
    {
     "name": "stdout",
     "output_type": "stream",
     "text": [
      "BartlettResult(statistic=1.3640943759122648, pvalue=0.7139723633202233)\n"
     ]
    }
   ],
   "source": [
    "print(vars)"
   ]
  }
 ],
 "metadata": {
  "kernelspec": {
   "display_name": "mrtrix3",
   "language": "python",
   "name": "python3"
  },
  "language_info": {
   "codemirror_mode": {
    "name": "ipython",
    "version": 3
   },
   "file_extension": ".py",
   "mimetype": "text/x-python",
   "name": "python",
   "nbconvert_exporter": "python",
   "pygments_lexer": "ipython3",
   "version": "3.9.7"
  }
 },
 "nbformat": 4,
 "nbformat_minor": 2
}
