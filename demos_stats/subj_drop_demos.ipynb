{
 "cells": [
  {
   "cell_type": "markdown",
   "metadata": {},
   "source": [
    "# Subject dropping"
   ]
  },
  {
   "cell_type": "markdown",
   "metadata": {},
   "source": [
    "- from df exclude all subs whose id is not in that tsv file\n",
    "- perform t tests and check for differences\n",
    "- plot what you found?"
   ]
  },
  {
   "cell_type": "code",
   "execution_count": 2,
   "metadata": {},
   "outputs": [],
   "source": [
    "import numpy as np\n",
    "import pandas as pd\n",
    "import os\n",
    "import glob\n",
    "import json\n",
    "from scipy.stats import ttest_ind\n",
    "from scipy import stats\n",
    "import pingouin as pg\n",
    "import matplotlib.pyplot as plt\n",
    "import seaborn as sns"
   ]
  },
  {
   "cell_type": "code",
   "execution_count": 56,
   "metadata": {},
   "outputs": [],
   "source": [
    "all_subj = '/home/gabridele/Desktop/preproc_psych/all_subj.tsv'\n",
    "subj_keep_file = '/home/gabridele/Desktop/preproc_psych/subj_keep.tsv'\n",
    "df_fd_file = '/home/gabridele/Desktop/preproc_psych/fd_values_scap-fMRI.xlsx'\n",
    "sub_list2_file = '/home/gabridele/Desktop/preproc_psych/preproc_sub_list2.xlsx'\n",
    "sub_list3_file = '/home/gabridele/Desktop/preproc_psych/preproc_sub_list3.xlsx'\n",
    "labels = ['age','sex','site','mean_FD','edu_years','wais_mr','wais_lns','wais_voc']\n",
    "groups = ['CTRL', 'SCZ', 'BPLR', 'ADHD']"
   ]
  },
  {
   "cell_type": "markdown",
   "metadata": {},
   "source": [
    "Get demos and wais"
   ]
  },
  {
   "cell_type": "code",
   "execution_count": 57,
   "metadata": {},
   "outputs": [
    {
     "name": "stdout",
     "output_type": "stream",
     "text": [
      "sub-10193 doesn't have scap task\n",
      "sub-10948 doesn't have scap task\n",
      "sub-11082 doesn't have scap task\n",
      "sub-70002 doesn't have scap task\n",
      "        Sub_ID diagnosis   reason Hearne base Hearne site control Notes   age  \\\n",
      "0    sub-10159   CONTROL      NaN   sub-10159                 NaN   NaN  30.0   \n",
      "1    sub-10171   CONTROL      NaN   sub-10171                 NaN   NaN  24.0   \n",
      "2    sub-10189   CONTROL      NaN   sub-10189           sub-10189   NaN  49.0   \n",
      "3    sub-10193   CONTROL  no scap         NaN                 NaN   NaN  40.0   \n",
      "4    sub-10206   CONTROL      NaN         NaN                 NaN   NaN  21.0   \n",
      "..         ...       ...      ...         ...                 ...   ...   ...   \n",
      "267  sub-70079      ADHD      NaN   sub-70079           sub-70079   NaN  21.0   \n",
      "268  sub-70080      ADHD      NaN   sub-70080           sub-70080   NaN  48.0   \n",
      "269  sub-70081      ADHD      NaN   sub-70081           sub-70081   NaN  50.0   \n",
      "270  sub-70083      ADHD      NaN   sub-70083           sub-70083   NaN  46.0   \n",
      "271  sub-70086      ADHD      NaN   sub-70086           sub-70086   NaN  48.0   \n",
      "\n",
      "     sex  site  edu_years  wais_mr  wais_lns  wais_voc  \n",
      "0    0.0   1.0       16.0     21.0      19.0      49.0  \n",
      "1    1.0   1.0       16.0     23.0      28.0      53.0  \n",
      "2    1.0   1.0       16.0     22.0      18.0      48.0  \n",
      "3    1.0   0.0       12.0     17.0      20.0      30.0  \n",
      "4    1.0   1.0       13.0     20.0      14.0      35.0  \n",
      "..   ...   ...        ...      ...       ...       ...  \n",
      "267  1.0   0.0       15.0     16.0      22.0      52.0  \n",
      "268  1.0   0.0       13.0     17.0      20.0      51.0  \n",
      "269  1.0   0.0       12.0     18.0      22.0      42.0  \n",
      "270  0.0   0.0       16.0     19.0      17.0      29.0  \n",
      "271  1.0   0.0       14.0     19.0      21.0      56.0  \n",
      "\n",
      "[272 rows x 13 columns]\n",
      "diagnosis\n",
      "CONTROL    130\n",
      "SCZ         50\n",
      "BIPOLAR     49\n",
      "ADHD        43\n",
      "Name: count, dtype: int64\n",
      "                 age       sex      site\n",
      "diagnosis                               \n",
      "ADHD       33.093023  0.488372  0.511628\n",
      "BIPOLAR    35.285714  0.571429  0.530612\n",
      "CONTROL    31.261538  0.523077  0.800000\n",
      "SCZ        36.460000  0.760000  0.500000\n"
     ]
    }
   ],
   "source": [
    "participants_df = pd.read_csv(all_subj, delimiter='\\t')\n",
    "participants_file = \"/home/gabridele/Desktop/psych_dataset/participants.tsv\"\n",
    "\n",
    "df_participants = pd.read_csv(participants_file, sep='\\t', header=0)\n",
    "\n",
    "# Read demographics file\n",
    "demographics_file = '/home/gabridele/Desktop/psych_dataset/phenotype/demographics.tsv'\n",
    "df_demo = pd.read_csv(demographics_file, sep='\\t', header=0)\n",
    "\n",
    "# Read WAIS file\n",
    "wais_file = '/home/gabridele/Desktop/psych_dataset/phenotype/wais.tsv'\n",
    "df_wais = pd.read_csv(wais_file, sep='\\t', header=0)\n",
    "\n",
    "#preallocate\n",
    "age = np.zeros((len(df_participants.index)))\n",
    "sex = age.copy()\n",
    "site = age.copy()\n",
    "edu_years = age.copy()\n",
    "hand = age.copy()\n",
    "wais_mr = age.copy() \n",
    "wais_lns = age.copy()\n",
    "wais_voc = age.copy()\n",
    "\n",
    "for subidx,subj in enumerate(df_participants[\"participant_id\"]):\n",
    "    idx = df_participants.participant_id==subj\n",
    "    \n",
    "    #age\n",
    "    age[subidx] = np.int64(df_participants.age[idx].values[0])\n",
    "    \n",
    "    #sex: F=0, M=1\n",
    "    _sex = df_participants.gender[idx].values\n",
    "    if _sex == 'F':\n",
    "        sex[subidx] = 0\n",
    "\n",
    "    elif _sex == 'M':\n",
    "        sex[subidx] = 1\n",
    "\n",
    "    #site\n",
    "    data = []\n",
    "    file = f'/home/gabridele/Desktop/psych_dataset/{subj}/func/{subj}_task-scap_bold.json'\n",
    "    try:\n",
    "        with open(file) as json_data:\n",
    "            data.append(json.load(json_data))\n",
    "\n",
    "        if data[0]['SoftwareVersions'] == 'syngo MR B15':\n",
    "            site[subidx] = 1\n",
    "        elif data[0]['SoftwareVersions'] == 'syngo MR B17':\n",
    "            site[subidx] = 0\n",
    "    except FileNotFoundError:\n",
    "        print(f'{subj} doesn\\'t have scap task')\n",
    "        \n",
    "\n",
    "    # education (how many years of schooling complete?)\n",
    "    edu_years[subidx] = np.int64(df_demo.school_yrs[idx].values[0])\n",
    "    \n",
    "    #\n",
    "    #hand = \n",
    "    # wais\n",
    "    wais_mr[subidx] = np.int64(df_wais.mr_totalraw[idx].values[0]) \n",
    "    wais_lns[subidx] = np.int64(df_wais.lns_totalraw[idx].values[0])\n",
    "    wais_voc[subidx] = np.int64(df_wais.voc_totalraw[idx].values[0])\n",
    "    \n",
    "# put the data in the df\n",
    "labels = ['age','sex','site','edu_years','wais_mr','wais_lns','wais_voc']\n",
    "demo_data = np.vstack((age,sex,site,edu_years,wais_mr,wais_lns,wais_voc)).T\n",
    "demo_df = pd.DataFrame(data=demo_data,index=participants_df.index,columns=labels)\n",
    "df = pd.concat([participants_df,demo_df],axis=1)\n",
    "print(df)\n",
    "# print average demos\n",
    "print(df['diagnosis'].value_counts())\n",
    "print(df.groupby('diagnosis')[['age', 'sex', 'site']].mean())\n",
    "groups = ['CTRL', 'SCHZ', 'BPLR', 'ADHD']\n",
    "df.to_excel('/home/gabridele/Desktop/preproc_psych/preproc_sub_list3.xlsx', index=True)"
   ]
  },
  {
   "cell_type": "markdown",
   "metadata": {},
   "source": [
    "merge mean FD"
   ]
  },
  {
   "cell_type": "code",
   "execution_count": 58,
   "metadata": {},
   "outputs": [],
   "source": [
    "participants_df = pd.read_csv(all_subj, delimiter='\\t')\n",
    "\n",
    "df_fd = pd.read_excel(df_fd_file)\n",
    "sub_list3 = pd.read_excel(sub_list3_file)\n",
    "\n",
    "df_fd.columns = ['Sub_ID'] + list(df_fd.columns[1:])\n",
    "\n",
    "participants_dff = participants_df.merge(df_fd[['Sub_ID', 'mean']], on='Sub_ID', how='left')\n",
    "\n",
    "participants_dff.rename(columns={'mean': 'mean_FD'}, inplace=True)\n",
    "\n",
    "dff = participants_dff.merge(sub_list3[['Sub_ID', 'age','sex','site','edu_years','wais_mr','wais_lns','wais_voc']], on='Sub_ID', how='left')\n",
    "\n",
    "dff.to_csv(\"/home/gabridele/Desktop/preproc_psych/subj_keeeeep.tsv\", sep='\\t', index=False)"
   ]
  },
  {
   "cell_type": "code",
   "execution_count": 59,
   "metadata": {},
   "outputs": [
    {
     "name": "stdout",
     "output_type": "stream",
     "text": [
      "        Sub_ID diagnosis   reason Hearne base Hearne site control Notes  \\\n",
      "0    sub-10159   CONTROL      NaN   sub-10159                 NaN   NaN   \n",
      "1    sub-10171   CONTROL      NaN   sub-10171                 NaN   NaN   \n",
      "2    sub-10189   CONTROL      NaN   sub-10189           sub-10189   NaN   \n",
      "3    sub-10193   CONTROL  no scap         NaN                 NaN   NaN   \n",
      "4    sub-10206   CONTROL      NaN         NaN                 NaN   NaN   \n",
      "..         ...       ...      ...         ...                 ...   ...   \n",
      "267  sub-70079      ADHD      NaN   sub-70079           sub-70079   NaN   \n",
      "268  sub-70080      ADHD      NaN   sub-70080           sub-70080   NaN   \n",
      "269  sub-70081      ADHD      NaN   sub-70081           sub-70081   NaN   \n",
      "270  sub-70083      ADHD      NaN   sub-70083           sub-70083   NaN   \n",
      "271  sub-70086      ADHD      NaN   sub-70086           sub-70086   NaN   \n",
      "\n",
      "      mean_FD  age  sex  site  edu_years  wais_mr  wais_lns  wais_voc  \n",
      "0    0.177901   30    0     1         16       21        19        49  \n",
      "1    0.174510   24    1     1         16       23        28        53  \n",
      "2    0.142876   49    1     1         16       22        18        48  \n",
      "3         NaN   40    1     0         12       17        20        30  \n",
      "4    0.077702   21    1     1         13       20        14        35  \n",
      "..        ...  ...  ...   ...        ...      ...       ...       ...  \n",
      "267  0.176860   21    1     0         15       16        22        52  \n",
      "268  0.164081   48    1     0         13       17        20        51  \n",
      "269  0.095929   50    1     0         12       18        22        42  \n",
      "270  0.200959   46    0     0         16       19        17        29  \n",
      "271  0.164218   48    1     0         14       19        21        56  \n",
      "\n",
      "[272 rows x 14 columns]\n"
     ]
    }
   ],
   "source": [
    "print(dff)"
   ]
  },
  {
   "cell_type": "markdown",
   "metadata": {},
   "source": [
    "Exclude no dwi and no scap"
   ]
  },
  {
   "cell_type": "code",
   "execution_count": 60,
   "metadata": {},
   "outputs": [
    {
     "name": "stdout",
     "output_type": "stream",
     "text": [
      "Index(['Sub_ID', 'diagnosis', 'reason', 'Hearne base', 'Hearne site control',\n",
      "       'Notes', 'mean_FD', 'age', 'sex', 'site', 'edu_years', 'wais_mr',\n",
      "       'wais_lns', 'wais_voc'],\n",
      "      dtype='object')\n"
     ]
    }
   ],
   "source": [
    "dff = pd.read_csv(\"/home/gabridele/Desktop/preproc_psych/subj_keeeeep.tsv\", sep='\\t')\n",
    "print(dff.columns)\n",
    "a = (dff['reason'] != \"ghost\").values & (dff['reason'] != \"no dwi\").values & (dff['reason'] != \"no scap\").values & (dff['reason'] != \"ghost, mean FD > 0.5\").values & (dff['reason'] != \"ghost, FD perc and mean > 0.5\").values\n",
    "b = ~a\n",
    "exclude_subj = dff[a]\n",
    "\n",
    "# Save the modified DataFrame to a new CSV file\n",
    "exclude_subj.to_csv('/home/gabridele/Desktop/preproc_psych/subj_keep4.tsv', sep='\\t', index=False)\n"
   ]
  },
  {
   "cell_type": "code",
   "execution_count": 61,
   "metadata": {},
   "outputs": [
    {
     "name": "stdout",
     "output_type": "stream",
     "text": [
      "61\n",
      "[False  True]\n",
      "diagnosis\n",
      "CONTROL    106\n",
      "BIPOLAR     41\n",
      "ADHD        35\n",
      "SCZ         29\n",
      "Name: count, dtype: int64\n"
     ]
    }
   ],
   "source": [
    "print(np.count_nonzero(b))\n",
    "print(np.unique(b))\n",
    "print(exclude_subj['diagnosis'].value_counts())"
   ]
  },
  {
   "cell_type": "markdown",
   "metadata": {},
   "source": [
    "do the merging now. create yet another df starting from exclude_subj and merge based on sub_id the fd valuez"
   ]
  },
  {
   "cell_type": "code",
   "execution_count": 62,
   "metadata": {},
   "outputs": [
    {
     "name": "stdout",
     "output_type": "stream",
     "text": [
      "Index(['Sub_ID', 'diagnosis', 'reason', 'Hearne base', 'Hearne site control',\n",
      "       'Notes', 'age', 'sex', 'site', 'edu_years', 'wais_mr', 'wais_lns',\n",
      "       'wais_voc', 'mean_FD', 'std_FD', 'min_FD', '25%', '50%', '75%',\n",
      "       'max_FD', '% > 0.2_FD', '% > 0.5_FD', 'Absolute > 0.2_FD',\n",
      "       'Absolute > 0.5_FD'],\n",
      "      dtype='object')\n"
     ]
    }
   ],
   "source": [
    "\n",
    "\n",
    "df_fd = pd.read_excel(df_fd_file)\n",
    "\n",
    "\n",
    "df_fd.columns = ['Sub_ID'] + list(df_fd.columns[1:])\n",
    "all_fd_values = exclude_subj.drop('mean_FD', axis=1)\n",
    "all_fd_values = all_fd_values.merge(df_fd[['Sub_ID', 'mean', 'std', 'min', '25%', '50%', '75%', 'max', '% > 0.2', '% > 0.5', 'Absolute > 0.2', 'Absolute > 0.5']], on='Sub_ID', how='left')\n",
    "\n",
    "all_fd_values.rename(columns={'mean': 'mean_FD', 'std': 'std_FD', 'min': 'min_FD', 'max': 'max_FD', '% > 0.2': '% > 0.2_FD', '% > 0.5': '% > 0.5_FD', 'Absolute > 0.2': 'Absolute > 0.2_FD', 'Absolute > 0.5': 'Absolute > 0.5_FD'}, inplace=True)\n",
    "\n",
    "all_fd_values.to_csv(\"/home/gabridele/Desktop/preproc_psych/all_fd_values.tsv\", sep='\\t', index=False)\n",
    "print(all_fd_values.columns)"
   ]
  },
  {
   "cell_type": "markdown",
   "metadata": {},
   "source": [
    "Plotting FD"
   ]
  },
  {
   "cell_type": "code",
   "execution_count": 9,
   "metadata": {},
   "outputs": [
    {
     "name": "stdout",
     "output_type": "stream",
     "text": [
      "/home/gabridele/Documents/GitHub/thesis-work/demos_stats\n"
     ]
    }
   ],
   "source": [
    "!pwd\n"
   ]
  },
  {
   "cell_type": "code",
   "execution_count": 22,
   "metadata": {},
   "outputs": [
    {
     "name": "stderr",
     "output_type": "stream",
     "text": [
      "/tmp/ipykernel_1497487/826530562.py:45: FutureWarning: \n",
      "\n",
      "Passing `palette` without assigning `hue` is deprecated and will be removed in v0.14.0. Assign the `x` variable to `hue` and set `legend=False` for the same effect.\n",
      "\n",
      "  sns.boxplot(x=\"diagnosis\", y=\"mean_FD\", data=df, palette=\"Set3\", flierprops={'marker':'d'})\n"
     ]
    },
    {
     "data": {
      "image/png": "[encoded data removed]",
      "text/plain": [
       "<Figure size 2000x2500 with 1 Axes>"
      ]
     },
     "metadata": {},
     "output_type": "display_data"
    }
   ],
   "source": [
    "import pandas as pd\n",
    "import matplotlib.pyplot as plt\n",
    "# Read the transposed Excel file into a DataFrame\n",
    "df = pd.read_csv(\"/home/gabridele/Desktop/irbio_folder/spreading_dynamics_clinical/misc_to_cleanup/all_fd_values.tsv\", sep='\\t')\n",
    "\n",
    "custom_labels = [\"CTRL (N=106)\", \"SCZ (N=29)\", \"BIPOLAR (N=41)\", \"ADHD (N=35)\"]\n",
    "\n",
    "# Create a subplot layout with 3 rows and 2 columns\n",
    "plt.figure(figsize=(20, 25))\n",
    "'''\n",
    "# Boxplot for percentage of values > 0.2 by diagnosis\n",
    "plt.subplot(3, 2, 1)\n",
    "sns.boxplot(x=\"diagnosis\", y=\"% > 0.2_FD\", data=df, palette=\"Set3\")\n",
    "plt.title(\"Percentage of Values > 0.2 by Diagnosis\")\n",
    "plt.xlabel(\"Diagnosis\")\n",
    "plt.ylabel(\"% Values > 0.2\")\n",
    "plt.xticks(ticks=range(len(custom_labels)), labels=custom_labels)\n",
    "\n",
    "# Boxplot for percentage of values > 0.5 by diagnosis\n",
    "plt.subplot(3, 2, 2)\n",
    "sns.boxplot(x=\"diagnosis\", y=\"% > 0.5_FD\", data=df, palette=\"Set3\")\n",
    "plt.title(\"Percentage of Values > 0.5 by Diagnosis\")\n",
    "plt.xlabel(\"Diagnosis\")\n",
    "plt.ylabel(\"% Values > 0.5\")\n",
    "plt.xticks(ticks=range(len(custom_labels)), labels=custom_labels)\n",
    "\n",
    "# Boxplot for absolute count of values > 0.2 by diagnosis\n",
    "plt.subplot(3, 2, 3)\n",
    "sns.boxplot(x=\"diagnosis\", y=\"Absolute > 0.2_FD\", data=df, palette=\"Set3\")\n",
    "plt.title(\"Absolute Count of Values > 0.2 by Diagnosis\")\n",
    "plt.xlabel(\"Diagnosis\")\n",
    "plt.ylabel(\"Absolute Count > 0.2\")\n",
    "plt.xticks(ticks=range(len(custom_labels)), labels=custom_labels)\n",
    "\n",
    "# Boxplot for absolute count of values > 0.5 by diagnosis\n",
    "plt.subplot(3, 2, 4)\n",
    "sns.boxplot(x=\"diagnosis\", y=\"Absolute > 0.5_FD\", data=df, palette=\"Set3\")\n",
    "plt.title(\"Absolute Count of Values > 0.5 by Diagnosis\")\n",
    "plt.xlabel(\"Diagnosis\")\n",
    "plt.ylabel(\"Absolute Count > 0.5\")\n",
    "plt.xticks(ticks=range(len(custom_labels)), labels=custom_labels)\n",
    "'''\n",
    "# Boxplot for mean FD values by diagnosis\n",
    "plt.subplot(3, 2, 5)\n",
    "sns.boxplot(x=\"diagnosis\", y=\"mean_FD\", data=df, palette=\"Set3\", flierprops={'marker':'d'})\n",
    "plt.title(\"\")\n",
    "plt.xlabel(\"Condition\", fontsize=20, labelpad=12)\n",
    "plt.ylabel(\"Mean FD\", fontsize=20, labelpad=12)\n",
    "plt.xticks(ticks=range(len(custom_labels)), labels=custom_labels, fontsize=18)  # Increase fontsize here\n",
    "plt.yticks(fontsize=16)\n",
    "\n",
    "#plt.suptitle(\"FD plots on SCAP task\", fontsize=16)\n",
    "\n",
    "# Adjust layout to prevent overlap\n",
    "plt.tight_layout()\n",
    "\n",
    "# Show the plot\n",
    "plt.show()"
   ]
  },
  {
   "cell_type": "markdown",
   "metadata": {},
   "source": [
    "Last exclusion: beyond FD threshold"
   ]
  },
  {
   "cell_type": "code",
   "execution_count": 64,
   "metadata": {},
   "outputs": [],
   "source": [
    "subj_df = pd.read_csv(\"/home/gabridele/Desktop/preproc_psych/subj_keep4.tsv\", sep='\\t')\n",
    "\n",
    "a = (subj_df['reason'] != \"mean FD > 0.5\").values\n",
    "b = ~a\n",
    "exclude_final = subj_df[a]\n",
    "\n",
    "# Save the modified DataFrame to a new CSV file\n",
    "exclude_final.to_csv('/home/gabridele/Desktop/preproc_psych/subj_final.tsv', sep='\\t', index=False)\n"
   ]
  },
  {
   "cell_type": "code",
   "execution_count": 65,
   "metadata": {},
   "outputs": [
    {
     "name": "stdout",
     "output_type": "stream",
     "text": [
      "7\n",
      "[False  True]\n",
      "diagnosis\n",
      "CONTROL    103\n",
      "BIPOLAR     40\n",
      "ADHD        34\n",
      "SCZ         27\n",
      "Name: count, dtype: int64\n",
      "        Sub_ID diagnosis reason Hearne base Hearne site control Notes  \\\n",
      "0    sub-10159   CONTROL    NaN   sub-10159                 NaN   NaN   \n",
      "1    sub-10171   CONTROL    NaN   sub-10171                 NaN   NaN   \n",
      "2    sub-10189   CONTROL    NaN   sub-10189           sub-10189   NaN   \n",
      "3    sub-10206   CONTROL    NaN         NaN                 NaN   NaN   \n",
      "4    sub-10217   CONTROL    NaN   sub-10217           sub-10217   NaN   \n",
      "..         ...       ...    ...         ...                 ...   ...   \n",
      "206  sub-70079      ADHD    NaN   sub-70079           sub-70079   NaN   \n",
      "207  sub-70080      ADHD    NaN   sub-70080           sub-70080   NaN   \n",
      "208  sub-70081      ADHD    NaN   sub-70081           sub-70081   NaN   \n",
      "209  sub-70083      ADHD    NaN   sub-70083           sub-70083   NaN   \n",
      "210  sub-70086      ADHD    NaN   sub-70086           sub-70086   NaN   \n",
      "\n",
      "      mean_FD  age  sex  site  edu_years  wais_mr  wais_lns  wais_voc  \n",
      "0    0.177901   30    0     1         16       21        19        49  \n",
      "1    0.174510   24    1     1         16       23        28        53  \n",
      "2    0.142876   49    1     1         16       22        18        48  \n",
      "3    0.077702   21    1     1         13       20        14        35  \n",
      "4    0.064066   33    0     1         16       20        22        46  \n",
      "..        ...  ...  ...   ...        ...      ...       ...       ...  \n",
      "206  0.176860   21    1     0         15       16        22        52  \n",
      "207  0.164081   48    1     0         13       17        20        51  \n",
      "208  0.095929   50    1     0         12       18        22        42  \n",
      "209  0.200959   46    0     0         16       19        17        29  \n",
      "210  0.164218   48    1     0         14       19        21        56  \n",
      "\n",
      "[204 rows x 14 columns]\n"
     ]
    }
   ],
   "source": [
    "print(np.count_nonzero(b))\n",
    "print(np.unique(b))\n",
    "print(exclude_final['diagnosis'].value_counts())\n",
    "print(exclude_final)"
   ]
  },
  {
   "cell_type": "markdown",
   "metadata": {},
   "source": [
    "Functions for stat testing"
   ]
  },
  {
   "cell_type": "code",
   "execution_count": 121,
   "metadata": {},
   "outputs": [],
   "source": [
    "'''def all_groups_ttest(df, labels=['age','sex','site']):\n",
    "    output = \"\"\n",
    "    groups = df['diagnosis'].unique()\n",
    "    for label in labels:\n",
    "        output += f\"t-test, Var={label}\\n\"\n",
    "        for i, group1 in enumerate(groups):\n",
    "            for group2 in groups[i+1:]:\n",
    "                x = df[df['diagnosis'] == group1][label].values\n",
    "                y = df[df['diagnosis'] == group2][label].values\n",
    "                t, p = ttest_ind(x, y, equal_var=False)\n",
    "                output += f\"\\tComparing {group1} vs {group2}:\\n\"\n",
    "                output += f\"\\t  t = {t}\\n\"\n",
    "                output += f\"\\t  p = {p}\\n\"\n",
    "                \n",
    "    output += \"\\nMeans:\\n\"\n",
    "    output += str(df.groupby(['diagnosis'])[labels].mean()) + \"\\n\"\n",
    "    output += \"\\nStd:\\n\"\n",
    "    output += str(df.groupby(['diagnosis'])[labels].std()) + \"\\n\"\n",
    "\n",
    "    return output\n",
    "\n",
    "def all_groups_stats(df, labels=['age','sex','site']):\n",
    "    output = \"\"\n",
    "    groups = df['diagnosis'].unique()\n",
    "    for label in labels:\n",
    "        for i, group1 in enumerate(groups):\n",
    "            for group2 in groups[i+1:]:\n",
    "                if label == 'sex' or label == 'site':\n",
    "                    output += f\"Chi-square test, Var={label}\\n\"\n",
    "                    new_df = df.loc[(df['diagnosis'] == group1) | (df['diagnosis'] == group2)]\n",
    "                    expected, observed, stats = pg.chi2_independence(data=new_df, x=label, y='diagnosis')\n",
    "                    output += f\"\\t Comparing {group1} vs {group2}:\\n\"\n",
    "                    output += f\"\\t Chi2 = {np.round(stats.chi2[0], 3)}\\n\"\n",
    "                    output += f\"\\t p = {np.round(stats.pval[0], 8)}\\n\"\n",
    "                    output += f\"\\t Cramer's V = {np.round(stats.cramer[0], 8)}\\n\"\n",
    "                else:\n",
    "                    output += f\"t-test, Var={label}\\n\"\n",
    "                    x = df[df['diagnosis'] == group1][label].values\n",
    "                    y = df[df['diagnosis'] == group2][label].values\n",
    "                    t, p = ttest_ind(x, y, equal_var=False)\n",
    "                    cohen_d = (abs(np.mean(x) - np.mean(y))) / np.sqrt(((len(x) - 1) * np.var(x, ddof=1) + (len(y) - 1) * np.var(y, ddof=1)) / (len(x) + len(y) - 2))                    \n",
    "                    output += f\"\\t Comparing {group1} vs {group2}:\\n\"\n",
    "                    output += f\"\\t  t = {t}\\n\"\n",
    "                    output += f\"\\t  p = {p}\\n\"\n",
    "                    output += f\"\\t  Cohen's d = {cohen_d:.8f}\\n\"\n",
    "\n",
    "    output += \"\\nMeans:\\n\"\n",
    "    output += str(df.groupby(['diagnosis'])[labels].mean()) + \"\\n\"\n",
    "    output += \"\\nStd:\\n\"\n",
    "    output += str(df.groupby(['diagnosis'])[labels].std()) + \"\\n\"\n",
    "\n",
    "    return output'''\n",
    "                "
   ]
  },
  {
   "cell_type": "code",
   "execution_count": 109,
   "metadata": {},
   "outputs": [],
   "source": [
    "def all_groups_ttest(df, labels=['age','sex','site']):\n",
    "    data = {\n",
    "        \"Comparison\": [],\n",
    "        \"Var\": [],\n",
    "        \"p-value\": [],\n",
    "        \"Cohen's d\": []\n",
    "    }\n",
    "    \n",
    "    groups = df['diagnosis'].unique()\n",
    "    for label in labels:\n",
    "        for i, group1 in enumerate(groups):\n",
    "            for group2 in groups[i+1:]:\n",
    "                x = df[df['diagnosis'] == group1][label].values\n",
    "                y = df[df['diagnosis'] == group2][label].values\n",
    "                t, p = ttest_ind(x, y, equal_var=False)\n",
    "                cohen_d = (abs(np.mean(x) - np.mean(y))) / np.sqrt(((len(x) - 1) * np.var(x, ddof=1) + (len(y) - 1) * np.var(y, ddof=1)) / (len(x) + len(y) - 2))\n",
    "                data[\"Comparison\"].append(f\"{group1} vs {group2}\")\n",
    "                data[\"Var\"].append(f\"{label}\")\n",
    "                data[\"p-value\"].append(round(p, 9))\n",
    "                data[\"Cohen's d\"].append(round(cohen_d, 3) if not np.isnan(cohen_d) else None)\n",
    "    \n",
    "    return pd.DataFrame(data)\n",
    "\n",
    "def all_groups_stats(df, labels=['age','sex','site']):\n",
    "    data = {\n",
    "        \"Comparison\": [],\n",
    "        \"Var\": [],\n",
    "        \"Test\": [],\n",
    "        \"p-value\": [],\n",
    "        \"Effect size\": []\n",
    "    }\n",
    "    \n",
    "    groups = df['diagnosis'].unique()\n",
    "    for label in labels:\n",
    "        for i, group1 in enumerate(groups):\n",
    "            for group2 in groups[i+1:]:\n",
    "                if label == 'sex' or label == 'site':\n",
    "                    new_df = df.loc[(df['diagnosis'] == group1) | (df['diagnosis'] == group2)]\n",
    "                    expected, observed, stats = pg.chi2_independence(data=new_df, x=label, y='diagnosis')\n",
    "                    data[\"Comparison\"].append(f\"{group1} vs {group2}\")\n",
    "                    data[\"Var\"].append(f\"{label}\")\n",
    "                    data[\"Test\"].append(\"X^2 test\")\n",
    "                    data[\"p-value\"].append(round(stats.pval[0], 9))\n",
    "                    data[\"Effect size\"].append(round(stats.cramer[0], 3))\n",
    "                else:\n",
    "                    x = df[df['diagnosis'] == group1][label].values\n",
    "                    y = df[df['diagnosis'] == group2][label].values\n",
    "                    t, p = ttest_ind(x, y, equal_var=False)\n",
    "                    cohen_d = (abs(np.mean(x) - np.mean(y))) / np.sqrt(((len(x) - 1) * np.var(x, ddof=1) + (len(y) - 1) * np.var(y, ddof=1)) / (len(x) + len(y) - 2))\n",
    "                    data[\"Comparison\"].append(f\"{group1} vs {group2}\")\n",
    "                    data[\"Var\"].append(f\"{label}\")\n",
    "                    data[\"Test\"].append(\"t-test\")\n",
    "                    data[\"p-value\"].append(round(p, 9))\n",
    "                    data[\"Effect size\"].append(round(cohen_d, 3))\n",
    "    \n",
    "    return pd.DataFrame(data)"
   ]
  },
  {
   "cell_type": "markdown",
   "metadata": {},
   "source": [
    "Stat testing"
   ]
  },
  {
   "cell_type": "code",
   "execution_count": 67,
   "metadata": {},
   "outputs": [
    {
     "name": "stdout",
     "output_type": "stream",
     "text": [
      "Index(['Sub_ID', 'diagnosis', 'reason', 'Hearne base', 'Hearne site control',\n",
      "       'Notes', 'mean_FD', 'age', 'sex', 'site', 'edu_years', 'wais_mr',\n",
      "       'wais_lns', 'wais_voc'],\n",
      "      dtype='object')\n"
     ]
    }
   ],
   "source": [
    "print(exclude_final.columns)"
   ]
  },
  {
   "cell_type": "code",
   "execution_count": 116,
   "metadata": {},
   "outputs": [],
   "source": [
    "#table \n",
    "#print(exclude_final['diagnosis'].value_counts())\n",
    "\n",
    "#print(exclude_final.groupby(['diagnosis'])[labels].mean())\n",
    "# Stats for second dropping: mean FD > 0.5\n",
    "labels = ['age','sex','site','mean_FD','edu_years','wais_mr','wais_lns','wais_voc']\n",
    "seconddropping__results = all_groups_stats(exclude_final, labels=labels)\n",
    "\n",
    "#txt_file_path = '/home/gabridele/Desktop/preproc_psych/final_list_tests.txt'\n",
    "\n",
    "# Save the output to a text file\n",
    "#with open(txt_file_path, 'w') as txt_file:\n",
    "#    txt_file.write(test_results)"
   ]
  },
  {
   "cell_type": "code",
   "execution_count": 117,
   "metadata": {},
   "outputs": [
    {
     "name": "stdout",
     "output_type": "stream",
     "text": [
      "            Comparison        Var      Test       p-value  Effect size\n",
      "0       CONTROL vs SCZ        age    t-test  1.833236e-02        0.544\n",
      "1   CONTROL vs BIPOLAR        age    t-test  5.750581e-02        0.364\n",
      "2      CONTROL vs ADHD        age    t-test  5.654218e-01        0.125\n",
      "3       SCZ vs BIPOLAR        age    t-test  4.847393e-01        0.176\n",
      "4          SCZ vs ADHD        age    t-test  1.474822e-01        0.373\n",
      "5      BIPOLAR vs ADHD        age    t-test  3.656291e-01        0.215\n",
      "6       CONTROL vs SCZ        sex  X^2 test  3.897502e-02        0.181\n",
      "7   CONTROL vs BIPOLAR        sex  X^2 test  8.932496e-01        0.011\n",
      "8      CONTROL vs ADHD        sex  X^2 test  8.817851e-01        0.013\n",
      "9       SCZ vs BIPOLAR        sex  X^2 test  1.280309e-01        0.186\n",
      "10         SCZ vs ADHD        sex  X^2 test  1.539763e-01        0.183\n",
      "11     BIPOLAR vs ADHD        sex  X^2 test  8.448270e-01        0.023\n",
      "12      CONTROL vs SCZ       site  X^2 test  1.302600e-05        0.382\n",
      "13  CONTROL vs BIPOLAR       site  X^2 test  1.112410e-04        0.323\n",
      "14     CONTROL vs ADHD       site  X^2 test  6.742320e-04        0.290\n",
      "15      SCZ vs BIPOLAR       site  X^2 test  5.508491e-01        0.073\n",
      "16         SCZ vs ADHD       site  X^2 test  4.514806e-01        0.096\n",
      "17     BIPOLAR vs ADHD       site  X^2 test  9.849048e-01        0.002\n",
      "18      CONTROL vs SCZ    mean_FD    t-test  1.962603e-02        0.587\n",
      "19  CONTROL vs BIPOLAR    mean_FD    t-test  2.779718e-02        0.480\n",
      "20     CONTROL vs ADHD    mean_FD    t-test  5.332126e-02        0.287\n",
      "21      SCZ vs BIPOLAR    mean_FD    t-test  8.029991e-01        0.061\n",
      "22         SCZ vs ADHD    mean_FD    t-test  1.231663e-03        0.985\n",
      "23     BIPOLAR vs ADHD    mean_FD    t-test  1.257557e-03        0.749\n",
      "24      CONTROL vs SCZ  edu_years    t-test  6.800000e-08        1.473\n",
      "25  CONTROL vs BIPOLAR  edu_years    t-test  6.115358e-02        0.376\n",
      "26     CONTROL vs ADHD  edu_years    t-test  1.401544e-01        0.313\n",
      "27      SCZ vs BIPOLAR  edu_years    t-test  1.518270e-04        0.992\n",
      "28         SCZ vs ADHD  edu_years    t-test  9.386200e-05        1.076\n",
      "29     BIPOLAR vs ADHD  edu_years    t-test  7.894544e-01        0.062\n",
      "30      CONTROL vs SCZ    wais_mr    t-test  1.970000e-07        1.591\n",
      "31  CONTROL vs BIPOLAR    wais_mr    t-test  1.075817e-01        0.325\n",
      "32     CONTROL vs ADHD    wais_mr    t-test  6.592753e-01        0.088\n",
      "33      SCZ vs BIPOLAR    wais_mr    t-test  5.001100e-05        1.116\n",
      "34         SCZ vs ADHD    wais_mr    t-test  2.088000e-06        1.422\n",
      "35     BIPOLAR vs ADHD    wais_mr    t-test  3.181781e-01        0.232\n",
      "36      CONTROL vs SCZ   wais_lns    t-test  6.060000e-07        1.148\n",
      "37  CONTROL vs BIPOLAR   wais_lns    t-test  7.715143e-03        0.497\n",
      "38     CONTROL vs ADHD   wais_lns    t-test  2.782302e-02        0.418\n",
      "39      SCZ vs BIPOLAR   wais_lns    t-test  6.541212e-03        0.690\n",
      "40         SCZ vs ADHD   wais_lns    t-test  2.511649e-03        0.813\n",
      "41     BIPOLAR vs ADHD   wais_lns    t-test  7.001535e-01        0.090\n",
      "42      CONTROL vs SCZ   wais_voc    t-test  7.000000e-09        1.637\n",
      "43  CONTROL vs BIPOLAR   wais_voc    t-test  5.524441e-01        0.121\n",
      "44     CONTROL vs ADHD   wais_voc    t-test  4.678365e-01        0.158\n",
      "45      SCZ vs BIPOLAR   wais_voc    t-test  8.160000e-07        1.335\n",
      "46         SCZ vs ADHD   wais_voc    t-test  3.136000e-06        1.310\n",
      "47     BIPOLAR vs ADHD   wais_voc    t-test  8.899041e-01        0.032\n"
     ]
    }
   ],
   "source": [
    "print(seconddropping__results)"
   ]
  },
  {
   "cell_type": "markdown",
   "metadata": {},
   "source": [
    "Exclude scap outliers based on accuracy"
   ]
  },
  {
   "cell_type": "code",
   "execution_count": 70,
   "metadata": {},
   "outputs": [],
   "source": [
    "try_df = pd.read_csv('/home/gabridele/Desktop/preproc_psych/subj_final.tsv', sep='\\t')"
   ]
  },
  {
   "cell_type": "code",
   "execution_count": 71,
   "metadata": {},
   "outputs": [],
   "source": [
    "def load_scan_behaviour(subj_list,task_list,group_index):\n",
    "    '''\n",
    "    Loads in-scanner task behaviour. Currently only coded up for the 'SCAP' task.\n",
    "    For in-depth explanation of the tasks and the conditions modelled in the GLM\n",
    "    see the postFmriprepPipelines.py script which does the GLM.\n",
    "    \n",
    "    returns: \n",
    "    - accuracy, \n",
    "    - reaction_time, \n",
    "    - accuracy_all, \n",
    "    - reaction_time_all, \n",
    "    - labels\n",
    "    '''\n",
    "    BIDS_DIR = \"/home/gabridele/Desktop/psych_dataset/\"\n",
    "    accuracy_all = {}\n",
    "    reaction_time_all = {}\n",
    "    accuracy = {}\n",
    "    reaction_time = {}\n",
    "    labels = {}\n",
    "\n",
    "    for task in task_list:\n",
    "        if task=='scap':\n",
    "            # 12 conditions - each cognitive load and each delay\n",
    "            task_label = ['load1-delay1.5','load1-delay3','load1-delay4.5',\n",
    "                     'load3-delay1.5','load3-delay3','load3-delay4.5',\n",
    "                     'load5-delay1.5','load5-delay3','load5-delay4.5',\n",
    "                     'load7-delay1.5','load7-delay3','load7-delay4.5']\n",
    "\n",
    "            raw_acc = np.zeros((4,12,len(subj_list))) # trial x condition x subject\n",
    "            raw_rt = raw_acc.copy()\n",
    "\n",
    "            for i,subj in enumerate(subj_list):\n",
    "                # get task information\n",
    "                df_task = pd.read_csv(BIDS_DIR + str(subj) + '/func/' + str(subj) + '_task-' + task + '_events.tsv', sep='\\t', header=0)\n",
    "\n",
    "                for trial in range(1,13):\n",
    "                    #accuracy\n",
    "                    acc = df_task['ResponseAccuracy'].values[df_task['trial_type']==trial]=='CORRECT'\n",
    "                    acc = acc.astype(int)\n",
    "                    raw_acc[:,trial-1,i] = acc\n",
    "                    #rt\n",
    "                    rt = df_task['ReactionTime'].values[df_task['trial_type']==trial]\n",
    "                    raw_rt[:,trial-1,i] = rt\n",
    "\n",
    "        # put in a task list\n",
    "        accuracy_all[task] = raw_acc\n",
    "        reaction_time_all[task] = raw_rt\n",
    "        labels[task] = task_label\n",
    "\n",
    "        # put in a list with groups\n",
    "        accuracy[task] = {}\n",
    "        accuracy[task]['CONTROL'] = raw_acc[:,:,group_index=='CONTROL']\n",
    "        accuracy[task]['SCZ'] = raw_acc[:,:,group_index=='SCZ']\n",
    "        accuracy[task]['BIPOLAR'] = raw_acc[:,:,group_index=='BIPOLAR']\n",
    "        accuracy[task]['ADHD'] = raw_acc[:,:,group_index=='ADHD']\n",
    "\n",
    "        reaction_time[task] = {}\n",
    "        reaction_time[task]['CONTROL'] = raw_rt[:,:,group_index=='CONTROL']\n",
    "        reaction_time[task]['SCZ'] = raw_rt[:,:,group_index=='SCZ']\n",
    "        reaction_time[task]['BIPOLAR'] = raw_rt[:,:,group_index=='BIPOLAR']\n",
    "        reaction_time[task]['ADHD'] = raw_rt[:,:,group_index=='ADHD']\n",
    "    return accuracy, reaction_time, accuracy_all, reaction_time_all, labels"
   ]
  },
  {
   "cell_type": "code",
   "execution_count": 72,
   "metadata": {},
   "outputs": [
    {
     "name": "stdout",
     "output_type": "stream",
     "text": [
      "Poor subjs: 52    sub-10680\n",
      "65    sub-10788\n",
      "Name: Sub_ID, dtype: object\n",
      "Odd HC participant scored: [25.   31.25] %\n",
      "Odd HC participant scored: [-5.05063257 -4.52533959] (zscore)\n"
     ]
    },
    {
     "data": {
      "image/png": "[encoded data removed]",
      "text/plain": [
       "<Figure size 640x480 with 1 Axes>"
      ]
     },
     "metadata": {},
     "output_type": "display_data"
    },
    {
     "data": {
      "image/png": "[encoded data removed]",
      "text/plain": [
       "<Figure size 640x480 with 1 Axes>"
      ]
     },
     "metadata": {},
     "output_type": "display_data"
    },
    {
     "data": {
      "image/png": "[encoded data removed]",
      "text/plain": [
       "<Figure size 640x480 with 1 Axes>"
      ]
     },
     "metadata": {},
     "output_type": "display_data"
    },
    {
     "data": {
      "image/png": "[encoded data removed]",
      "text/plain": [
       "<Figure size 640x480 with 1 Axes>"
      ]
     },
     "metadata": {},
     "output_type": "display_data"
    }
   ],
   "source": [
    "import matplotlib.pyplot as plt\n",
    "from scipy.stats import zscore\n",
    "accuracy,reaction_time,_,_,task_labels = load_scan_behaviour(try_df['Sub_ID'],['scap'],try_df['diagnosis'].values)\n",
    "hc_acc = np.mean(np.mean(accuracy['scap']['CONTROL'],axis=0),axis=0)\n",
    "sz_acc = np.mean(np.mean(accuracy['scap']['SCZ'],axis=0),axis=0)\n",
    "bplr_acc = np.mean(np.mean(accuracy['scap']['BIPOLAR'],axis=0),axis=0)\n",
    "adhd_acc = np.mean(np.mean(accuracy['scap']['ADHD'],axis=0),axis=0)\n",
    "\n",
    "idx = zscore(hc_acc) < -4\n",
    "bad_subjs = try_df['Sub_ID'][try_df['diagnosis']=='CONTROL'][idx]\n",
    "print('Poor subjs:',bad_subjs)\n",
    "print('Odd HC participant scored:',hc_acc[idx]*100,'%')\n",
    "print('Odd HC participant scored:',zscore(hc_acc)[idx],'(zscore)')\n",
    "\n",
    "#plot the histograms\n",
    "plt.hist(zscore(hc_acc))\n",
    "plt.show()\n",
    "plt.hist(zscore(sz_acc))\n",
    "plt.show()\n",
    "plt.hist(zscore(bplr_acc))\n",
    "plt.show()\n",
    "plt.hist(zscore(adhd_acc))\n",
    "plt.show()"
   ]
  },
  {
   "cell_type": "code",
   "execution_count": 73,
   "metadata": {},
   "outputs": [
    {
     "name": "stdout",
     "output_type": "stream",
     "text": [
      "diagnosis\n",
      "CONTROL    103\n",
      "BIPOLAR     40\n",
      "ADHD        34\n",
      "SCZ         27\n",
      "Name: count, dtype: int64\n"
     ]
    }
   ],
   "source": [
    "print(try_df['diagnosis'].value_counts())"
   ]
  },
  {
   "cell_type": "code",
   "execution_count": 74,
   "metadata": {},
   "outputs": [
    {
     "name": "stdout",
     "output_type": "stream",
     "text": [
      "52    sub-10680\n",
      "65    sub-10788\n",
      "Name: Sub_ID, dtype: object\n"
     ]
    }
   ],
   "source": [
    "print(bad_subjs)"
   ]
  },
  {
   "cell_type": "code",
   "execution_count": 11,
   "metadata": {},
   "outputs": [
    {
     "name": "stdout",
     "output_type": "stream",
     "text": [
      "Sub_ID                 sub-10855\n",
      "diagnosis                CONTROL\n",
      "reason                       NaN\n",
      "Hearne base            sub-10855\n",
      "Hearne site control    sub-10855\n",
      "Notes                        NaN\n",
      "mean_FD                 0.108655\n",
      "age                           47\n",
      "sex                            1\n",
      "site                           1\n",
      "edu_years                     14\n",
      "wais_mr                       10\n",
      "wais_lns                      15\n",
      "wais_voc                      34\n",
      "Name: 67, dtype: object\n"
     ]
    }
   ],
   "source": [
    "print(try_df.loc[67])"
   ]
  },
  {
   "cell_type": "code",
   "execution_count": 120,
   "metadata": {},
   "outputs": [
    {
     "name": "stdout",
     "output_type": "stream",
     "text": [
      "diagnosis\n",
      "CONTROL    103\n",
      "BIPOLAR     40\n",
      "ADHD        34\n",
      "SCZ         27\n",
      "Name: count, dtype: int64\n",
      "                 age       sex      site   mean_FD  edu_years    wais_mr  \\\n",
      "diagnosis                                                                  \n",
      "ADHD       32.529412  0.529412  0.500000  0.111921  14.617647  20.323529   \n",
      "BIPOLAR    34.600000  0.525000  0.475000  0.180193  14.500000  19.325000   \n",
      "CONTROL    31.388350  0.495146  0.815534  0.134289  15.155340  20.669903   \n",
      "SCZ        36.185185  0.740741  0.370370  0.186985  12.666667  14.037037   \n",
      "\n",
      "            wais_lns   wais_voc  \n",
      "diagnosis                        \n",
      "ADHD       19.941176  42.470588  \n",
      "BIPOLAR    19.700000  42.800000  \n",
      "CONTROL    21.135922  43.883495  \n",
      "SCZ        17.851852  29.851852  \n"
     ]
    }
   ],
   "source": [
    "print(exclude_final['diagnosis'].value_counts())\n",
    "print(exclude_final.groupby(['diagnosis'])[labels].mean())"
   ]
  },
  {
   "cell_type": "code",
   "execution_count": 121,
   "metadata": {},
   "outputs": [
    {
     "name": "stdout",
     "output_type": "stream",
     "text": [
      "diagnosis\n",
      "CONTROL    101\n",
      "BIPOLAR     40\n",
      "ADHD        34\n",
      "SCZ         27\n",
      "Name: count, dtype: int64\n",
      "                 age       sex      site   mean_FD  edu_years    wais_mr  \\\n",
      "diagnosis                                                                  \n",
      "ADHD       32.529412  0.529412  0.500000  0.111921  14.617647  20.323529   \n",
      "BIPOLAR    34.600000  0.525000  0.475000  0.180193  14.500000  19.325000   \n",
      "CONTROL    31.445545  0.504950  0.811881  0.133657  15.118812  20.663366   \n",
      "SCZ        36.185185  0.740741  0.370370  0.186985  12.666667  14.037037   \n",
      "\n",
      "            wais_lns   wais_voc  \n",
      "diagnosis                        \n",
      "ADHD       19.941176  42.470588  \n",
      "BIPOLAR    19.700000  42.800000  \n",
      "CONTROL    21.118812  43.792079  \n",
      "SCZ        17.851852  29.851852  \n"
     ]
    }
   ],
   "source": [
    "# # drop the subject\n",
    "# uncomment to drop subjs\n",
    "#try_df = try_df.drop(bad_subjs.index)\n",
    "\n",
    "# print average demos\n",
    "labels = ['age','sex','site','mean_FD','edu_years','wais_mr','wais_lns','wais_voc']\n",
    "print(try_df['diagnosis'].value_counts())\n",
    "print(try_df.groupby(['diagnosis'])[labels].mean())\n"
   ]
  },
  {
   "cell_type": "code",
   "execution_count": 118,
   "metadata": {},
   "outputs": [
    {
     "name": "stdout",
     "output_type": "stream",
     "text": [
      "            Comparison        Var      Test       p-value  Effect size\n",
      "0       CONTROL vs SCZ        age    t-test  1.992428e-02        0.536\n",
      "1   CONTROL vs BIPOLAR        age    t-test  6.284477e-02        0.357\n",
      "2      CONTROL vs ADHD        age    t-test  5.859370e-01        0.118\n",
      "3       SCZ vs BIPOLAR        age    t-test  4.847393e-01        0.176\n",
      "4          SCZ vs ADHD        age    t-test  1.474822e-01        0.373\n",
      "5      BIPOLAR vs ADHD        age    t-test  3.656291e-01        0.215\n",
      "6       CONTROL vs SCZ        sex  X^2 test  4.862647e-02        0.174\n",
      "7   CONTROL vs BIPOLAR        sex  X^2 test  9.777975e-01        0.002\n",
      "8      CONTROL vs ADHD        sex  X^2 test  9.613345e-01        0.004\n",
      "9       SCZ vs BIPOLAR        sex  X^2 test  1.280309e-01        0.186\n",
      "10         SCZ vs ADHD        sex  X^2 test  1.539763e-01        0.183\n",
      "11     BIPOLAR vs ADHD        sex  X^2 test  8.448270e-01        0.023\n",
      "12      CONTROL vs SCZ       site  X^2 test  1.773700e-05        0.379\n",
      "13  CONTROL vs BIPOLAR       site  X^2 test  1.488210e-04        0.319\n",
      "14     CONTROL vs ADHD       site  X^2 test  8.596250e-04        0.287\n",
      "15      SCZ vs BIPOLAR       site  X^2 test  5.508491e-01        0.073\n",
      "16         SCZ vs ADHD       site  X^2 test  4.514806e-01        0.096\n",
      "17     BIPOLAR vs ADHD       site  X^2 test  9.849048e-01        0.002\n",
      "18      CONTROL vs SCZ    mean_FD    t-test  1.852850e-02        0.591\n",
      "19  CONTROL vs BIPOLAR    mean_FD    t-test  2.616562e-02        0.485\n",
      "20     CONTROL vs ADHD    mean_FD    t-test  6.251361e-02        0.278\n",
      "21      SCZ vs BIPOLAR    mean_FD    t-test  8.029991e-01        0.061\n",
      "22         SCZ vs ADHD    mean_FD    t-test  1.231663e-03        0.985\n",
      "23     BIPOLAR vs ADHD    mean_FD    t-test  1.257557e-03        0.749\n",
      "24      CONTROL vs SCZ  edu_years    t-test  9.300000e-08        1.458\n",
      "25  CONTROL vs BIPOLAR  edu_years    t-test  7.686213e-02        0.357\n",
      "26     CONTROL vs ADHD  edu_years    t-test  1.688689e-01        0.292\n",
      "27      SCZ vs BIPOLAR  edu_years    t-test  1.518270e-04        0.992\n",
      "28         SCZ vs ADHD  edu_years    t-test  9.386200e-05        1.076\n",
      "29     BIPOLAR vs ADHD  edu_years    t-test  7.894544e-01        0.062\n",
      "30      CONTROL vs SCZ    wais_mr    t-test  2.020000e-07        1.580\n",
      "31  CONTROL vs BIPOLAR    wais_mr    t-test  1.105495e-01        0.322\n",
      "32     CONTROL vs ADHD    wais_mr    t-test  6.666218e-01        0.086\n",
      "33      SCZ vs BIPOLAR    wais_mr    t-test  5.001100e-05        1.116\n",
      "34         SCZ vs ADHD    wais_mr    t-test  2.088000e-06        1.422\n",
      "35     BIPOLAR vs ADHD    wais_mr    t-test  3.181781e-01        0.232\n",
      "36      CONTROL vs SCZ   wais_lns    t-test  7.030000e-07        1.135\n",
      "37  CONTROL vs BIPOLAR   wais_lns    t-test  8.759366e-03        0.488\n",
      "38     CONTROL vs ADHD   wais_lns    t-test  3.084472e-02        0.410\n",
      "39      SCZ vs BIPOLAR   wais_lns    t-test  6.541212e-03        0.690\n",
      "40         SCZ vs ADHD   wais_lns    t-test  2.511649e-03        0.813\n",
      "41     BIPOLAR vs ADHD   wais_lns    t-test  7.001535e-01        0.090\n",
      "42      CONTROL vs SCZ   wais_voc    t-test  8.000000e-09        1.618\n",
      "43  CONTROL vs BIPOLAR   wais_voc    t-test  5.876204e-01        0.110\n",
      "44     CONTROL vs ADHD   wais_voc    t-test  4.982279e-01        0.147\n",
      "45      SCZ vs BIPOLAR   wais_voc    t-test  8.160000e-07        1.335\n",
      "46         SCZ vs ADHD   wais_voc    t-test  3.136000e-06        1.310\n",
      "47     BIPOLAR vs ADHD   wais_voc    t-test  8.899041e-01        0.032\n"
     ]
    }
   ],
   "source": [
    "#third dropping, bad accuracy in scap\n",
    "labels = ['age','sex','site','mean_FD','edu_years','wais_mr','wais_lns','wais_voc']\n",
    "thirddropping__results = all_groups_stats(try_df, labels=labels)\n",
    "print(thirddropping__results)"
   ]
  },
  {
   "cell_type": "code",
   "execution_count": 122,
   "metadata": {},
   "outputs": [
    {
     "name": "stdout",
     "output_type": "stream",
     "text": [
      "0=F,1=M\n",
      "diagnosis  sex\n",
      "ADHD       0      16\n",
      "           1      18\n",
      "BIPOLAR    0      19\n",
      "           1      21\n",
      "CONTROL    0      50\n",
      "           1      51\n",
      "SCZ        0       7\n",
      "           1      20\n",
      "Name: Sub_ID, dtype: int64\n"
     ]
    }
   ],
   "source": [
    "#grouped_counts = try_df.groupby(['diagnosis', 'site'])['Sub_ID'].count()\n",
    "#print('0=Site0,1=Site1')\n",
    "grouped_counts = try_df.groupby(['diagnosis', 'sex'])['Sub_ID'].count()\n",
    "print('0=F,1=M')\n",
    "print(grouped_counts)"
   ]
  },
  {
   "cell_type": "markdown",
   "metadata": {},
   "source": [
    "Group by site (0 vs 1) and perform stats"
   ]
  },
  {
   "cell_type": "code",
   "execution_count": 83,
   "metadata": {},
   "outputs": [
    {
     "name": "stdout",
     "output_type": "stream",
     "text": [
      "        Sub_ID diagnosis  reason Hearne base Hearne site control Notes  \\\n",
      "84   sub-11061   CONTROL     NaN   sub-11061           sub-11061   NaN   \n",
      "85   sub-11062   CONTROL     NaN   sub-11062           sub-11062   NaN   \n",
      "86   sub-11066   CONTROL     NaN   sub-11066           sub-11066   NaN   \n",
      "87   sub-11067   CONTROL     NaN         NaN                 NaN   NaN   \n",
      "88   sub-11068   CONTROL     NaN   sub-11068           sub-11068   NaN   \n",
      "..         ...       ...     ...         ...                 ...   ...   \n",
      "199  sub-70079      ADHD     NaN   sub-70079           sub-70079   NaN   \n",
      "200  sub-70080      ADHD     NaN   sub-70080           sub-70080   NaN   \n",
      "201  sub-70081      ADHD     NaN   sub-70081           sub-70081   NaN   \n",
      "202  sub-70083      ADHD     NaN   sub-70083           sub-70083   NaN   \n",
      "203  sub-70086      ADHD     NaN   sub-70086           sub-70086   NaN   \n",
      "\n",
      "      mean_FD  age  sex  site  edu_years  wais_mr  wais_lns  wais_voc  \n",
      "84   0.228207   45    0     0         14       21        22        55  \n",
      "85   0.430635   49    0     0         14        9        21        47  \n",
      "86   0.110426   37    1     0         12       23        26        41  \n",
      "87   0.068648   23    0     0         16       20        24        53  \n",
      "88   0.116280   39    1     0         16       19        21        56  \n",
      "..        ...  ...  ...   ...        ...      ...       ...       ...  \n",
      "199  0.176860   21    1     0         15       16        22        52  \n",
      "200  0.164081   48    1     0         13       17        20        51  \n",
      "201  0.095929   50    1     0         12       18        22        42  \n",
      "202  0.200959   46    0     0         16       19        17        29  \n",
      "203  0.164218   48    1     0         14       19        21        56  \n",
      "\n",
      "[74 rows x 14 columns]\n",
      "        Sub_ID diagnosis  reason Hearne base Hearne site control Notes  \\\n",
      "0    sub-10159   CONTROL     NaN   sub-10159                 NaN   NaN   \n",
      "1    sub-10171   CONTROL     NaN   sub-10171                 NaN   NaN   \n",
      "2    sub-10189   CONTROL     NaN   sub-10189           sub-10189   NaN   \n",
      "3    sub-10206   CONTROL     NaN         NaN                 NaN   NaN   \n",
      "4    sub-10217   CONTROL     NaN   sub-10217           sub-10217   NaN   \n",
      "..         ...       ...     ...         ...                 ...   ...   \n",
      "182  sub-70040      ADHD     NaN   sub-70040           sub-70040   NaN   \n",
      "183  sub-70046      ADHD     NaN   sub-70046           sub-70046   NaN   \n",
      "184  sub-70048      ADHD     NaN         NaN                 NaN   NaN   \n",
      "185  sub-70049      ADHD     NaN   sub-70049           sub-70049   NaN   \n",
      "186  sub-70052      ADHD     NaN   sub-70052           sub-70052   NaN   \n",
      "\n",
      "      mean_FD  age  sex  site  edu_years  wais_mr  wais_lns  wais_voc  \n",
      "0    0.177901   30    0     1         16       21        19        49  \n",
      "1    0.174510   24    1     1         16       23        28        53  \n",
      "2    0.142876   49    1     1         16       22        18        48  \n",
      "3    0.077702   21    1     1         13       20        14        35  \n",
      "4    0.064066   33    0     1         16       20        22        46  \n",
      "..        ...  ...  ...   ...        ...      ...       ...       ...  \n",
      "182  0.133162   30    0     1         13       24        21        44  \n",
      "183  0.070015   32    1     1         12       24        22        39  \n",
      "184  0.057510   23    0     1         12       18        16        28  \n",
      "185  0.073826   25    0     1         18       26        18        43  \n",
      "186  0.151544   27    0     1         14       24        23        51  \n",
      "\n",
      "[128 rows x 14 columns]\n"
     ]
    }
   ],
   "source": [
    "try_df0 = try_df[try_df['site'] == 0]\n",
    "try_df1 = try_df[try_df['site'] == 1]\n",
    "\n",
    "try_df0_grouped = try_df0.groupby(['diagnosis'])[labels].mean()\n",
    "try_df1_grouped = try_df1.groupby(['diagnosis'])[labels].mean()\n",
    "print(try_df0)\n",
    "print(try_df1)"
   ]
  },
  {
   "cell_type": "code",
   "execution_count": 84,
   "metadata": {},
   "outputs": [
    {
     "name": "stdout",
     "output_type": "stream",
     "text": [
      "diagnosis\n",
      "BIPOLAR    21\n",
      "CONTROL    19\n",
      "SCZ        17\n",
      "ADHD       17\n",
      "Name: count, dtype: int64\n"
     ]
    }
   ],
   "source": [
    "print(try_df0['diagnosis'].value_counts())"
   ]
  },
  {
   "cell_type": "code",
   "execution_count": 127,
   "metadata": {},
   "outputs": [
    {
     "name": "stdout",
     "output_type": "stream",
     "text": [
      "diagnosis\n",
      "CONTROL    82\n",
      "BIPOLAR    19\n",
      "ADHD       17\n",
      "SCZ        10\n",
      "Name: count, dtype: int64\n",
      "                 age       sex  site   mean_FD  edu_years    wais_mr  \\\n",
      "diagnosis                                                              \n",
      "ADHD       32.235294  0.352941   1.0  0.103791  14.470588  20.529412   \n",
      "BIPOLAR    34.000000  0.368421   1.0  0.184727  14.894737  19.000000   \n",
      "CONTROL    31.621951  0.524390   1.0  0.135991  15.146341  20.670732   \n",
      "SCZ        37.900000  0.600000   1.0  0.145106  13.400000  15.300000   \n",
      "\n",
      "            wais_lns   wais_voc  \n",
      "diagnosis                        \n",
      "ADHD       20.058824  41.411765  \n",
      "BIPOLAR    20.210526  44.842105  \n",
      "CONTROL    21.146341  43.890244  \n",
      "SCZ        18.500000  31.500000  \n"
     ]
    }
   ],
   "source": [
    "labels = ['age','sex','site','mean_FD','edu_years','wais_mr','wais_lns','wais_voc']\n",
    "print(try_df1['diagnosis'].value_counts())\n",
    "print(try_df1.groupby(['diagnosis'])[labels].mean())"
   ]
  },
  {
   "cell_type": "code",
   "execution_count": 85,
   "metadata": {},
   "outputs": [
    {
     "name": "stdout",
     "output_type": "stream",
     "text": [
      "0=F,1=M\n",
      "diagnosis  sex\n",
      "ADHD       0       5\n",
      "           1      12\n",
      "BIPOLAR    0       7\n",
      "           1      14\n",
      "CONTROL    0      11\n",
      "           1       8\n",
      "SCZ        0       3\n",
      "           1      14\n",
      "Name: Sub_ID, dtype: int64\n"
     ]
    }
   ],
   "source": [
    "grouped_counts = try_df0.groupby(['diagnosis', 'sex'])['Sub_ID'].count()\n",
    "print('0=F,1=M')\n",
    "print(grouped_counts)"
   ]
  },
  {
   "cell_type": "code",
   "execution_count": 86,
   "metadata": {},
   "outputs": [
    {
     "name": "stdout",
     "output_type": "stream",
     "text": [
      "0=F,1=M\n",
      "diagnosis  sex\n",
      "ADHD       0      11\n",
      "           1       6\n",
      "BIPOLAR    0      12\n",
      "           1       7\n",
      "CONTROL    0      39\n",
      "           1      43\n",
      "SCZ        0       4\n",
      "           1       6\n",
      "Name: Sub_ID, dtype: int64\n"
     ]
    }
   ],
   "source": [
    "grouped_counts = try_df1.groupby(['diagnosis', 'sex'])['Sub_ID'].count()\n",
    "print('0=F,1=M')\n",
    "print(grouped_counts)"
   ]
  },
  {
   "cell_type": "code",
   "execution_count": 114,
   "metadata": {},
   "outputs": [
    {
     "name": "stdout",
     "output_type": "stream",
     "text": [
      "            Comparison        Var      Test   p-value  Effect size\n",
      "0       CONTROL vs SCZ        age    t-test  0.126611        0.519\n",
      "1   CONTROL vs BIPOLAR        age    t-test  0.116856        0.511\n",
      "2      CONTROL vs ADHD        age    t-test  0.534030        0.212\n",
      "3       SCZ vs BIPOLAR        age    t-test  0.989985        0.004\n",
      "4          SCZ vs ADHD        age    t-test  0.482427        0.244\n",
      "5      BIPOLAR vs ADHD        age    t-test  0.478050        0.242\n",
      "6       CONTROL vs SCZ        sex  X^2 test  0.033126        0.355\n",
      "7   CONTROL vs BIPOLAR        sex  X^2 test  0.214586        0.196\n",
      "8      CONTROL vs ADHD        sex  X^2 test  0.167266        0.230\n",
      "9       SCZ vs BIPOLAR        sex  X^2 test  0.470659        0.117\n",
      "10         SCZ vs ADHD        sex  X^2 test  0.685989        0.069\n",
      "11     BIPOLAR vs ADHD        sex  X^2 test  0.926418        0.015\n",
      "12      CONTROL vs SCZ  edu_years    t-test  0.000014        1.689\n",
      "13  CONTROL vs BIPOLAR  edu_years    t-test  0.111222        0.517\n",
      "14     CONTROL vs ADHD  edu_years    t-test  0.701735        0.130\n",
      "15      SCZ vs BIPOLAR  edu_years    t-test  0.000983        1.170\n",
      "16         SCZ vs ADHD  edu_years    t-test  0.000258        1.416\n",
      "17     BIPOLAR vs ADHD  edu_years    t-test  0.304192        0.347\n",
      "18      CONTROL vs SCZ    mean_FD    t-test  0.012892        0.895\n",
      "19  CONTROL vs BIPOLAR    mean_FD    t-test  0.093359        0.539\n",
      "20     CONTROL vs ADHD    mean_FD    t-test  0.875583        0.051\n",
      "21      SCZ vs BIPOLAR    mean_FD    t-test  0.324386        0.328\n",
      "22         SCZ vs ADHD    mean_FD    t-test  0.004591        1.089\n",
      "23     BIPOLAR vs ADHD    mean_FD    t-test  0.036883        0.662\n",
      "24      CONTROL vs SCZ    wais_mr    t-test  0.000149        1.464\n",
      "25  CONTROL vs BIPOLAR    wais_mr    t-test  0.483585        0.224\n",
      "26     CONTROL vs ADHD    wais_mr    t-test  0.712859        0.123\n",
      "27      SCZ vs BIPOLAR    wais_mr    t-test  0.000734        1.248\n",
      "28         SCZ vs ADHD    wais_mr    t-test  0.000282        1.420\n",
      "29     BIPOLAR vs ADHD    wais_mr    t-test  0.719203        0.116\n",
      "30      CONTROL vs SCZ   wais_lns    t-test  0.000252        1.368\n",
      "31  CONTROL vs BIPOLAR   wais_lns    t-test  0.034475        0.696\n",
      "32     CONTROL vs ADHD   wais_lns    t-test  0.183768        0.454\n",
      "33      SCZ vs BIPOLAR   wais_lns    t-test  0.041750        0.693\n",
      "34         SCZ vs ADHD   wais_lns    t-test  0.013207        0.900\n",
      "35     BIPOLAR vs ADHD   wais_lns    t-test  0.490650        0.229\n",
      "36      CONTROL vs SCZ   wais_voc    t-test  0.000085        1.487\n",
      "37  CONTROL vs BIPOLAR   wais_voc    t-test  0.484965        0.221\n",
      "38     CONTROL vs ADHD   wais_voc    t-test  0.960848        0.016\n",
      "39      SCZ vs BIPOLAR   wais_voc    t-test  0.001303        1.113\n",
      "40         SCZ vs ADHD   wais_voc    t-test  0.000098        1.526\n",
      "41     BIPOLAR vs ADHD   wais_voc    t-test  0.462443        0.237\n"
     ]
    },
    {
     "name": "stderr",
     "output_type": "stream",
     "text": [
      "/home/gabridele/miniconda3/envs/neuroimg/lib/python3.12/site-packages/pingouin/contingency.py:151: UserWarning: Low count on observed frequencies.\n",
      "  warnings.warn(f\"Low count on {name} frequencies.\")\n",
      "/home/gabridele/miniconda3/envs/neuroimg/lib/python3.12/site-packages/pingouin/contingency.py:151: UserWarning: Low count on observed frequencies.\n",
      "  warnings.warn(f\"Low count on {name} frequencies.\")\n",
      "/home/gabridele/miniconda3/envs/neuroimg/lib/python3.12/site-packages/pingouin/contingency.py:151: UserWarning: Low count on expected frequencies.\n",
      "  warnings.warn(f\"Low count on {name} frequencies.\")\n",
      "/home/gabridele/miniconda3/envs/neuroimg/lib/python3.12/site-packages/pingouin/contingency.py:151: UserWarning: Low count on observed frequencies.\n",
      "  warnings.warn(f\"Low count on {name} frequencies.\")\n",
      "/home/gabridele/miniconda3/envs/neuroimg/lib/python3.12/site-packages/pingouin/contingency.py:151: UserWarning: Low count on expected frequencies.\n",
      "  warnings.warn(f\"Low count on {name} frequencies.\")\n"
     ]
    }
   ],
   "source": [
    "labels_site = ['age','sex','edu_years', 'mean_FD', 'wais_mr','wais_lns','wais_voc']\n",
    "site0_test = all_groups_stats(try_df0, labels=labels_site)\n",
    "print(site0_test)"
   ]
  },
  {
   "cell_type": "code",
   "execution_count": 113,
   "metadata": {},
   "outputs": [
    {
     "name": "stdout",
     "output_type": "stream",
     "text": [
      "            Comparison        Var      Test   p-value  Effect size\n",
      "0       CONTROL vs SCZ        age    t-test  0.108307        0.700\n",
      "1   CONTROL vs BIPOLAR        age    t-test  0.344646        0.265\n",
      "2      CONTROL vs ADHD        age    t-test  0.815619        0.069\n",
      "3       SCZ vs BIPOLAR        age    t-test  0.357753        0.381\n",
      "4          SCZ vs ADHD        age    t-test  0.194919        0.550\n",
      "5      BIPOLAR vs ADHD        age    t-test  0.597912        0.178\n",
      "6       CONTROL vs SCZ        sex  X^2 test  0.907054        0.012\n",
      "7   CONTROL vs BIPOLAR        sex  X^2 test  0.331750        0.097\n",
      "8      CONTROL vs ADHD        sex  X^2 test  0.307603        0.103\n",
      "9       SCZ vs BIPOLAR        sex  X^2 test  0.424220        0.148\n",
      "10         SCZ vs ADHD        sex  X^2 test  0.397231        0.163\n",
      "11     BIPOLAR vs ADHD        sex  X^2 test  0.801821        0.042\n",
      "12      CONTROL vs SCZ  edu_years    t-test  0.015547        1.034\n",
      "13  CONTROL vs BIPOLAR  edu_years    t-test  0.634736        0.143\n",
      "14     CONTROL vs ADHD  edu_years    t-test  0.169273        0.399\n",
      "15      SCZ vs BIPOLAR  edu_years    t-test  0.062429        0.733\n",
      "16         SCZ vs ADHD  edu_years    t-test  0.157936        0.589\n",
      "17     BIPOLAR vs ADHD  edu_years    t-test  0.522674        0.214\n",
      "18      CONTROL vs SCZ    mean_FD    t-test  0.731952        0.106\n",
      "19  CONTROL vs BIPOLAR    mean_FD    t-test  0.134058        0.506\n",
      "20     CONTROL vs ADHD    mean_FD    t-test  0.034402        0.394\n",
      "21      SCZ vs BIPOLAR    mean_FD    t-test  0.311092        0.345\n",
      "22         SCZ vs ADHD    mean_FD    t-test  0.144742        0.702\n",
      "23     BIPOLAR vs ADHD    mean_FD    t-test  0.018243        0.812\n",
      "24      CONTROL vs SCZ    wais_mr    t-test  0.000763        1.393\n",
      "25  CONTROL vs BIPOLAR    wais_mr    t-test  0.161311        0.413\n",
      "26     CONTROL vs ADHD    wais_mr    t-test  0.898208        0.036\n",
      "27      SCZ vs BIPOLAR    wais_mr    t-test  0.025317        0.855\n",
      "28         SCZ vs ADHD    wais_mr    t-test  0.002157        1.330\n",
      "29     BIPOLAR vs ADHD    wais_mr    t-test  0.305419        0.345\n",
      "30      CONTROL vs SCZ   wais_lns    t-test  0.007520        0.882\n",
      "31  CONTROL vs BIPOLAR   wais_lns    t-test  0.233999        0.307\n",
      "32     CONTROL vs ADHD   wais_lns    t-test  0.144419        0.363\n",
      "33      SCZ vs BIPOLAR   wais_lns    t-test  0.110699        0.605\n",
      "34         SCZ vs ADHD   wais_lns    t-test  0.132809        0.610\n",
      "35     BIPOLAR vs ADHD   wais_lns    t-test  0.872841        0.053\n",
      "36      CONTROL vs SCZ   wais_voc    t-test  0.000634        1.507\n",
      "37  CONTROL vs BIPOLAR   wais_voc    t-test  0.642688        0.116\n",
      "38     CONTROL vs ADHD   wais_voc    t-test  0.383653        0.284\n",
      "39      SCZ vs BIPOLAR   wais_voc    t-test  0.000405        1.686\n",
      "40         SCZ vs ADHD   wais_voc    t-test  0.011843        1.002\n",
      "41     BIPOLAR vs ADHD   wais_voc    t-test  0.291647        0.365\n"
     ]
    },
    {
     "name": "stderr",
     "output_type": "stream",
     "text": [
      "/home/gabridele/miniconda3/envs/neuroimg/lib/python3.12/site-packages/pingouin/contingency.py:151: UserWarning: Low count on observed frequencies.\n",
      "  warnings.warn(f\"Low count on {name} frequencies.\")\n",
      "/home/gabridele/miniconda3/envs/neuroimg/lib/python3.12/site-packages/pingouin/contingency.py:151: UserWarning: Low count on expected frequencies.\n",
      "  warnings.warn(f\"Low count on {name} frequencies.\")\n",
      "/home/gabridele/miniconda3/envs/neuroimg/lib/python3.12/site-packages/pingouin/contingency.py:151: UserWarning: Low count on observed frequencies.\n",
      "  warnings.warn(f\"Low count on {name} frequencies.\")\n",
      "/home/gabridele/miniconda3/envs/neuroimg/lib/python3.12/site-packages/pingouin/contingency.py:151: UserWarning: Low count on expected frequencies.\n",
      "  warnings.warn(f\"Low count on {name} frequencies.\")\n",
      "/home/gabridele/miniconda3/envs/neuroimg/lib/python3.12/site-packages/pingouin/contingency.py:151: UserWarning: Low count on observed frequencies.\n",
      "  warnings.warn(f\"Low count on {name} frequencies.\")\n",
      "/home/gabridele/miniconda3/envs/neuroimg/lib/python3.12/site-packages/pingouin/contingency.py:151: UserWarning: Low count on expected frequencies.\n",
      "  warnings.warn(f\"Low count on {name} frequencies.\")\n"
     ]
    }
   ],
   "source": [
    "labels_site = ['age','sex','edu_years', 'mean_FD', 'wais_mr','wais_lns','wais_voc']\n",
    "site1_test = all_groups_stats(try_df1, labels=labels_site)\n",
    "print(site1_test)"
   ]
  },
  {
   "cell_type": "code",
   "execution_count": 119,
   "metadata": {},
   "outputs": [],
   "source": [
    "with pd.ExcelWriter('/home/gabridele/Desktop/preproc_psych/allstats-tests.xlsx') as writer:\n",
    "    seconddropping__results.to_excel(writer, sheet_name='seconddropping__results', index=False)\n",
    "    thirddropping__results.to_excel(writer, sheet_name='thirddropping__results', index=False)\n",
    "    site0_test.to_excel(writer, sheet_name='site0_test', index=False)\n",
    "    site1_test.to_excel(writer, sheet_name='site1_test', index=False)"
   ]
  }
 ],
 "metadata": {
  "kernelspec": {
   "display_name": "neuroimg",
   "language": "python",
   "name": "python3"
  },
  "language_info": {
   "codemirror_mode": {
    "name": "ipython",
    "version": 3
   },
   "file_extension": ".py",
   "mimetype": "text/x-python",
   "name": "python",
   "nbconvert_exporter": "python",
   "pygments_lexer": "ipython3",
   "version": "3.9.7"
  }
 },
 "nbformat": 4,
 "nbformat_minor": 2
}
